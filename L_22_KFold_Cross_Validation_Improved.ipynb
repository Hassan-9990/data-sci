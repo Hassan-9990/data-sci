{
 "cells": [
  {
   "cell_type": "markdown",
   "id": "de51c6d4-bbd4-4117-b3fd-36626665fa74",
   "metadata": {},
   "source": [
    "# L_22: K-Fold Cross Validation\n",
    "\n",
    "K-Fold Cross Validation is a robust way to evaluate model performance by training/testing on multiple subsets of the data."
   ]
  },
  {
   "cell_type": "code",
   "execution_count": null,
   "id": "e8b162df",
   "metadata": {},
   "outputs": [],
   "source": [
    "from sklearn.datasets import load_iris\n",
    "from sklearn.model_selection import cross_val_score, KFold\n",
    "from sklearn.linear_model import LogisticRegression\n",
    "import numpy as np"
   ]
  },
  {
   "cell_type": "code",
   "execution_count": null,
   "id": "13d3857e",
   "metadata": {},
   "outputs": [],
   "source": [
    "# Load dataset\n",
    "X, y = load_iris(return_X_y=True)"
   ]
  },
  {
   "cell_type": "code",
   "execution_count": null,
   "id": "6b752a2d",
   "metadata": {},
   "outputs": [],
   "source": [
    "# Initialize model and K-Fold\n",
    "model = LogisticRegression(max_iter=200)\n",
    "kf = KFold(n_splits=5, shuffle=True, random_state=42)"
   ]
  },
  {
   "cell_type": "code",
   "execution_count": null,
   "id": "09f67103",
   "metadata": {},
   "outputs": [],
   "source": [
    "# Apply cross-validation\n",
    "scores = cross_val_score(model, X, y, cv=kf)\n",
    "print(\"Fold scores:\", scores)\n",
    "print(\"Average score:\", np.mean(scores))"
   ]
  },
  {
   "cell_type": "markdown",
   "id": "1d532b9a-c724-4d49-9209-33fba7d3aeef",
   "metadata": {},
   "source": [
    "## 🔍 Benefits\n",
    "- Reduces variance in performance estimates\n",
    "- Ensures model is validated across multiple data splits\n",
    "- More reliable than a single train-test split"
   ]
  },
  {
   "cell_type": "markdown",
   "id": "a4ade3ae-816e-4561-b084-422506661db9",
   "metadata": {},
   "source": [
    "✅ **Use K-Fold when you need reliable model evaluation on small to medium datasets.**"
   ]
  },
  {
   "cell_type": "markdown",
   "id": "3fc4cb9d-dea5-430d-b29b-10df1de7b9be",
   "metadata": {},
   "source": [
    "# L_22: K-Fold Cross Validation\n",
    "\n",
    "K-Fold Cross Validation is a robust way to evaluate model performance by training/testing on multiple subsets of the data."
   ]
  },
  {
   "cell_type": "code",
   "execution_count": 1,
   "id": "fa9a5439-be9f-4f07-b9ac-c11dd7236997",
   "metadata": {},
   "outputs": [],
   "source": [
    "from sklearn.datasets import load_iris\n",
    "from sklearn.model_selection import cross_val_score, KFold\n",
    "from sklearn.linear_model import LogisticRegression\n",
    "import numpy as np"
   ]
  },
  {
   "cell_type": "code",
   "execution_count": 2,
   "id": "e6b40317-e01c-46c5-b25b-74975262f610",
   "metadata": {},
   "outputs": [],
   "source": [
    "# Load dataset\n",
    "X, y = load_iris(return_X_y=True)"
   ]
  },
  {
   "cell_type": "code",
   "execution_count": 3,
   "id": "0e27f5e0-3a1e-41c8-8549-74152f3b7041",
   "metadata": {},
   "outputs": [],
   "source": [
    "# Initialize model and K-Fold\n",
    "model = LogisticRegression(max_iter=200)\n",
    "kf = KFold(n_splits=5, shuffle=True, random_state=42)"
   ]
  },
  {
   "cell_type": "code",
   "execution_count": 4,
   "id": "fc69a2fa-c0da-4660-9fe5-dd341efe980f",
   "metadata": {},
   "outputs": [
    {
     "name": "stdout",
     "output_type": "stream",
     "text": [
      "Fold scores: [1.         1.         0.93333333 0.96666667 0.96666667]\n",
      "Average score: 0.9733333333333334\n"
     ]
    }
   ],
   "source": [
    "# Apply cross-validation\n",
    "scores = cross_val_score(model, X, y, cv=kf)\n",
    "print(\"Fold scores:\", scores)\n",
    "print(\"Average score:\", np.mean(scores))"
   ]
  },
  {
   "cell_type": "markdown",
   "id": "da524998-41d7-4138-9cc2-8cbb6572dc45",
   "metadata": {},
   "source": [
    "## 🔍 Benefits\n",
    "- Reduces variance in performance estimates\n",
    "- Ensures model is validated across multiple data splits\n",
    "- More reliable than a single train-test split"
   ]
  },
  {
   "cell_type": "markdown",
   "id": "82c52c1f-c6c5-4533-b1af-c422a7408f86",
   "metadata": {},
   "source": [
    "✅ **Use K-Fold when you need reliable model evaluation on small to medium datasets.**"
   ]
  },
  {
   "cell_type": "markdown",
   "id": "a750c419-6622-44b9-99e4-ece7abe38f28",
   "metadata": {},
   "source": [
    "✅ **Use K-Fold when you need reliable model evaluation on small to medium datasets.**"
   ]
  }
 ],
 "metadata": {
  "kernelspec": {
   "display_name": "Python 3 (ipykernel)",
   "language": "python",
   "name": "python3"
  },
  "language_info": {
   "codemirror_mode": {
    "name": "ipython",
    "version": 3
   },
   "file_extension": ".py",
   "mimetype": "text/x-python",
   "name": "python",
   "nbconvert_exporter": "python",
   "pygments_lexer": "ipython3",
   "version": "3.12.7"
  }
 },
 "nbformat": 4,
 "nbformat_minor": 5
}
