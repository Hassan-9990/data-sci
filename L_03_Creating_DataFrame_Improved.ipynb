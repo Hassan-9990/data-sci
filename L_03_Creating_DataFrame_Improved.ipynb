{
 "cells": [
  {
   "cell_type": "markdown",
   "id": "f3833298-666b-465a-938f-4994c64a85ad",
   "metadata": {},
   "source": [
    "# L_03: Creating DataFrames with Pandas\n",
    "\n",
    "A DataFrame is a two-dimensional labeled data structure with columns of potentially different types.\n",
    "\n",
    "pandas is a Python library for data analysis. It offers a number of data exploration, cleaning and transformation operations that are critical in working with data in Python.\n",
    "\n",
    "pandas build upon numpy and scipy providing easy-to-use data structures and data manipulation functions with integrated indexing.\n",
    "\n",
    "The main data structures pandas provides are Series and DataFrames. After a brief introduction to these two data structures and data ingestion, the key features of pandas this notebook covers are:\n",
    "\n",
    "-Generating descriptive statistics on data\n",
    "-Data cleaning using built in pandas functions\n",
    "\n",
    "-Frequent data operations for subsetting, filtering, insertion, deletion and aggregation of data\n",
    "\n",
    "-Merging multiple datasets using dataframes\n",
    "\n",
    "-Working with timestamps and time-series data\n",
    "\n",
    "Additional Recommended Resources:\n",
    "\n",
    "-pandas Documentation: http://pandas.pydata.org/pandas-docs/stable/\n",
    "\n",
    "-Python for Data Analysis by Wes McKinney\n",
    "\n",
    "-Python Data Science Handbook by Jake VanderPlas\n",
    "\n",
    " Let's get started with our first pandas notebook!"
   ]
  },
  {
   "cell_type": "code",
   "execution_count": null,
   "id": "9b68406d",
   "metadata": {},
   "outputs": [],
   "source": [
    "import pandas as pd\n",
    "\n",
    "# Creating DataFrame from a dictionary\n",
    "data = {\n",
    "    'Name': ['Alice', 'Bob', 'Charlie'],\n",
    "    'Age': [25, 30, 35],\n",
    "    'City': ['New York', 'Los Angeles', 'Chicago']\n",
    "}\n",
    "df = pd.DataFrame(data)\n",
    "df"
   ]
  },
  {
   "cell_type": "markdown",
   "id": "ccc2978e-05d6-4f18-baf1-53dcee2388b3",
   "metadata": {},
   "source": [
    "### Creating DataFrame from a list of dictionaries"
   ]
  },
  {
   "cell_type": "code",
   "execution_count": null,
   "id": "a1a74d10",
   "metadata": {},
   "outputs": [],
   "source": [
    "data_list = [\n",
    "    {'Name': 'David', 'Age': 28, 'City': 'Seattle'},\n",
    "    {'Name': 'Eva', 'Age': 22, 'City': 'Boston'}\n",
    "]\n",
    "df2 = pd.DataFrame(data_list)\n",
    "df2"
   ]
  },
  {
   "cell_type": "markdown",
   "id": "261d78c2",
   "metadata": {},
   "source": [
    "### Creating an empty DataFrame and adding data"
   ]
  },
  {
   "cell_type": "code",
   "execution_count": null,
   "id": "b9e831dd",
   "metadata": {},
   "outputs": [],
   "source": [
    "df_empty = pd.DataFrame(columns=['Name', 'Age'])\n",
    "df_empty.loc[0] = ['Frank', 40]\n",
    "df_empty"
   ]
  },
  {
   "cell_type": "markdown",
   "id": "134952f2-d572-4bfb-b9bb-812b1b70d4be",
   "metadata": {},
   "source": [
    "Creating DataFrame from lists of lists.¶"
   ]
  },
  {
   "cell_type": "code",
   "execution_count": null,
   "id": "b6becb7f-db50-49d6-855c-e2ede080ff6e",
   "metadata": {},
   "outputs": [],
   "source": [
    "# Import pandas library\n",
    "import pandas as pd\n",
    "\n",
    "# initialize list of lists\n",
    "data = [['tom', 10], ['nick', 15], ['juli', 14]]\n",
    "\n",
    "# Create the pandas DataFrame\n",
    "df = pd.DataFrame(data, columns =['Name', 'Age'])\n",
    "\n",
    "# print dataframe.\n",
    "df\n"
   ]
  },
  {
   "cell_type": "markdown",
   "id": "d57ba255-de22-495d-8bf4-08a8098bb99c",
   "metadata": {},
   "source": [
    "Creating a DataFrame from dictionary by proving index label explicitly."
   ]
  },
  {
   "cell_type": "code",
   "execution_count": null,
   "id": "7da70b46-ef91-46f9-8b86-5311d4445c49",
   "metadata": {},
   "outputs": [],
   "source": [
    "import pandas as pd\n",
    "\n",
    "# initialize data of lists.\n",
    "data = {'Name': ['Tom', 'Jack', 'nick', 'juli'],\n",
    "\t\t'marks': [99, 98, 95, 90]}\n",
    "\n",
    "# Creates pandas DataFrame.\n",
    "df = pd.DataFrame(data, index = ['rank1','rank2','rank3','rank4'])\n",
    "\n",
    "# print the data\n",
    "df\n"
   ]
  },
  {
   "cell_type": "markdown",
   "id": "82b2d871-5fec-4b39-ad86-73a54889ab4d",
   "metadata": {},
   "source": [
    "\n",
    " Creating DataFrame using zip() function.\n"
   ]
  },
  {
   "cell_type": "code",
   "execution_count": null,
   "id": "d9afd658-73f6-4502-a8e0-6089ead0ccc1",
   "metadata": {},
   "outputs": [],
   "source": [
    "import pandas as pd\n",
    "\n",
    "# List1\n",
    "Name = ['tom', 'krish', 'nick', 'juli']\n",
    "\n",
    "# List2\n",
    "Age = [25, 30, 26, 22]\n",
    "\n",
    "# get the list of tuples from two lists.\n",
    "# and merge them by using zip().\n",
    "data = list(zip(Name, Age))\n",
    "\n",
    "\n",
    "data\n",
    "\n",
    "# Converting data into pandas Dataframe.\n",
    "df = pd.DataFrame(data,columns=['Name', 'Age'])\n",
    "\n",
    "# Print data.\n",
    "df\n"
   ]
  },
  {
   "cell_type": "markdown",
   "id": "8510b5a9-d6c2-4e8a-a87d-c4df34b885a2",
   "metadata": {},
   "source": [
    "Creating dataframe from series¶"
   ]
  },
  {
   "cell_type": "code",
   "execution_count": null,
   "id": "f5feae81-a823-46c7-93db-bb401a45bd6c",
   "metadata": {},
   "outputs": [],
   "source": [
    "# Pandas Dataframe from series.\n",
    "\n",
    "import pandas as pd\n",
    "a = [10, 20, 30, 40]\n",
    "# Initialize data to series.\n",
    "data = pd.Series(a)\n",
    "data\n",
    "\n"
   ]
  },
  {
   "cell_type": "markdown",
   "id": "829af72b-5698-4402-8194-5508ae39788e",
   "metadata": {},
   "source": [
    "Creating DataFrame from Dictionary of series.\n"
   ]
  },
  {
   "cell_type": "code",
   "execution_count": null,
   "id": "4b019a00-27d9-4cf4-b1f8-1c6693f3d989",
   "metadata": {},
   "outputs": [],
   "source": [
    "import pandas as pd\n",
    "\n",
    "# Initialize data to Dicts of series.\n",
    "data = {'one': pd.Series([10, 20, 30],index=['a', 'b', 'c']),\n",
    "\t    'two': pd.Series([40, 50, 60],index=['a', 'b', 'c'])}\n",
    "\n",
    "# creates Dataframe.\n",
    "df = pd.DataFrame(data)\n",
    "\n",
    "# print the data.\n",
    "df\n"
   ]
  },
  {
   "cell_type": "markdown",
   "id": "fea0ab13-17a0-4796-af95-fc3b6942540d",
   "metadata": {},
   "source": [
    "Creating a DataFrame by passing a NumPy array, with a datetime index and labeled columns:"
   ]
  },
  {
   "cell_type": "code",
   "execution_count": null,
   "id": "389da8f7-ac47-46ce-bc0f-2348375fb249",
   "metadata": {},
   "outputs": [],
   "source": [
    "import pandas as pd \n",
    "import numpy as np\n",
    "dates = pd.date_range( \"20240101\", periods=7)\n",
    "dates\n",
    "\n",
    "df = pd.DataFrame(data=np.random.randn(7, 4), index=dates, columns=list(\"ABCD\"))\n",
    "df"
   ]
  },
  {
   "cell_type": "markdown",
   "id": "fa008b9b-7ce7-4d5c-b5a8-1feb7bd9dd53",
   "metadata": {},
   "source": [
    "Creating a DataFrame by passing a dictionary of objects that can be converted into a series-like structure:"
   ]
  },
  {
   "cell_type": "code",
   "execution_count": null,
   "id": "85ff9b1c-5ae5-491c-aa5c-6c69eed44363",
   "metadata": {},
   "outputs": [],
   "source": [
    "df2 = pd.DataFrame(\n",
    "                        {\n",
    "                            \"A\": 1,\n",
    "                            \"B\": pd.Timestamp(\"20220330\"),\n",
    "                            \"C\": pd.Series(1, index=list(range(4,8)), dtype=\"float32\"),\n",
    "                            \"D\": np.array([3]*4, dtype=\"int32\"),\n",
    "                            \"E\": pd.Categorical([\"Nice\", 45, \"Done\", \"Good\"]),\n",
    "                            \"F\": pd.Series([1,2,3,4],index=list(range(4,8))),\n",
    "                            \"G\": pd.date_range(\"20230101\",periods=4)\n",
    "                            \n",
    "                        }\n",
    "                    )\n",
    "df2\n"
   ]
  },
  {
   "cell_type": "markdown",
   "id": "fb74b90e-8a60-45db-bb6f-0abee8b38d53",
   "metadata": {},
   "source": [
    "L_03: Creating DataFrames with Pandas\n",
    "\n",
    "A DataFrame is a two-dimensional labeled data structure with columns of potentially different types.\n",
    "\n",
    "pandas is a Python library for data analysis. It offers a number of data exploration, cleaning and transformation operations that are critical in working with data in Python.\n",
    "\n",
    "pandas build upon numpy and scipy providing easy-to-use data structures and data manipulation functions with integrated indexing.\n",
    "\n",
    "The main data structures pandas provides are Series and DataFrames. After a brief introduction to these two data structures and data ingestion, the key features of pandas this notebook covers are:\n",
    "\n",
    "-Generating descriptive statistics on data -Data cleaning using built in pandas functions\n",
    "\n",
    "-Frequent data operations for subsetting, filtering, insertion, deletion and aggregation of data\n",
    "\n",
    "-Merging multiple datasets using dataframes\n",
    "\n",
    "-Working with timestamps and time-series data\n",
    "\n",
    "Additional Recommended Resources:\n",
    "\n",
    "-pandas Documentation: http://pandas.pydata.org/pandas-docs/stable/\n",
    "\n",
    "-Python for Data Analysis by Wes McKinney\n",
    "\n",
    "-Python Data Science Handbook by Jake VanderPlas\n",
    "\n",
    "Let's get started with our first pandas notebook!\n",
    "\n"
   ]
  },
  {
   "cell_type": "code",
   "execution_count": 1,
   "id": "be50d8c8-cba8-42f5-8d9f-076142a05f04",
   "metadata": {},
   "outputs": [
    {
     "data": {
      "text/html": [
       "<div>\n",
       "<style scoped>\n",
       "    .dataframe tbody tr th:only-of-type {\n",
       "        vertical-align: middle;\n",
       "    }\n",
       "\n",
       "    .dataframe tbody tr th {\n",
       "        vertical-align: top;\n",
       "    }\n",
       "\n",
       "    .dataframe thead th {\n",
       "        text-align: right;\n",
       "    }\n",
       "</style>\n",
       "<table border=\"1\" class=\"dataframe\">\n",
       "  <thead>\n",
       "    <tr style=\"text-align: right;\">\n",
       "      <th></th>\n",
       "      <th>Name</th>\n",
       "      <th>Age</th>\n",
       "      <th>City</th>\n",
       "    </tr>\n",
       "  </thead>\n",
       "  <tbody>\n",
       "    <tr>\n",
       "      <th>0</th>\n",
       "      <td>Alice</td>\n",
       "      <td>25</td>\n",
       "      <td>New York</td>\n",
       "    </tr>\n",
       "    <tr>\n",
       "      <th>1</th>\n",
       "      <td>Bob</td>\n",
       "      <td>30</td>\n",
       "      <td>Los Angeles</td>\n",
       "    </tr>\n",
       "    <tr>\n",
       "      <th>2</th>\n",
       "      <td>Charlie</td>\n",
       "      <td>35</td>\n",
       "      <td>Chicago</td>\n",
       "    </tr>\n",
       "  </tbody>\n",
       "</table>\n",
       "</div>"
      ],
      "text/plain": [
       "      Name  Age         City\n",
       "0    Alice   25     New York\n",
       "1      Bob   30  Los Angeles\n",
       "2  Charlie   35      Chicago"
      ]
     },
     "execution_count": 1,
     "metadata": {},
     "output_type": "execute_result"
    }
   ],
   "source": [
    "import pandas as pd\n",
    "\n",
    "# Creating DataFrame from a dictionary\n",
    "data = {\n",
    "    'Name': ['Alice', 'Bob', 'Charlie'],\n",
    "    'Age': [25, 30, 35],\n",
    "    'City': ['New York', 'Los Angeles', 'Chicago']\n",
    "}\n",
    "df = pd.DataFrame(data)\n",
    "df"
   ]
  },
  {
   "cell_type": "markdown",
   "id": "e315ee0d-738c-4f09-853e-6876095b9acb",
   "metadata": {},
   "source": [
    "Creating DataFrame from a list of dictionaries"
   ]
  },
  {
   "cell_type": "code",
   "execution_count": 2,
   "id": "9c232bb1-548f-44ea-b944-5c90d180065c",
   "metadata": {},
   "outputs": [
    {
     "data": {
      "text/html": [
       "<div>\n",
       "<style scoped>\n",
       "    .dataframe tbody tr th:only-of-type {\n",
       "        vertical-align: middle;\n",
       "    }\n",
       "\n",
       "    .dataframe tbody tr th {\n",
       "        vertical-align: top;\n",
       "    }\n",
       "\n",
       "    .dataframe thead th {\n",
       "        text-align: right;\n",
       "    }\n",
       "</style>\n",
       "<table border=\"1\" class=\"dataframe\">\n",
       "  <thead>\n",
       "    <tr style=\"text-align: right;\">\n",
       "      <th></th>\n",
       "      <th>Name</th>\n",
       "      <th>Age</th>\n",
       "      <th>City</th>\n",
       "    </tr>\n",
       "  </thead>\n",
       "  <tbody>\n",
       "    <tr>\n",
       "      <th>0</th>\n",
       "      <td>David</td>\n",
       "      <td>28</td>\n",
       "      <td>Seattle</td>\n",
       "    </tr>\n",
       "    <tr>\n",
       "      <th>1</th>\n",
       "      <td>Eva</td>\n",
       "      <td>22</td>\n",
       "      <td>Boston</td>\n",
       "    </tr>\n",
       "  </tbody>\n",
       "</table>\n",
       "</div>"
      ],
      "text/plain": [
       "    Name  Age     City\n",
       "0  David   28  Seattle\n",
       "1    Eva   22   Boston"
      ]
     },
     "execution_count": 2,
     "metadata": {},
     "output_type": "execute_result"
    }
   ],
   "source": [
    "data_list = [\n",
    "    {'Name': 'David', 'Age': 28, 'City': 'Seattle'},\n",
    "    {'Name': 'Eva', 'Age': 22, 'City': 'Boston'}\n",
    "]\n",
    "df2 = pd.DataFrame(data_list)\n",
    "df2"
   ]
  },
  {
   "cell_type": "markdown",
   "id": "b136ccc8-1dd2-4e07-bd21-01e309657c9f",
   "metadata": {},
   "source": [
    "Creating DataFrame from lists of lists.¶\n",
    "\n"
   ]
  },
  {
   "cell_type": "code",
   "execution_count": 3,
   "id": "778f9b03-024a-4f2f-99a0-075ab8dd22b5",
   "metadata": {},
   "outputs": [
    {
     "data": {
      "text/html": [
       "<div>\n",
       "<style scoped>\n",
       "    .dataframe tbody tr th:only-of-type {\n",
       "        vertical-align: middle;\n",
       "    }\n",
       "\n",
       "    .dataframe tbody tr th {\n",
       "        vertical-align: top;\n",
       "    }\n",
       "\n",
       "    .dataframe thead th {\n",
       "        text-align: right;\n",
       "    }\n",
       "</style>\n",
       "<table border=\"1\" class=\"dataframe\">\n",
       "  <thead>\n",
       "    <tr style=\"text-align: right;\">\n",
       "      <th></th>\n",
       "      <th>Name</th>\n",
       "      <th>Age</th>\n",
       "    </tr>\n",
       "  </thead>\n",
       "  <tbody>\n",
       "    <tr>\n",
       "      <th>0</th>\n",
       "      <td>tom</td>\n",
       "      <td>10</td>\n",
       "    </tr>\n",
       "    <tr>\n",
       "      <th>1</th>\n",
       "      <td>nick</td>\n",
       "      <td>15</td>\n",
       "    </tr>\n",
       "    <tr>\n",
       "      <th>2</th>\n",
       "      <td>juli</td>\n",
       "      <td>14</td>\n",
       "    </tr>\n",
       "  </tbody>\n",
       "</table>\n",
       "</div>"
      ],
      "text/plain": [
       "   Name  Age\n",
       "0   tom   10\n",
       "1  nick   15\n",
       "2  juli   14"
      ]
     },
     "execution_count": 3,
     "metadata": {},
     "output_type": "execute_result"
    }
   ],
   "source": [
    "# Import pandas library\n",
    "import pandas as pd\n",
    "\n",
    "# initialize list of lists\n",
    "data = [['tom', 10], ['nick', 15], ['juli', 14]]\n",
    "\n",
    "# Create the pandas DataFrame\n",
    "df = pd.DataFrame(data, columns =['Name', 'Age'])\n",
    "\n",
    "# print dataframe.\n",
    "df\n"
   ]
  },
  {
   "cell_type": "markdown",
   "id": "81ea8e25-d1a3-4a2c-b582-20665b5a0432",
   "metadata": {},
   "source": [
    "Creating a DataFrame from dictionary by proving index label explicitly."
   ]
  },
  {
   "cell_type": "code",
   "execution_count": 4,
   "id": "13e480f3-0ada-422c-8804-7f5862973b0a",
   "metadata": {},
   "outputs": [
    {
     "data": {
      "text/html": [
       "<div>\n",
       "<style scoped>\n",
       "    .dataframe tbody tr th:only-of-type {\n",
       "        vertical-align: middle;\n",
       "    }\n",
       "\n",
       "    .dataframe tbody tr th {\n",
       "        vertical-align: top;\n",
       "    }\n",
       "\n",
       "    .dataframe thead th {\n",
       "        text-align: right;\n",
       "    }\n",
       "</style>\n",
       "<table border=\"1\" class=\"dataframe\">\n",
       "  <thead>\n",
       "    <tr style=\"text-align: right;\">\n",
       "      <th></th>\n",
       "      <th>Name</th>\n",
       "      <th>marks</th>\n",
       "    </tr>\n",
       "  </thead>\n",
       "  <tbody>\n",
       "    <tr>\n",
       "      <th>rank1</th>\n",
       "      <td>Tom</td>\n",
       "      <td>99</td>\n",
       "    </tr>\n",
       "    <tr>\n",
       "      <th>rank2</th>\n",
       "      <td>Jack</td>\n",
       "      <td>98</td>\n",
       "    </tr>\n",
       "    <tr>\n",
       "      <th>rank3</th>\n",
       "      <td>nick</td>\n",
       "      <td>95</td>\n",
       "    </tr>\n",
       "    <tr>\n",
       "      <th>rank4</th>\n",
       "      <td>juli</td>\n",
       "      <td>90</td>\n",
       "    </tr>\n",
       "  </tbody>\n",
       "</table>\n",
       "</div>"
      ],
      "text/plain": [
       "       Name  marks\n",
       "rank1   Tom     99\n",
       "rank2  Jack     98\n",
       "rank3  nick     95\n",
       "rank4  juli     90"
      ]
     },
     "execution_count": 4,
     "metadata": {},
     "output_type": "execute_result"
    }
   ],
   "source": [
    "import pandas as pd\n",
    "\n",
    "# initialize data of lists.\n",
    "data = {'Name': ['Tom', 'Jack', 'nick', 'juli'],\n",
    "\t\t'marks': [99, 98, 95, 90]}\n",
    "\n",
    "# Creates pandas DataFrame.\n",
    "df = pd.DataFrame(data, index = ['rank1','rank2','rank3','rank4'])\n",
    "\n",
    "# print the data\n",
    "df\n"
   ]
  },
  {
   "cell_type": "markdown",
   "id": "a1a5f672-519f-4dd2-9c88-7f5512dc3ed0",
   "metadata": {},
   "source": [
    "Creating DataFrame using zip() function."
   ]
  },
  {
   "cell_type": "code",
   "execution_count": 5,
   "id": "d131b827-0abd-4675-b442-0d7a6b6ed665",
   "metadata": {},
   "outputs": [
    {
     "data": {
      "text/html": [
       "<div>\n",
       "<style scoped>\n",
       "    .dataframe tbody tr th:only-of-type {\n",
       "        vertical-align: middle;\n",
       "    }\n",
       "\n",
       "    .dataframe tbody tr th {\n",
       "        vertical-align: top;\n",
       "    }\n",
       "\n",
       "    .dataframe thead th {\n",
       "        text-align: right;\n",
       "    }\n",
       "</style>\n",
       "<table border=\"1\" class=\"dataframe\">\n",
       "  <thead>\n",
       "    <tr style=\"text-align: right;\">\n",
       "      <th></th>\n",
       "      <th>Name</th>\n",
       "      <th>Age</th>\n",
       "    </tr>\n",
       "  </thead>\n",
       "  <tbody>\n",
       "    <tr>\n",
       "      <th>0</th>\n",
       "      <td>tom</td>\n",
       "      <td>25</td>\n",
       "    </tr>\n",
       "    <tr>\n",
       "      <th>1</th>\n",
       "      <td>krish</td>\n",
       "      <td>30</td>\n",
       "    </tr>\n",
       "    <tr>\n",
       "      <th>2</th>\n",
       "      <td>nick</td>\n",
       "      <td>26</td>\n",
       "    </tr>\n",
       "    <tr>\n",
       "      <th>3</th>\n",
       "      <td>juli</td>\n",
       "      <td>22</td>\n",
       "    </tr>\n",
       "  </tbody>\n",
       "</table>\n",
       "</div>"
      ],
      "text/plain": [
       "    Name  Age\n",
       "0    tom   25\n",
       "1  krish   30\n",
       "2   nick   26\n",
       "3   juli   22"
      ]
     },
     "execution_count": 5,
     "metadata": {},
     "output_type": "execute_result"
    }
   ],
   "source": [
    "import pandas as pd\n",
    "\n",
    "# List1\n",
    "Name = ['tom', 'krish', 'nick', 'juli']\n",
    "\n",
    "# List2\n",
    "Age = [25, 30, 26, 22]\n",
    "\n",
    "# get the list of tuples from two lists.\n",
    "# and merge them by using zip().\n",
    "data = list(zip(Name, Age))\n",
    "\n",
    "\n",
    "data\n",
    "\n",
    "# Converting data into pandas Dataframe.\n",
    "df = pd.DataFrame(data,columns=['Name', 'Age'])\n",
    "\n",
    "# Print data.\n",
    "df\n"
   ]
  },
  {
   "cell_type": "markdown",
   "id": "1728f268-3aea-485e-a555-bab4d7eef17d",
   "metadata": {},
   "source": [
    "Creating dataframe from series"
   ]
  },
  {
   "cell_type": "code",
   "execution_count": 6,
   "id": "a21ade7c-7f49-4acf-b558-80111f8e6efa",
   "metadata": {},
   "outputs": [
    {
     "data": {
      "text/plain": [
       "0    10\n",
       "1    20\n",
       "2    30\n",
       "3    40\n",
       "dtype: int64"
      ]
     },
     "execution_count": 6,
     "metadata": {},
     "output_type": "execute_result"
    }
   ],
   "source": [
    "# Pandas Dataframe from series.\n",
    "\n",
    "import pandas as pd\n",
    "a = [10, 20, 30, 40]\n",
    "# Initialize data to series.\n",
    "data = pd.Series(a)\n",
    "data\n",
    "\n"
   ]
  },
  {
   "cell_type": "markdown",
   "id": "558d873a-3a37-4f46-b02c-f4cfb0085ccb",
   "metadata": {},
   "source": [
    "Creating DataFrame from Dictionary of series."
   ]
  },
  {
   "cell_type": "code",
   "execution_count": 7,
   "id": "e10d20e8-d229-4954-9ffc-206a26d591a5",
   "metadata": {},
   "outputs": [
    {
     "data": {
      "text/html": [
       "<div>\n",
       "<style scoped>\n",
       "    .dataframe tbody tr th:only-of-type {\n",
       "        vertical-align: middle;\n",
       "    }\n",
       "\n",
       "    .dataframe tbody tr th {\n",
       "        vertical-align: top;\n",
       "    }\n",
       "\n",
       "    .dataframe thead th {\n",
       "        text-align: right;\n",
       "    }\n",
       "</style>\n",
       "<table border=\"1\" class=\"dataframe\">\n",
       "  <thead>\n",
       "    <tr style=\"text-align: right;\">\n",
       "      <th></th>\n",
       "      <th>one</th>\n",
       "      <th>two</th>\n",
       "    </tr>\n",
       "  </thead>\n",
       "  <tbody>\n",
       "    <tr>\n",
       "      <th>a</th>\n",
       "      <td>10</td>\n",
       "      <td>40</td>\n",
       "    </tr>\n",
       "    <tr>\n",
       "      <th>b</th>\n",
       "      <td>20</td>\n",
       "      <td>50</td>\n",
       "    </tr>\n",
       "    <tr>\n",
       "      <th>c</th>\n",
       "      <td>30</td>\n",
       "      <td>60</td>\n",
       "    </tr>\n",
       "  </tbody>\n",
       "</table>\n",
       "</div>"
      ],
      "text/plain": [
       "   one  two\n",
       "a   10   40\n",
       "b   20   50\n",
       "c   30   60"
      ]
     },
     "execution_count": 7,
     "metadata": {},
     "output_type": "execute_result"
    }
   ],
   "source": [
    "import pandas as pd\n",
    "\n",
    "# Initialize data to Dicts of series.\n",
    "data = {'one': pd.Series([10, 20, 30],index=['a', 'b', 'c']),\n",
    "\t    'two': pd.Series([40, 50, 60],index=['a', 'b', 'c'])}\n",
    "\n",
    "# creates Dataframe.\n",
    "df = pd.DataFrame(data)\n",
    "\n",
    "# print the data.\n",
    "df"
   ]
  },
  {
   "cell_type": "markdown",
   "id": "780f69a9-8cb7-42e5-bdc9-ae40529e74b0",
   "metadata": {},
   "source": [
    "Creating a DataFrame by passing a NumPy array, with a datetime index and labeled columns:\n",
    "\n"
   ]
  },
  {
   "cell_type": "code",
   "execution_count": 8,
   "id": "bd6d9646-2f16-47d6-b1fd-e8e7314ef8c4",
   "metadata": {},
   "outputs": [
    {
     "data": {
      "text/html": [
       "<div>\n",
       "<style scoped>\n",
       "    .dataframe tbody tr th:only-of-type {\n",
       "        vertical-align: middle;\n",
       "    }\n",
       "\n",
       "    .dataframe tbody tr th {\n",
       "        vertical-align: top;\n",
       "    }\n",
       "\n",
       "    .dataframe thead th {\n",
       "        text-align: right;\n",
       "    }\n",
       "</style>\n",
       "<table border=\"1\" class=\"dataframe\">\n",
       "  <thead>\n",
       "    <tr style=\"text-align: right;\">\n",
       "      <th></th>\n",
       "      <th>A</th>\n",
       "      <th>B</th>\n",
       "      <th>C</th>\n",
       "      <th>D</th>\n",
       "    </tr>\n",
       "  </thead>\n",
       "  <tbody>\n",
       "    <tr>\n",
       "      <th>2024-01-01</th>\n",
       "      <td>0.413226</td>\n",
       "      <td>-0.225865</td>\n",
       "      <td>1.908024</td>\n",
       "      <td>-0.786649</td>\n",
       "    </tr>\n",
       "    <tr>\n",
       "      <th>2024-01-02</th>\n",
       "      <td>0.735362</td>\n",
       "      <td>0.609896</td>\n",
       "      <td>0.563017</td>\n",
       "      <td>-0.034371</td>\n",
       "    </tr>\n",
       "    <tr>\n",
       "      <th>2024-01-03</th>\n",
       "      <td>0.616108</td>\n",
       "      <td>-0.560597</td>\n",
       "      <td>0.228370</td>\n",
       "      <td>-2.135003</td>\n",
       "    </tr>\n",
       "    <tr>\n",
       "      <th>2024-01-04</th>\n",
       "      <td>0.766504</td>\n",
       "      <td>-0.337294</td>\n",
       "      <td>-0.374272</td>\n",
       "      <td>-0.254830</td>\n",
       "    </tr>\n",
       "    <tr>\n",
       "      <th>2024-01-05</th>\n",
       "      <td>1.966979</td>\n",
       "      <td>1.759300</td>\n",
       "      <td>-0.469377</td>\n",
       "      <td>1.576319</td>\n",
       "    </tr>\n",
       "    <tr>\n",
       "      <th>2024-01-06</th>\n",
       "      <td>0.538068</td>\n",
       "      <td>-0.179700</td>\n",
       "      <td>0.067105</td>\n",
       "      <td>-0.698732</td>\n",
       "    </tr>\n",
       "    <tr>\n",
       "      <th>2024-01-07</th>\n",
       "      <td>-0.233091</td>\n",
       "      <td>-1.257570</td>\n",
       "      <td>-0.235078</td>\n",
       "      <td>-0.514196</td>\n",
       "    </tr>\n",
       "  </tbody>\n",
       "</table>\n",
       "</div>"
      ],
      "text/plain": [
       "                   A         B         C         D\n",
       "2024-01-01  0.413226 -0.225865  1.908024 -0.786649\n",
       "2024-01-02  0.735362  0.609896  0.563017 -0.034371\n",
       "2024-01-03  0.616108 -0.560597  0.228370 -2.135003\n",
       "2024-01-04  0.766504 -0.337294 -0.374272 -0.254830\n",
       "2024-01-05  1.966979  1.759300 -0.469377  1.576319\n",
       "2024-01-06  0.538068 -0.179700  0.067105 -0.698732\n",
       "2024-01-07 -0.233091 -1.257570 -0.235078 -0.514196"
      ]
     },
     "execution_count": 8,
     "metadata": {},
     "output_type": "execute_result"
    }
   ],
   "source": [
    "import pandas as pd \n",
    "import numpy as np\n",
    "dates = pd.date_range( \"20240101\", periods=7)\n",
    "dates\n",
    "\n",
    "df = pd.DataFrame(data=np.random.randn(7, 4), index=dates, columns=list(\"ABCD\"))\n",
    "df"
   ]
  },
  {
   "cell_type": "markdown",
   "id": "fbd6e7d4-192a-4fed-b461-4228690579ca",
   "metadata": {},
   "source": [
    "Creating a DataFrame by passing a dictionary of objects that can be converted into a series-like structure:\n",
    "\n"
   ]
  },
  {
   "cell_type": "code",
   "execution_count": null,
   "id": "3e935fbb-475f-4b92-85ab-9bf875f24215",
   "metadata": {},
   "outputs": [],
   "source": [
    "df2 = pd.DataFrame(\n",
    "                        {\n",
    "                            \"A\": 1,\n",
    "                            \"B\": pd.Timestamp(\"20220330\"),\n",
    "                            \"C\": pd.Series(1, index=list(range(4,8)), dtype=\"float32\"),\n",
    "                            \"D\": np.array([3]*4, dtype=\"int32\"),\n",
    "                            \"E\": pd.Categorical([\"Nice\", 45, \"Done\", \"Good\"]),\n",
    "                            \"F\": pd.Series([1,2,3,4],index=list(range(4,8))),\n",
    "                            \"G\": pd.date_range(\"20230101\",periods=4)\n",
    "                            \n",
    "                        }\n",
    "                    )\n",
    "df2\n"
   ]
  }
 ],
 "metadata": {
  "kernelspec": {
   "display_name": "Python 3 (ipykernel)",
   "language": "python",
   "name": "python3"
  },
  "language_info": {
   "codemirror_mode": {
    "name": "ipython",
    "version": 3
   },
   "file_extension": ".py",
   "mimetype": "text/x-python",
   "name": "python",
   "nbconvert_exporter": "python",
   "pygments_lexer": "ipython3",
   "version": "3.12.7"
  }
 },
 "nbformat": 4,
 "nbformat_minor": 5
}
