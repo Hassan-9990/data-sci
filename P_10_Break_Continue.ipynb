{
 "cells": [
  {
   "cell_type": "code",
   "execution_count": null,
   "id": "48f3d889",
   "metadata": {},
   "outputs": [],
   "source": [
    "# Break, Continue, Pass\n",
    "\n",
    "for i in range(5):\n",
    "    if i == 3:\n",
    "        break\n",
    "    print(\"Break example:\", i)\n",
    "\n",
    "for i in range(5):\n",
    "    if i == 2:\n",
    "        continue\n",
    "    print(\"Continue example:\", i)\n",
    "\n",
    "for i in range(5):\n",
    "    if i == 4:\n",
    "        pass  # placeholder\n",
    "    print(\"Pass example:\", i)\n",
    "\n",
    "# Q1 Use break to exit on specific input\n",
    "# Q2  a = [1, 2, 3, 4, 5]\n",
    "# Q3.print 1,2,3 from list 'a' using indexing\n",
    "# Q4.print 1,2,3 from list 'a' using for loop\n",
    "# Q5.print multiplication of all the numbers in list 'a' using for loop\n",
    "# Q6.print table of 'x' using range function\n",
    "#   a = [1, 2, 3, 4]\n",
    "# Q7.print squares of all elements of list 'a', in the list\n",
    "# Q8.take an int input from user print the factorial of that number.\n",
    "#   (factorial is: Product of an integer and all the integers below it)\n",
    "# Q9.Print 1 to 30,for multiple of,\n",
    "#    3 print \"three\"\n",
    "#    5 print \"five\"\n",
    "#    15 print \"fifteen\"\n",
    "# Q10.print prime numbers till 50\n",
    "\n",
    "\n",
    "\n"
   ]
  },
  {
   "cell_type": "markdown",
   "id": "eb218cae-9ac1-4374-8233-f16f960a8014",
   "metadata": {},
   "source": [
    "# Break, Continue, Pass"
   ]
  },
  {
   "cell_type": "code",
   "execution_count": 3,
   "id": "0ee90fa3-9771-432f-9a9e-61a0d1383dca",
   "metadata": {},
   "outputs": [
    {
     "name": "stdout",
     "output_type": "stream",
     "text": [
      "Break example: 0\n",
      "Break example: 1\n",
      "Break example: 2\n",
      "Continue example: 0\n",
      "Continue example: 1\n",
      "Continue example: 3\n",
      "Continue example: 4\n",
      "Pass example: 0\n",
      "Pass example: 1\n",
      "Pass example: 2\n",
      "Pass example: 3\n",
      "Pass example: 4\n"
     ]
    }
   ],
   "source": [
    "for i in range(5):\n",
    "    if i == 3:\n",
    "        break\n",
    "    print(\"Break example:\", i)\n",
    "\n",
    "for i in range(5):\n",
    "    if i == 2:\n",
    "        continue\n",
    "    print(\"Continue example:\", i)\n",
    "\n",
    "for i in range(5):\n",
    "    if i == 4:\n",
    "        pass  # placeholder\n",
    "    print(\"Pass example:\", i)\n"
   ]
  },
  {
   "cell_type": "code",
   "execution_count": null,
   "id": "089027a5-3272-4ca8-a4b4-75ce6eb8b2a1",
   "metadata": {},
   "outputs": [],
   "source": [
    "# Q1 Use break to exit on specific input\n",
    "# Q2  a = [1, 2, 3, 4, 5]\n",
    "# Q3.print 1,2,3 from list 'a' using indexing\n",
    "# Q4.print 1,2,3 from list 'a' using for loop\n",
    "# Q5.print multiplication of all the numbers in list 'a' using for loop\n",
    "# Q6.print table of 'x' using range function\n",
    "#   a = [1, 2, 3, 4]\n",
    "# Q7.print squares of all elements of list 'a', in the list\n",
    "# Q8.take an int input from user print the factorial of that number.\n",
    "#   (factorial is: Product of an integer and all the integers below it)\n",
    "# Q9.Print 1 to 30,for multiple of,\n",
    "#    3 print \"three\"\n",
    "#    5 print \"five\"\n",
    "#    15 print \"fifteen\"\n",
    "# Q10.print prime numbers till 50\n",
    "\n"
   ]
  }
 ],
 "metadata": {
  "kernelspec": {
   "display_name": "Python 3 (ipykernel)",
   "language": "python",
   "name": "python3"
  },
  "language_info": {
   "codemirror_mode": {
    "name": "ipython",
    "version": 3
   },
   "file_extension": ".py",
   "mimetype": "text/x-python",
   "name": "python",
   "nbconvert_exporter": "python",
   "pygments_lexer": "ipython3",
   "version": "3.12.7"
  }
 },
 "nbformat": 4,
 "nbformat_minor": 5
}
