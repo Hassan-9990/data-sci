{
 "cells": [
  {
   "cell_type": "code",
   "execution_count": null,
   "id": "159c2493",
   "metadata": {},
   "outputs": [],
   "source": [
    "# While Loop\n",
    "\n",
    "# Need to update the condition to end the loop\n",
    "\n",
    "# Types of Nested loops\n",
    "# 1.\"for loop\" within \"for loop\"\n",
    "# 2.\"for loop\" within  \"while loop\"\n",
    "# 3. \"while loop\" within  \"while loop\"\n",
    "\n",
    "\n",
    "# while loop\n",
    "i = 0\n",
    "while i < 5:\n",
    "    print(\"i =\", i)\n",
    "    i += 1\n",
    "\n",
    "# Infinite loop with break\n",
    "while True:\n",
    "    print(\"Breaking...\")\n",
    "    break\n",
    "\n",
    "# Q1: Print numbers from 10 to 1 using while\n",
    "# Q2.using while loop check if number is less than 5\n",
    "# Q3.take a number from user print the addition of all the numbers\n",
    "# below it,for example if input =3 output = 6(3+2+1)\n",
    "# Q4.print python using while loop\n",
    "# str1 = 'pythonfunctions'\n",
    "# Q5.print function from str1 using while loop\n",
    "# Q6.print factorial of number given by user using while loop\n",
    "\n",
    "\n",
    "# End of session\n",
    "\n",
    "\n",
    "\n"
   ]
  },
  {
   "cell_type": "markdown",
   "id": "1346dbaf-9856-40c6-b93d-bfd2739a1bc2",
   "metadata": {},
   "source": [
    "# While Loop\n",
    "\n",
    "# Need to update the condition to end the loop\n",
    "\n",
    "# Types of Nested loops\n",
    "# 1.\"for loop\" within \"for loop\"\n",
    "# 2.\"for loop\" within  \"while loop\"\n",
    "# 3. \"while loop\" within  \"while loop\"\n",
    "\n"
   ]
  },
  {
   "cell_type": "code",
   "execution_count": 1,
   "id": "f976a2df-1b66-4919-bf1e-d521e341055c",
   "metadata": {},
   "outputs": [
    {
     "name": "stdout",
     "output_type": "stream",
     "text": [
      "i = 0\n",
      "i = 1\n",
      "i = 2\n",
      "i = 3\n",
      "i = 4\n"
     ]
    }
   ],
   "source": [
    "# while loop\n",
    "i = 0\n",
    "while i < 5:\n",
    "    print(\"i =\", i)\n",
    "    i += 1\n"
   ]
  },
  {
   "cell_type": "code",
   "execution_count": 2,
   "id": "c5b8d8d8-b8dc-4aac-a720-d0e7c4116d8c",
   "metadata": {},
   "outputs": [
    {
     "name": "stdout",
     "output_type": "stream",
     "text": [
      "Breaking...\n"
     ]
    }
   ],
   "source": [
    "# Infinite loop with break\n",
    "while True:\n",
    "    print(\"Breaking...\")\n",
    "    break"
   ]
  },
  {
   "cell_type": "code",
   "execution_count": null,
   "id": "b70b75b2-b2d7-46d5-95d7-07c368b3768a",
   "metadata": {},
   "outputs": [],
   "source": [
    "# Q1: Print numbers from 10 to 1 using while\n",
    "# Q2.using while loop check if number is less than 5\n",
    "# Q3.take a number from user print the addition of all the numbers\n",
    "# below it,for example if input =3 output = 6(3+2+1)\n",
    "# Q4.print python using while loop\n",
    "# str1 = 'pythonfunctions'\n",
    "# Q5.print function from str1 using while loop\n",
    "# Q6.print factorial of number given by user using while loop\n",
    "\n",
    "\n",
    "# End of session\n"
   ]
  }
 ],
 "metadata": {
  "kernelspec": {
   "display_name": "Python 3 (ipykernel)",
   "language": "python",
   "name": "python3"
  },
  "language_info": {
   "codemirror_mode": {
    "name": "ipython",
    "version": 3
   },
   "file_extension": ".py",
   "mimetype": "text/x-python",
   "name": "python",
   "nbconvert_exporter": "python",
   "pygments_lexer": "ipython3",
   "version": "3.12.7"
  }
 },
 "nbformat": 4,
 "nbformat_minor": 5
}
