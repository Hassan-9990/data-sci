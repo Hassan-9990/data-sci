{
 "cells": [
  {
   "cell_type": "code",
   "execution_count": null,
   "id": "7b91fac1",
   "metadata": {},
   "outputs": [],
   "source": [
    "# For Loop\n",
    "\n",
    "for i in range(5):\n",
    "    print(\"i =\", i)\n",
    "\n",
    "# \"for with else\" loop\n",
    "list_of_colors = ['red', 'blue', 'pink']\n",
    "for color in list_of_colors:\n",
    "print(color)\n",
    "else:\n",
    "print('All colours are printed')  \n",
    "\n",
    "# square all elements in list\n",
    "list1 = []\n",
    "numbers = [1, 2, 3, 4]\n",
    "for i in numbers:\n",
    "     d = i * i\n",
    "     list1.append(d)\n",
    " print(list1)\n",
    "\n",
    "# Using range function\n",
    "for i in range(4):\n",
    "    print(i)\n",
    "\n",
    " for i in range(1, 5):\n",
    "     print(i)\n",
    "\n",
    " for i in range(3, 31, 3):\n",
    "     print(i)\n",
    "\n",
    "\n",
    "\n",
    "# triangle\n",
    "b = 1\n",
    "a = 5\n",
    "for i in range(a):\n",
    "     for j in range(b):\n",
    "         print('#', end=\"  \")\n",
    "     print()\n",
    "     b = b + 1\n",
    "\n",
    "# Enumerate function\n",
    "list_of_words = ['good', 28, 'bad', 'good']\n",
    " for i, v in enumerate(list_of_words):\n",
    "     print(i, v)\n",
    "\n",
    "\n",
    "# Q1. Write a program to print multiplication table\n",
    "# Q2.Take year as input from user print message\n",
    "# if that year is leap year or not.\n",
    "\n",
    "# Q3.Take unit as input from user and print electric bill accordingly\n",
    "#    for first 100 units - no charge,then for each 100 units Rs 5 per unit flat.\n",
    "#    0-100 unit is Rs 0\n",
    "#    100-200 unit is Rs 5\n",
    "#    example:if user gives 102 units,\n",
    "#    then unit should be 5 and bill should Rs 10.\n",
    "\n",
    "# Q4. print elements in the list using for loop\n",
    "#     c = ['red', 'blue', 'white', 'orange']\n",
    "# Q5. check if \"white\" is present in list,if yes print a message as \"found\"\n",
    "#     and at what index.(with loop and without loop)\n",
    "# Q6. print a square pattern,both it's diagonals,hollow square,\n",
    "#     triangle,inverted triangle,hollow triangle\n",
    "# Q7. Print  \"1\" one time to \"9\" nine times.\n",
    "# Q8. Count the occurrences of all elements in the list?\n",
    "#     using list comprehension\n",
    "\n",
    "\n",
    "#End of session"
   ]
  },
  {
   "cell_type": "markdown",
   "id": "181d01a8-ee32-4ded-b780-bb100fad6479",
   "metadata": {},
   "source": [
    "# For Loop"
   ]
  },
  {
   "cell_type": "code",
   "execution_count": 1,
   "id": "bc0fcbd1-6cbb-45a1-bd63-6db3162d0cf9",
   "metadata": {},
   "outputs": [
    {
     "name": "stdout",
     "output_type": "stream",
     "text": [
      "i = 0\n",
      "i = 1\n",
      "i = 2\n",
      "i = 3\n",
      "i = 4\n"
     ]
    }
   ],
   "source": [
    "# sipmle for loop\n",
    "for i in range(5):\n",
    "    print(\"i =\", i)"
   ]
  },
  {
   "cell_type": "code",
   "execution_count": 4,
   "id": "dfc4e3e6-54f4-4f5b-a945-48406e550f16",
   "metadata": {},
   "outputs": [
    {
     "name": "stdout",
     "output_type": "stream",
     "text": [
      "red\n",
      "blue\n",
      "pink\n",
      "All colours are printed\n"
     ]
    }
   ],
   "source": [
    "# \"for with else\" loop\n",
    "list_of_colors = ['red', 'blue', 'pink']\n",
    "for color in list_of_colors:\n",
    " print(color)\n",
    "else:\n",
    " print('All colours are printed')  "
   ]
  },
  {
   "cell_type": "code",
   "execution_count": 7,
   "id": "a7181c32-9442-4386-a85a-9489b95189c1",
   "metadata": {},
   "outputs": [
    {
     "name": "stdout",
     "output_type": "stream",
     "text": [
      "[1, 4, 9, 16]\n"
     ]
    }
   ],
   "source": [
    "# square all elements in list\n",
    "list1 = []\n",
    "numbers = [1, 2, 3, 4]\n",
    "for i in numbers:\n",
    "     d = i * i\n",
    "     list1.append(d)\n",
    "print(list1)\n"
   ]
  },
  {
   "cell_type": "code",
   "execution_count": 10,
   "id": "a2826384-c098-4142-8ad2-e60b56592a85",
   "metadata": {},
   "outputs": [
    {
     "name": "stdout",
     "output_type": "stream",
     "text": [
      "0\n",
      "1\n",
      "2\n",
      "3\n",
      "1\n",
      "2\n",
      "3\n",
      "4\n",
      "3\n",
      "6\n",
      "9\n",
      "12\n",
      "15\n",
      "18\n",
      "21\n",
      "24\n",
      "27\n",
      "30\n"
     ]
    }
   ],
   "source": [
    "# Using range function\n",
    "for i in range(4):\n",
    "    print(i)\n",
    "\n",
    "for i in range(1, 5):\n",
    "     print(i)\n",
    "\n",
    "for i in range(3, 31, 3):\n",
    "     print(i)"
   ]
  },
  {
   "cell_type": "code",
   "execution_count": 11,
   "id": "e854a543-fa42-49a5-833e-80315259afa5",
   "metadata": {},
   "outputs": [
    {
     "name": "stdout",
     "output_type": "stream",
     "text": [
      "#  \n",
      "#  #  \n",
      "#  #  #  \n",
      "#  #  #  #  \n",
      "#  #  #  #  #  \n"
     ]
    }
   ],
   "source": [
    "# triangle(add on)\n",
    "b = 1\n",
    "a = 5\n",
    "for i in range(a):\n",
    "     for j in range(b):\n",
    "         print('#', end=\"  \")\n",
    "     print()\n",
    "     b = b + 1\n"
   ]
  },
  {
   "cell_type": "code",
   "execution_count": 13,
   "id": "4f86344b-45d9-4cdc-b4f9-235bd9a70e7a",
   "metadata": {},
   "outputs": [
    {
     "name": "stdout",
     "output_type": "stream",
     "text": [
      "0 good\n",
      "1 28\n",
      "2 bad\n",
      "3 good\n"
     ]
    }
   ],
   "source": [
    "# Enumerate function(add on)\n",
    "list_of_words = ['good', 28, 'bad', 'good']\n",
    "for i, v in enumerate(list_of_words):\n",
    "     print(i, v)"
   ]
  },
  {
   "cell_type": "code",
   "execution_count": null,
   "id": "cede7886-459c-457f-b3b7-211c223ca678",
   "metadata": {},
   "outputs": [],
   "source": [
    "# Q1. Write a program to print multiplication table\n",
    "# Q2.Take year as input from user print message\n",
    "# if that year is leap year or not.\n",
    "\n",
    "# Q3.Take unit as input from user and print electric bill accordingly\n",
    "#    for first 100 units - no charge,then for each 100 units Rs 5 per unit flat.\n",
    "#    0-100 unit is Rs 0\n",
    "#    100-200 unit is Rs 5\n",
    "#    example:if user gives 102 units,\n",
    "#    then unit should be 5 and bill should Rs 10.\n",
    "\n",
    "# Q4. print elements in the list using for loop\n",
    "#     c = ['red', 'blue', 'white', 'orange']\n",
    "# Q5. check if \"white\" is present in list,if yes print a message as \"found\"\n",
    "#     and at what index.(with loop and without loop)\n",
    "# Q6. print a square pattern,both it's diagonals,hollow square,\n",
    "#     triangle,inverted triangle,hollow triangle\n",
    "# Q7. Print  \"1\" one time to \"9\" nine times.\n",
    "# Q8. Count the occurrences of all elements in the list?\n",
    "#     using list comprehension\n",
    "\n",
    "\n",
    "#End of session"
   ]
  }
 ],
 "metadata": {
  "kernelspec": {
   "display_name": "Python 3 (ipykernel)",
   "language": "python",
   "name": "python3"
  },
  "language_info": {
   "codemirror_mode": {
    "name": "ipython",
    "version": 3
   },
   "file_extension": ".py",
   "mimetype": "text/x-python",
   "name": "python",
   "nbconvert_exporter": "python",
   "pygments_lexer": "ipython3",
   "version": "3.12.7"
  }
 },
 "nbformat": 4,
 "nbformat_minor": 5
}
