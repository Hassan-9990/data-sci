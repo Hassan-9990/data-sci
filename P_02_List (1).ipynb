{
 "cells": [
  {
   "cell_type": "code",
   "execution_count": null,
   "id": "1d3e85e9",
   "metadata": {},
   "outputs": [],
   "source": [
    "# Python Lists\n",
    "\n",
    "# -A list in Python is used to store the sequence of various types of data.\n",
    "# -lists are mutable type its mean we can modify its element after it is created.\n",
    "# -list is created by placing elements inside square brackets []\n",
    "# separated by comma.\n",
    "\n",
    "# 1. initializing list\n",
    "list0 = []\n",
    "print(list0)\n",
    "\n",
    "# Creating a list\n",
    "fruits = [\"apple\", \"banana\", \"cherry\"]\n",
    "print(\"List:\", fruits)\n",
    "\n",
    "# Indexing\n",
    "print(\"First item:\", fruits[0])\n",
    "print(\"Last item:\", fruits[-1])\n",
    "\n",
    "list1 = [1, 2, 3,'helo', 9, 4, 8, 7]\n",
    "list2 = [5, 6, \"Hi\", 7]\n",
    "#print(list1)\n",
    "\n",
    "#print(list1[:])  #to print all list elements\n",
    "\n",
    "#print(list1[2:7])  # to print values from 0 to 3th index\n",
    "\n",
    "#print(list2[3])  # to print value of 3rd index\n",
    "\n",
    "#print(list1[::3])  # to print in reverse order\n",
    "\n",
    "#print(list1[::])\n",
    "\n",
    "#print(list1[5:2:-2])  # to print list in reverser order but starting form index 4\n",
    "\n",
    "#print(list1[3][2])  # to print alphabet of index value 3 of  2nd position\n",
    "\n",
    "list1 = [1, 2, 3, 'helo', 4, 5, 3]\n",
    "\n",
    "# Slicing\n",
    "print(\"First two items:\", fruits[:2])\n",
    "\n",
    "# Modifying list\n",
    "fruits.append(\"mango\")\n",
    "print(\"After appending:\", fruits)\n",
    "\n",
    "fruits.remove(\"banana\")\n",
    "print(\"After removing banana:\", fruits)\n",
    "\n",
    "# Inserting at specific index\n",
    "fruits.insert(1, \"orange\")\n",
    "print(\"After inserting orange at index 1:\", fruits)\n",
    "\n",
    "# Looping through list\n",
    "print(\"Looping through list:\")\n",
    "for fruit in fruits:\n",
    "    print(fruit)\n",
    "\n",
    "# Sorting and reversing\n",
    "fruits.sort()\n",
    "print(\"Sorted list:\", fruits)\n",
    "\n",
    "fruits.reverse()\n",
    "print(\"Reversed list:\", fruits)\n",
    "\n",
    "# List comprehension\n",
    "squares = [x**2 for x in range(1, 6)]\n",
    "print(\"Squares using list comprehension:\", squares)\n",
    "\n",
    "# Checking membership\n",
    "print(\"Is 'apple' in list?\", \"apple\" in fruits)\n",
    "\n",
    "# count function\n",
    "print(list1.count('helo'))\n",
    "print(list1.count(3))\n",
    "\n",
    "list1 = [1, 2, 3, 'helo', 4, 5, 3, 9]\n",
    "\n",
    "#  len function\n",
    "#print(len(list1))\n",
    "\n",
    "a = len(list1)\n",
    "print(a+2)\n",
    "\n",
    "list_3 = [0, 1, 2, 3, 4, 5, 6]\n",
    "\n",
    "# 12. copy funtion\n",
    "list5 = list4.copy()\n",
    "print(list5)\n",
    "\n",
    "# 13 id function\n",
    "# id function basically print the id of the list\n",
    "list6 = [1, 2, 3, 4]\n",
    "list7 = list6  # creat view\n",
    "list8 = list6.copy()\n",
    "list9 = list6[:]\n",
    "\n",
    "#print(list6)\n",
    "#print(list7)\n",
    "#print(list8)\n",
    "#print(list9)\n",
    "\n",
    "print(id(list6))\n",
    "print(id(list7))\n",
    "print(id(list8))\n",
    "print(id(list9))\n",
    "\n",
    "list6.append(10)\n",
    "print(list9)\n",
    "\n",
    "# 14. pop function(use index)\n",
    "# pop function basically pop the element but it gets deleted from the orignal list\n",
    "list4 = [6, 2, 8, 1, 10, 4, 7, 3, 0, 5, 9]\n",
    "#list4.pop(2)\n",
    "r = list4.pop(2)\n",
    "print(r)\n",
    "print(list4)\n",
    "\n",
    "list4.insert(2,r)\n",
    "print(list4)\n",
    "\n",
    "\n",
    "list4 = [6, 2, 8,1, 10, 4, 7, 3, 0, 5, 9]\n",
    "# 15. remove function, for removing an element in the list (use values)\n",
    "list4.remove(8)\n",
    "print(list4)\n",
    "\n",
    "list4 = [6, 2, 8, 1, 10, 4, 7, 3, 0, 5, 9]\n",
    "\n",
    "\n",
    "# 16. del function,for deleting an element in the list(use index)\n",
    "del(list4[2])\n",
    "print(list4)\n",
    "\n",
    "list4 = [6, 2, 8, 1, 10, 4, 7, 3, 0, 5, 9]\n",
    "\n",
    "\n",
    "\n",
    "\n",
    "# 17. clear function, for clearing list\n",
    "list4.clear()  # all the elements are cleared\n",
    "print(list4)\n",
    "\n",
    "# 18. replace an element in list\n",
    "list5 = [6, 2, 8, 1, 10, 4, 7, 3, 0, 5, 9]\n",
    "list5[-2] = '5 is replaced'\n",
    "list5[3] = 35\n",
    "print(list5)\n",
    "\n",
    "# 19 join function\n",
    "weekdays = ['mon','tue','wed']\n",
    "a = ','.join(weekdays)\n",
    "print(type(a), '\\n', a)\n",
    "\n",
    "\n",
    "\n",
    "\n",
    "\n",
    "\n",
    "\n",
    "# Quiz-style practice (comments)\n",
    "# Q1. Add \"grape\" to the list and then sort it.\n",
    "# Q2. Create a list of even numbers from 2 to 10 using list comprehension.\n",
    "# Q3.add 'end' after python1 in list11\n",
    "# Q4. reverse list 'new'\n",
    "# new = [10,29,1,2,3,7,9,0,4,55]\n",
    "# Q5.only print sorted list in ascending and descending order\n",
    "# Q6.changing the list to sort descending order\n",
    "# Q7.deleting 3 from list 'new' (use index)\n",
    "# Q8.delete 29 from list 'new' (use values)\n",
    "# Q9.pop 9 from list 'new' (print the poped value and list)\n",
    "# Q10.copy new list\n",
    "# Q11. count '2' in list a\n",
    "# a=[1,2,12,2,2,2,3,3,4,4,5,5,6,6,7,7,8,9,9,5,6,5,7,6,7,6,3,4,5]\n",
    "# Q12.clear list\n",
    "# Q13.append \"cup\" in list11\n",
    "# Q14.extend \"tea\" in list12\n",
    "# Q15.add 32,41,56 in list 'new'\n",
    "# Q16.add 22,32,42 as one index in list'new'\n",
    "# Q17.replace '29' by 'done' in list 'new'\n",
    "\n",
    "\n"
   ]
  },
  {
   "cell_type": "markdown",
   "id": "765a05f6-2515-48e3-a93d-4e57bf7b0168",
   "metadata": {},
   "source": [
    "# Python Lists\n",
    "\n",
    "# -A list in Python is used to store the sequence of various types of data.\n",
    "# -lists are mutable type its mean we can modify its element after it is created.\n",
    "# -list is created by placing elements inside square brackets []\n",
    "# separated by comma.\n"
   ]
  },
  {
   "cell_type": "code",
   "execution_count": null,
   "id": "f0f5cb0c-d17c-41c9-9d1e-8d50bda83f0a",
   "metadata": {},
   "outputs": [],
   "source": [
    "# 1. initializing list\n",
    "list0 = []\n",
    "print(list0)\n"
   ]
  },
  {
   "cell_type": "code",
   "execution_count": 2,
   "id": "e11b1458-2c6a-4652-a0ad-94e84bcaf434",
   "metadata": {},
   "outputs": [
    {
     "name": "stdout",
     "output_type": "stream",
     "text": [
      "List: ['apple', 'banana', 'cherry']\n"
     ]
    }
   ],
   "source": [
    "# Creating a list\n",
    "fruits = [\"apple\", \"banana\", \"cherry\"]\n",
    "print(\"List:\", fruits)"
   ]
  },
  {
   "cell_type": "code",
   "execution_count": 3,
   "id": "c7392b7c-e494-4974-a81a-38216174d40d",
   "metadata": {},
   "outputs": [
    {
     "name": "stdout",
     "output_type": "stream",
     "text": [
      "First item: apple\n",
      "Last item: cherry\n"
     ]
    }
   ],
   "source": [
    "# Indexing\n",
    "print(\"First item:\", fruits[0])\n",
    "print(\"Last item:\", fruits[-1])"
   ]
  },
  {
   "cell_type": "code",
   "execution_count": 4,
   "id": "47e7a80e-a101-4934-8882-fd7222f92070",
   "metadata": {},
   "outputs": [
    {
     "name": "stdout",
     "output_type": "stream",
     "text": [
      "First two items: ['apple', 'banana']\n"
     ]
    }
   ],
   "source": [
    "# Slicing\n",
    "print(\"First two items:\", fruits[:2])\n"
   ]
  },
  {
   "cell_type": "code",
   "execution_count": 5,
   "id": "fe2b2308-b9d4-49e7-9b6f-7bf2eaf46d04",
   "metadata": {},
   "outputs": [
    {
     "name": "stdout",
     "output_type": "stream",
     "text": [
      "After appending: ['apple', 'banana', 'cherry', 'mango']\n"
     ]
    }
   ],
   "source": [
    "# Modifying list\n",
    "fruits.append(\"mango\")\n",
    "print(\"After appending:\", fruits)"
   ]
  },
  {
   "cell_type": "code",
   "execution_count": 6,
   "id": "d7729c37-f37d-44f4-9e24-2e13ff7f9678",
   "metadata": {},
   "outputs": [
    {
     "name": "stdout",
     "output_type": "stream",
     "text": [
      "After removing banana: ['apple', 'cherry', 'mango']\n"
     ]
    }
   ],
   "source": [
    "fruits.remove(\"banana\")\n",
    "print(\"After removing banana:\", fruits)\n"
   ]
  },
  {
   "cell_type": "code",
   "execution_count": 7,
   "id": "c0eeea5d-7e0a-4b96-a828-b8f3fc78c8b8",
   "metadata": {},
   "outputs": [
    {
     "name": "stdout",
     "output_type": "stream",
     "text": [
      "After inserting orange at index 1: ['apple', 'orange', 'cherry', 'mango']\n"
     ]
    }
   ],
   "source": [
    "# Inserting at specific index\n",
    "fruits.insert(1, \"orange\")\n",
    "print(\"After inserting orange at index 1:\", fruits)\n"
   ]
  },
  {
   "cell_type": "code",
   "execution_count": 8,
   "id": "2fc665bf-e37d-4b20-b191-a17a299901fd",
   "metadata": {},
   "outputs": [
    {
     "name": "stdout",
     "output_type": "stream",
     "text": [
      "Looping through list:\n",
      "apple\n",
      "orange\n",
      "cherry\n",
      "mango\n"
     ]
    }
   ],
   "source": [
    "# Looping through list\n",
    "print(\"Looping through list:\")\n",
    "for fruit in fruits:\n",
    "    print(fruit)"
   ]
  },
  {
   "cell_type": "code",
   "execution_count": 9,
   "id": "f4873f37-9c6c-47d7-a712-501824b8ac7e",
   "metadata": {},
   "outputs": [
    {
     "name": "stdout",
     "output_type": "stream",
     "text": [
      "Sorted list: ['apple', 'cherry', 'mango', 'orange']\n"
     ]
    }
   ],
   "source": [
    "# Sorting and reversing\n",
    "fruits.sort()\n",
    "print(\"Sorted list:\", fruits)\n"
   ]
  },
  {
   "cell_type": "code",
   "execution_count": 10,
   "id": "b26f79ee-c5bd-41a6-99d6-1a1e5b6a7842",
   "metadata": {},
   "outputs": [
    {
     "name": "stdout",
     "output_type": "stream",
     "text": [
      "Reversed list: ['orange', 'mango', 'cherry', 'apple']\n"
     ]
    }
   ],
   "source": [
    "fruits.reverse()\n",
    "print(\"Reversed list:\", fruits)\n"
   ]
  },
  {
   "cell_type": "code",
   "execution_count": 11,
   "id": "07615001-d2af-481d-947a-f16a3972a04f",
   "metadata": {},
   "outputs": [
    {
     "name": "stdout",
     "output_type": "stream",
     "text": [
      "Squares using list comprehension: [1, 4, 9, 16, 25]\n"
     ]
    }
   ],
   "source": [
    "# List comprehension\n",
    "squares = [x**2 for x in range(1, 6)]\n",
    "print(\"Squares using list comprehension:\", squares)\n"
   ]
  },
  {
   "cell_type": "code",
   "execution_count": 12,
   "id": "cec3953b-8d68-413e-b356-7caf188aef4b",
   "metadata": {},
   "outputs": [
    {
     "name": "stdout",
     "output_type": "stream",
     "text": [
      "Is 'apple' in list? True\n"
     ]
    }
   ],
   "source": [
    "# Checking membership\n",
    "print(\"Is 'apple' in list?\", \"apple\" in fruits)\n"
   ]
  },
  {
   "cell_type": "code",
   "execution_count": 14,
   "id": "a79b66c9-92b0-4bb0-9158-8c1b0f9ea8b0",
   "metadata": {},
   "outputs": [
    {
     "name": "stdout",
     "output_type": "stream",
     "text": [
      "1\n",
      "2\n"
     ]
    }
   ],
   "source": [
    "# count function (add on)\n",
    "list1 = [1, 2, 3, 'helo', 4, 5, 3, 9]\n",
    "print(list1.count('helo'))\n",
    "print(list1.count(3))\n",
    "\n"
   ]
  },
  {
   "cell_type": "code",
   "execution_count": 16,
   "id": "1974ab34-09be-43ef-9e17-0dd4a53bccb8",
   "metadata": {},
   "outputs": [
    {
     "name": "stdout",
     "output_type": "stream",
     "text": [
      "10\n"
     ]
    }
   ],
   "source": [
    "#  len function(add on)\n",
    "list_3 = [0, 1, 2, 3, 4, 5, 6]\n",
    "\n",
    "a = len(list1)\n",
    "print(a+2)\n",
    "\n",
    "\n",
    "\n"
   ]
  },
  {
   "cell_type": "code",
   "execution_count": 18,
   "id": "d6bedc2b-1236-4a33-8a9e-57d0f8506446",
   "metadata": {},
   "outputs": [
    {
     "name": "stdout",
     "output_type": "stream",
     "text": [
      "[6, 2, 8, 1, 10, 4, 7, 3, 0, 5, 9]\n"
     ]
    }
   ],
   "source": [
    "#  copy funtion(add on)\n",
    "list4 = [6, 2, 8,1, 10, 4, 7, 3, 0, 5, 9]\n",
    "list5 = list4.copy()\n",
    "print(list5)"
   ]
  },
  {
   "cell_type": "code",
   "execution_count": 19,
   "id": "6a091234-88ca-42d6-a1d7-d9e222964151",
   "metadata": {},
   "outputs": [
    {
     "name": "stdout",
     "output_type": "stream",
     "text": [
      "2595319908992\n",
      "2595319908992\n",
      "2595319847168\n",
      "2595319912704\n",
      "[1, 2, 3, 4]\n"
     ]
    }
   ],
   "source": [
    "#id function(add on)\n",
    "# id function basically print the id of the list\n",
    "list6 = [1, 2, 3, 4]\n",
    "list7 = list6  # creat view\n",
    "list8 = list6.copy()\n",
    "list9 = list6[:]\n",
    "\n",
    "#print(list6)\n",
    "#print(list7)\n",
    "#print(list8)\n",
    "#print(list9)\n",
    "\n",
    "print(id(list6))\n",
    "print(id(list7))\n",
    "print(id(list8))\n",
    "print(id(list9))\n",
    "\n",
    "list6.append(10)\n",
    "print(list9)\n"
   ]
  },
  {
   "cell_type": "code",
   "execution_count": 20,
   "id": "23ba28d2-a4ec-4bd0-bb3a-26bb48a9b1ef",
   "metadata": {},
   "outputs": [
    {
     "name": "stdout",
     "output_type": "stream",
     "text": [
      "8\n",
      "[6, 2, 1, 10, 4, 7, 3, 0, 5, 9]\n",
      "[6, 2, 8, 1, 10, 4, 7, 3, 0, 5, 9]\n"
     ]
    }
   ],
   "source": [
    "# 14. pop function(use index)\n",
    "# pop function basically pop the element but it gets deleted from the orignal list\n",
    "list4 = [6, 2, 8, 1, 10, 4, 7, 3, 0, 5, 9]\n",
    "#list4.pop(2)\n",
    "r = list4.pop(2)\n",
    "print(r)\n",
    "print(list4)\n",
    "\n",
    "list4.insert(2,r)\n",
    "print(list4)"
   ]
  },
  {
   "cell_type": "code",
   "execution_count": 21,
   "id": "ec7ac819-28ee-4b61-9fa7-c738f7f8c842",
   "metadata": {},
   "outputs": [
    {
     "name": "stdout",
     "output_type": "stream",
     "text": [
      "[6, 2, 1, 10, 4, 7, 3, 0, 5, 9]\n"
     ]
    }
   ],
   "source": [
    "# 15. remove function, for removing an element in the list (use values)\n",
    "list4.remove(8)\n",
    "print(list4)"
   ]
  },
  {
   "cell_type": "code",
   "execution_count": 22,
   "id": "3617ba34-4f41-42ef-a75f-bff79341b00d",
   "metadata": {},
   "outputs": [
    {
     "name": "stdout",
     "output_type": "stream",
     "text": [
      "[6, 2, 1, 10, 4, 7, 3, 0, 5, 9]\n"
     ]
    }
   ],
   "source": [
    "#16. del function,for deleting an element in the list(use index)\n",
    "list4 = [6, 2, 8, 1, 10, 4, 7, 3, 0, 5, 9]\n",
    "del(list4[2])\n",
    "print(list4)\n",
    "\n"
   ]
  },
  {
   "cell_type": "code",
   "execution_count": null,
   "id": "85a04e8e-b746-448b-bdea-1963d7f353cb",
   "metadata": {},
   "outputs": [],
   "source": [
    "# Quiz-style practice (comments)\n",
    "# Q1. Add \"grape\" to the list and then sort it.\n",
    "# Q2. Create a list of even numbers from 2 to 10 using list comprehension.\n",
    "# Q3.add 'end' after python1 in list11\n",
    "# Q4. reverse list 'new'\n",
    "# new = [10,29,1,2,3,7,9,0,4,55]\n",
    "# Q5.only print sorted list in ascending and descending order\n",
    "# Q6.changing the list to sort descending order\n",
    "# Q7.deleting 3 from list 'new' (use index)\n",
    "# Q8.delete 29 from list 'new' (use values)\n",
    "# Q9.pop 9 from list 'new' (print the poped value and list)\n",
    "# Q10.copy new list\n",
    "# Q11. count '2' in list a\n",
    "# a=[1,2,12,2,2,2,3,3,4,4,5,5,6,6,7,7,8,9,9,5,6,5,7,6,7,6,3,4,5]\n",
    "# Q12.clear list\n",
    "# Q13.append \"cup\" in list11\n",
    "# Q14.extend \"tea\" in list12\n",
    "# Q15.add 32,41,56 in list 'new'\n",
    "# Q16.add 22,32,42 as one index in list'new'\n",
    "# Q17.replace '29' by 'done' in list 'new'\n",
    "\n",
    "# End of lesson"
   ]
  }
 ],
 "metadata": {
  "kernelspec": {
   "display_name": "Python 3 (ipykernel)",
   "language": "python",
   "name": "python3"
  },
  "language_info": {
   "codemirror_mode": {
    "name": "ipython",
    "version": 3
   },
   "file_extension": ".py",
   "mimetype": "text/x-python",
   "name": "python",
   "nbconvert_exporter": "python",
   "pygments_lexer": "ipython3",
   "version": "3.12.7"
  }
 },
 "nbformat": 4,
 "nbformat_minor": 5
}
