{
 "cells": [
  {
   "cell_type": "code",
   "execution_count": 1,
   "id": "4ac55013",
   "metadata": {},
   "outputs": [],
   "source": [
    "import numpy as np"
   ]
  },
  {
   "cell_type": "markdown",
   "id": "daff3dc1",
   "metadata": {},
   "source": [
    "### 1. Indexing and slicing of one dimensional array"
   ]
  },
  {
   "cell_type": "code",
   "execution_count": null,
   "id": "3e9ceaf6",
   "metadata": {},
   "outputs": [],
   "source": [
    "a = [1,2,3,4,5]              # same as in list\n",
    "array1 = np.array(a)\n",
    "array1"
   ]
  },
  {
   "cell_type": "code",
   "execution_count": null,
   "id": "98f5be9f",
   "metadata": {},
   "outputs": [],
   "source": [
    "print(array1[2])             # print element on 2nd index"
   ]
  },
  {
   "cell_type": "code",
   "execution_count": null,
   "id": "dce36886",
   "metadata": {},
   "outputs": [],
   "source": [
    "array1[2:4]                       # example of slicing"
   ]
  },
  {
   "cell_type": "code",
   "execution_count": null,
   "id": "ce00b5cf",
   "metadata": {},
   "outputs": [],
   "source": [
    "array1[0:5:2]                    # example of step slicing"
   ]
  },
  {
   "cell_type": "markdown",
   "id": "3005023f",
   "metadata": {},
   "source": [
    "###   2. Indexing and slicing of two dimensional array"
   ]
  },
  {
   "cell_type": "code",
   "execution_count": 3,
   "id": "f30ca6f5",
   "metadata": {},
   "outputs": [
    {
     "data": {
      "text/plain": [
       "array([[1, 2, 3],\n",
       "       [4, 5, 6],\n",
       "       [7, 8, 9]])"
      ]
     },
     "execution_count": 3,
     "metadata": {},
     "output_type": "execute_result"
    }
   ],
   "source": [
    "a = [[1,2,3],[4,5,6],[7,8,9]]\n",
    "array2 = np.array(a)\n",
    "array2"
   ]
  },
  {
   "cell_type": "code",
   "execution_count": null,
   "id": "16fc51d2",
   "metadata": {},
   "outputs": [],
   "source": [
    "print(array2[0,1])         # print 2 from first row"
   ]
  },
  {
   "cell_type": "code",
   "execution_count": null,
   "id": "e6dd846f",
   "metadata": {},
   "outputs": [],
   "source": [
    "array2[1,:]   # Using both integer indexing & slicing generates an array of lower rank"
   ]
  },
  {
   "cell_type": "code",
   "execution_count": null,
   "id": "675d0c7c",
   "metadata": {},
   "outputs": [],
   "source": [
    "array2[1:3]                  # examples of slicing"
   ]
  },
  {
   "cell_type": "code",
   "execution_count": null,
   "id": "188785ed",
   "metadata": {},
   "outputs": [],
   "source": [
    "array2[:2]                   "
   ]
  },
  {
   "cell_type": "code",
   "execution_count": null,
   "id": "eaadbe7a",
   "metadata": {},
   "outputs": [],
   "source": [
    "array2"
   ]
  },
  {
   "cell_type": "code",
   "execution_count": null,
   "id": "2b0f845e",
   "metadata": {},
   "outputs": [],
   "source": [
    "array2[2:]"
   ]
  },
  {
   "cell_type": "code",
   "execution_count": null,
   "id": "191d7c2b",
   "metadata": {},
   "outputs": [],
   "source": [
    "array2[:,2] "
   ]
  },
  {
   "cell_type": "code",
   "execution_count": null,
   "id": "cdd4a0c3",
   "metadata": {},
   "outputs": [],
   "source": [
    "array2[1:2,2:3]  # When you modify a slice, you actually modify the array."
   ]
  },
  {
   "cell_type": "code",
   "execution_count": null,
   "id": "11375740",
   "metadata": {},
   "outputs": [],
   "source": [
    "array2"
   ]
  },
  {
   "cell_type": "code",
   "execution_count": null,
   "id": "3d3fd077",
   "metadata": {},
   "outputs": [],
   "source": [
    "array2[1:2,:]  # Slicing alone: generates an array of the same rank as an_array\n",
    "               # Notice the [[ ]]   "
   ]
  },
  {
   "cell_type": "code",
   "execution_count": null,
   "id": "70633262",
   "metadata": {},
   "outputs": [],
   "source": [
    "array2[1,2:3]         "
   ]
  },
  {
   "cell_type": "code",
   "execution_count": null,
   "id": "6f487bcf",
   "metadata": {},
   "outputs": [],
   "source": [
    "array2[1,-2]                 # examples of negative indexing"
   ]
  },
  {
   "cell_type": "code",
   "execution_count": null,
   "id": "b3f17de0",
   "metadata": {},
   "outputs": [],
   "source": [
    "array2[-3:-1]              # examples of negative slicing"
   ]
  },
  {
   "cell_type": "markdown",
   "id": "414c6587",
   "metadata": {},
   "source": [
    "### 3. Indexing of third dimension "
   ]
  },
  {
   "cell_type": "code",
   "execution_count": null,
   "id": "9311fcc1",
   "metadata": {},
   "outputs": [],
   "source": [
    "array3 = np.array([   [ [1, 2, 3] , [4, 5, 6] ]   ,    [ [7, 8, 9], [10, 11, 12] ]   ])\n",
    "\n",
    "print(array3)"
   ]
  },
  {
   "cell_type": "code",
   "execution_count": null,
   "id": "072a57e9",
   "metadata": {},
   "outputs": [],
   "source": [
    "print(array3[1, 1, 2])"
   ]
  },
  {
   "cell_type": "markdown",
   "id": "fa964b1e",
   "metadata": {},
   "source": [
    "### 4. Iterating Arrays"
   ]
  },
  {
   "cell_type": "code",
   "execution_count": 3,
   "id": "544e8d5f",
   "metadata": {},
   "outputs": [
    {
     "name": "stdout",
     "output_type": "stream",
     "text": [
      "1\n",
      "2\n",
      "3\n"
     ]
    }
   ],
   "source": [
    "array1 = np.array([1, 2, 3])            # for one dimensional array\n",
    "\n",
    "for i in array1:\n",
    "  print(i)          \n"
   ]
  },
  {
   "cell_type": "code",
   "execution_count": 5,
   "id": "7a28965c",
   "metadata": {},
   "outputs": [
    {
     "data": {
      "text/plain": [
       "array([[1, 2, 3],\n",
       "       [4, 5, 6],\n",
       "       [7, 8, 9]])"
      ]
     },
     "execution_count": 5,
     "metadata": {},
     "output_type": "execute_result"
    }
   ],
   "source": [
    "array2"
   ]
  },
  {
   "cell_type": "code",
   "execution_count": 6,
   "id": "b49dfe14",
   "metadata": {},
   "outputs": [
    {
     "name": "stdout",
     "output_type": "stream",
     "text": [
      "[1 2 3]\n",
      "[4 5 6]\n",
      "[7 8 9]\n"
     ]
    }
   ],
   "source": [
    "for i in array2:          # for two dimensional array\n",
    "  print(i)           "
   ]
  },
  {
   "cell_type": "code",
   "execution_count": 7,
   "id": "862166b0",
   "metadata": {},
   "outputs": [
    {
     "name": "stdout",
     "output_type": "stream",
     "text": [
      "1\n",
      "2\n",
      "3\n",
      "4\n",
      "5\n",
      "6\n",
      "7\n",
      "8\n",
      "9\n"
     ]
    }
   ],
   "source": [
    "for x in array2:\n",
    "  for y in x:\n",
    "    print(y)"
   ]
  },
  {
   "cell_type": "code",
   "execution_count": 8,
   "id": "5744df0c",
   "metadata": {},
   "outputs": [
    {
     "name": "stdout",
     "output_type": "stream",
     "text": [
      "1   2   3   \n",
      "4   5   6   \n",
      "7   8   9   \n"
     ]
    }
   ],
   "source": [
    "for i in range(3):           \n",
    "    for j in range(3): \n",
    "        print(array2[i,j],end = \"   \")\n",
    "        #print(i,j)\n",
    "    print()    "
   ]
  },
  {
   "cell_type": "code",
   "execution_count": 9,
   "id": "d9ca2e71",
   "metadata": {},
   "outputs": [
    {
     "data": {
      "text/plain": [
       "array([[[ 1,  2,  3],\n",
       "        [ 4,  5,  6]],\n",
       "\n",
       "       [[ 7,  8,  9],\n",
       "        [10, 11, 12]]])"
      ]
     },
     "execution_count": 9,
     "metadata": {},
     "output_type": "execute_result"
    }
   ],
   "source": [
    "\n",
    "array3 = np.array([    [  [1, 2, 3], [4, 5, 6]  ] ,  [ [7, 8, 9], [10, 11, 12] ]   ])\n",
    "\n",
    "array3"
   ]
  },
  {
   "cell_type": "code",
   "execution_count": 10,
   "id": "abf27a6e",
   "metadata": {},
   "outputs": [
    {
     "name": "stdout",
     "output_type": "stream",
     "text": [
      "[[1 2 3]\n",
      " [4 5 6]]\n",
      "[[ 7  8  9]\n",
      " [10 11 12]]\n"
     ]
    }
   ],
   "source": [
    "for x in array3:               # for three dimensional array\n",
    "  print(x)"
   ]
  },
  {
   "cell_type": "code",
   "execution_count": 11,
   "id": "e312dc37",
   "metadata": {},
   "outputs": [
    {
     "name": "stdout",
     "output_type": "stream",
     "text": [
      "1\n",
      "2\n",
      "3\n",
      "4\n",
      "5\n",
      "6\n",
      "7\n",
      "8\n",
      "9\n",
      "10\n",
      "11\n",
      "12\n"
     ]
    }
   ],
   "source": [
    "for x in array3:\n",
    "  for y in x:\n",
    "    for z in y:\n",
    "      print(z)"
   ]
  },
  {
   "cell_type": "code",
   "execution_count": 12,
   "id": "960b164a",
   "metadata": {},
   "outputs": [
    {
     "name": "stdout",
     "output_type": "stream",
     "text": [
      "(0, 0, 0) 1\n",
      "(0, 0, 1) 2\n",
      "(0, 0, 2) 3\n",
      "(0, 1, 0) 4\n",
      "(0, 1, 1) 5\n",
      "(0, 1, 2) 6\n",
      "(1, 0, 0) 7\n",
      "(1, 0, 1) 8\n",
      "(1, 0, 2) 9\n",
      "(1, 1, 0) 10\n",
      "(1, 1, 1) 11\n",
      "(1, 1, 2) 12\n"
     ]
    }
   ],
   "source": [
    "for i,j in np.ndenumerate(array3):\n",
    "  print(i,j)"
   ]
  },
  {
   "cell_type": "markdown",
   "id": "34e4c1c9",
   "metadata": {},
   "source": [
    "### 5.  Array Indexing for changing elements"
   ]
  },
  {
   "cell_type": "code",
   "execution_count": 13,
   "id": "4cf7d751",
   "metadata": {},
   "outputs": [
    {
     "data": {
      "text/plain": [
       "array([[1, 2, 3],\n",
       "       [4, 5, 6],\n",
       "       [7, 8, 9]])"
      ]
     },
     "execution_count": 13,
     "metadata": {},
     "output_type": "execute_result"
    }
   ],
   "source": [
    "array2"
   ]
  },
  {
   "cell_type": "code",
   "execution_count": 14,
   "id": "d0c9da01",
   "metadata": {},
   "outputs": [],
   "source": [
    "# Create an array of indices\n",
    "row_indices = np.array([0, 1, 2])\n",
    "col_indices = np.array([2, 0, 1])"
   ]
  },
  {
   "cell_type": "code",
   "execution_count": 15,
   "id": "2b975c27",
   "metadata": {},
   "outputs": [
    {
     "name": "stdout",
     "output_type": "stream",
     "text": [
      "[0 1 2] [2 0 1]\n"
     ]
    }
   ],
   "source": [
    "print(row_indices, col_indices)"
   ]
  },
  {
   "cell_type": "code",
   "execution_count": 16,
   "id": "7c4456fd",
   "metadata": {},
   "outputs": [
    {
     "name": "stdout",
     "output_type": "stream",
     "text": [
      "Values in the array at those indices are :  [3 4 8]\n"
     ]
    }
   ],
   "source": [
    "print('Values in the array at those indices are : ',array2[row_indices,col_indices])"
   ]
  },
  {
   "cell_type": "code",
   "execution_count": 17,
   "id": "91f129e5",
   "metadata": {},
   "outputs": [
    {
     "data": {
      "text/plain": [
       "array([[  1,   2, 103],\n",
       "       [104,   5,   6],\n",
       "       [  7, 108,   9]])"
      ]
     },
     "execution_count": 17,
     "metadata": {},
     "output_type": "execute_result"
    }
   ],
   "source": [
    "# adding 100 in above elements\n",
    "array2[row_indices, col_indices] += 100    # a = a + 100 is same  as a+=100\n",
    "array2"
   ]
  },
  {
   "cell_type": "code",
   "execution_count": 18,
   "id": "6dbca2a8",
   "metadata": {},
   "outputs": [
    {
     "data": {
      "text/plain": [
       "array([[  1, 102, 103],\n",
       "       [204,   5, 106],\n",
       "       [  7, 208,   9]])"
      ]
     },
     "execution_count": 18,
     "metadata": {},
     "output_type": "execute_result"
    }
   ],
   "source": [
    "# adding 100 in all even elements\n",
    "array2[array2 % 2 == 0] += 100    # a = a + 100 is same  as a+=100\n",
    "array2"
   ]
  },
  {
   "cell_type": "markdown",
   "id": "dd9aba22",
   "metadata": {},
   "source": [
    "### 6. Filtering array"
   ]
  },
  {
   "cell_type": "code",
   "execution_count": 19,
   "id": "68c66b35",
   "metadata": {},
   "outputs": [
    {
     "data": {
      "text/plain": [
       "array([1, 3])"
      ]
     },
     "execution_count": 19,
     "metadata": {},
     "output_type": "execute_result"
    }
   ],
   "source": [
    "array7 = np.array([1,2,3,4])\n",
    "\n",
    "a = [True, False, True, False]\n",
    "\n",
    "filtered_array8 = array7[a]\n",
    "filtered_array8"
   ]
  },
  {
   "cell_type": "code",
   "execution_count": 20,
   "id": "8abd0709",
   "metadata": {},
   "outputs": [
    {
     "data": {
      "text/plain": [
       "array([False,  True, False,  True])"
      ]
     },
     "execution_count": 20,
     "metadata": {},
     "output_type": "execute_result"
    }
   ],
   "source": [
    "b = array7 % 2 == 0\n",
    "b"
   ]
  },
  {
   "cell_type": "code",
   "execution_count": 21,
   "id": "6b0910e5",
   "metadata": {},
   "outputs": [
    {
     "data": {
      "text/plain": [
       "array([2, 4])"
      ]
     },
     "execution_count": 21,
     "metadata": {},
     "output_type": "execute_result"
    }
   ],
   "source": [
    "filtered_array9 = array7[b]\n",
    "filtered_array9"
   ]
  },
  {
   "cell_type": "markdown",
   "id": "481374dc",
   "metadata": {},
   "source": [
    "### 7. Conditional slicing"
   ]
  },
  {
   "cell_type": "code",
   "execution_count": 22,
   "id": "f867818b",
   "metadata": {},
   "outputs": [
    {
     "data": {
      "text/plain": [
       "array([ 1,  2,  3,  4,  5,  6,  7,  8,  9, 10])"
      ]
     },
     "execution_count": 22,
     "metadata": {},
     "output_type": "execute_result"
    }
   ],
   "source": [
    "array8 = np.arange(1,11)\n",
    "array8"
   ]
  },
  {
   "cell_type": "code",
   "execution_count": 23,
   "id": "11319dbd",
   "metadata": {},
   "outputs": [
    {
     "data": {
      "text/plain": [
       "array([False, False, False, False, False,  True,  True,  True,  True,\n",
       "        True])"
      ]
     },
     "execution_count": 23,
     "metadata": {},
     "output_type": "execute_result"
    }
   ],
   "source": [
    "array8 > 5"
   ]
  },
  {
   "cell_type": "code",
   "execution_count": 24,
   "id": "89f1283b",
   "metadata": {},
   "outputs": [
    {
     "data": {
      "text/plain": [
       "array([ 6,  7,  8,  9, 10])"
      ]
     },
     "execution_count": 24,
     "metadata": {},
     "output_type": "execute_result"
    }
   ],
   "source": [
    "array8[array8>5]"
   ]
  },
  {
   "cell_type": "code",
   "execution_count": 25,
   "id": "ccb62e58",
   "metadata": {},
   "outputs": [
    {
     "data": {
      "text/plain": [
       "array([False,  True, False,  True, False,  True, False,  True, False,\n",
       "        True])"
      ]
     },
     "execution_count": 25,
     "metadata": {},
     "output_type": "execute_result"
    }
   ],
   "source": [
    "array8 % 2 == 0"
   ]
  },
  {
   "cell_type": "code",
   "execution_count": 26,
   "id": "3cf5ac8c",
   "metadata": {},
   "outputs": [
    {
     "data": {
      "text/plain": [
       "array([ 2,  4,  6,  8, 10])"
      ]
     },
     "execution_count": 26,
     "metadata": {},
     "output_type": "execute_result"
    }
   ],
   "source": [
    "array8[array8 % 2 == 0]"
   ]
  },
  {
   "cell_type": "code",
   "execution_count": 27,
   "id": "2515298b",
   "metadata": {},
   "outputs": [
    {
     "data": {
      "text/plain": [
       "array([ 1, 77,  3, 77,  5, 77,  7, 77,  9, 77])"
      ]
     },
     "execution_count": 27,
     "metadata": {},
     "output_type": "execute_result"
    }
   ],
   "source": [
    "array8[array8 % 2 == 0] = 77\n",
    "array8"
   ]
  },
  {
   "cell_type": "markdown",
   "id": "067583cd",
   "metadata": {},
   "source": [
    "### 8. Creating view and copy of array"
   ]
  },
  {
   "cell_type": "code",
   "execution_count": 4,
   "id": "b4b6391d",
   "metadata": {},
   "outputs": [
    {
     "data": {
      "text/plain": [
       "array([[1, 2, 3],\n",
       "       [4, 5, 6],\n",
       "       [7, 8, 9]])"
      ]
     },
     "execution_count": 4,
     "metadata": {},
     "output_type": "execute_result"
    }
   ],
   "source": [
    "array2"
   ]
  },
  {
   "cell_type": "code",
   "execution_count": 6,
   "id": "94e03810",
   "metadata": {},
   "outputs": [
    {
     "data": {
      "text/plain": [
       "array([[5, 6],\n",
       "       [8, 9]])"
      ]
     },
     "execution_count": 6,
     "metadata": {},
     "output_type": "execute_result"
    }
   ],
   "source": [
    "a = array2[1: ,1:]     # this is a view or slice (change in a, will change array2)\n",
    "a                      "
   ]
  },
  {
   "cell_type": "code",
   "execution_count": null,
   "id": "6ec8b0e4",
   "metadata": {},
   "outputs": [],
   "source": [
    "array2"
   ]
  },
  {
   "cell_type": "code",
   "execution_count": 7,
   "id": "66c1b327",
   "metadata": {},
   "outputs": [
    {
     "data": {
      "text/plain": [
       "array([[5, 6],\n",
       "       [8, 9]])"
      ]
     },
     "execution_count": 7,
     "metadata": {},
     "output_type": "execute_result"
    }
   ],
   "source": [
    "b = a.copy()           # copy\n",
    "b"
   ]
  },
  {
   "cell_type": "markdown",
   "id": "029d6bb5",
   "metadata": {},
   "source": [
    "### 9. Operations on one dimensional array "
   ]
  },
  {
   "cell_type": "code",
   "execution_count": 16,
   "id": "6b946517",
   "metadata": {
    "scrolled": true
   },
   "outputs": [
    {
     "name": "stdout",
     "output_type": "stream",
     "text": [
      "[1 3 5] [6 7 8]\n"
     ]
    }
   ],
   "source": [
    "a = np.array([1,3,5])\n",
    "b = np.arange(6,9)\n",
    "print(a,b)"
   ]
  },
  {
   "cell_type": "code",
   "execution_count": 9,
   "id": "b6b5f0a9",
   "metadata": {},
   "outputs": [
    {
     "data": {
      "text/plain": [
       "array([3, 5, 7])"
      ]
     },
     "execution_count": 9,
     "metadata": {},
     "output_type": "execute_result"
    }
   ],
   "source": [
    "a+2"
   ]
  },
  {
   "cell_type": "code",
   "execution_count": 10,
   "id": "19b9899d",
   "metadata": {},
   "outputs": [
    {
     "data": {
      "text/plain": [
       "array([ 2,  6, 10])"
      ]
     },
     "execution_count": 10,
     "metadata": {},
     "output_type": "execute_result"
    }
   ],
   "source": [
    "a*2"
   ]
  },
  {
   "cell_type": "code",
   "execution_count": 11,
   "id": "ae90b831",
   "metadata": {},
   "outputs": [
    {
     "data": {
      "text/plain": [
       "array([0.5, 1.5, 2.5])"
      ]
     },
     "execution_count": 11,
     "metadata": {},
     "output_type": "execute_result"
    }
   ],
   "source": [
    "a/2"
   ]
  },
  {
   "cell_type": "code",
   "execution_count": 12,
   "id": "82aa3fd0",
   "metadata": {},
   "outputs": [
    {
     "data": {
      "text/plain": [
       "array([ 1,  9, 25])"
      ]
     },
     "execution_count": 12,
     "metadata": {},
     "output_type": "execute_result"
    }
   ],
   "source": [
    "a**2"
   ]
  },
  {
   "cell_type": "code",
   "execution_count": 30,
   "id": "9987757f",
   "metadata": {},
   "outputs": [
    {
     "data": {
      "text/plain": [
       "array([ 6, 21, 40])"
      ]
     },
     "execution_count": 30,
     "metadata": {},
     "output_type": "execute_result"
    }
   ],
   "source": [
    "a*b"
   ]
  },
  {
   "cell_type": "code",
   "execution_count": 18,
   "id": "5191f7fb",
   "metadata": {},
   "outputs": [
    {
     "data": {
      "text/plain": [
       "array([False, False, False])"
      ]
     },
     "execution_count": 18,
     "metadata": {},
     "output_type": "execute_result"
    }
   ],
   "source": [
    "a == b"
   ]
  },
  {
   "cell_type": "code",
   "execution_count": 19,
   "id": "a908ad3b",
   "metadata": {},
   "outputs": [
    {
     "data": {
      "text/plain": [
       "array([ True, False, False])"
      ]
     },
     "execution_count": 19,
     "metadata": {},
     "output_type": "execute_result"
    }
   ],
   "source": [
    "a < 3"
   ]
  },
  {
   "cell_type": "code",
   "execution_count": 20,
   "id": "541458bb",
   "metadata": {},
   "outputs": [
    {
     "data": {
      "text/plain": [
       "array([1])"
      ]
     },
     "execution_count": 20,
     "metadata": {},
     "output_type": "execute_result"
    }
   ],
   "source": [
    "a[a < 3]"
   ]
  },
  {
   "cell_type": "code",
   "execution_count": 31,
   "id": "b29d55a1",
   "metadata": {},
   "outputs": [
    {
     "name": "stdout",
     "output_type": "stream",
     "text": [
      "67\n",
      "\n",
      "67\n"
     ]
    }
   ],
   "source": [
    "print(a.dot(b))    # determine the inner product (dot product) of two vectors\n",
    "print()\n",
    "print(np.dot(a, b))"
   ]
  },
  {
   "cell_type": "code",
   "execution_count": 32,
   "id": "4801290d",
   "metadata": {},
   "outputs": [
    {
     "data": {
      "text/plain": [
       "array([6, 7, 8])"
      ]
     },
     "execution_count": 32,
     "metadata": {},
     "output_type": "execute_result"
    }
   ],
   "source": [
    "np.maximum(a, b)"
   ]
  },
  {
   "cell_type": "code",
   "execution_count": 33,
   "id": "f822c032",
   "metadata": {},
   "outputs": [],
   "source": [
    " array1 = np.array([1,2,3,4,5])"
   ]
  },
  {
   "cell_type": "code",
   "execution_count": 34,
   "id": "58b788df",
   "metadata": {},
   "outputs": [
    {
     "data": {
      "text/plain": [
       "5"
      ]
     },
     "execution_count": 34,
     "metadata": {},
     "output_type": "execute_result"
    }
   ],
   "source": [
    "np.max(array1)"
   ]
  },
  {
   "cell_type": "code",
   "execution_count": 35,
   "id": "211ca427",
   "metadata": {},
   "outputs": [
    {
     "data": {
      "text/plain": [
       "1"
      ]
     },
     "execution_count": 35,
     "metadata": {},
     "output_type": "execute_result"
    }
   ],
   "source": [
    "np.min(array1)"
   ]
  },
  {
   "cell_type": "code",
   "execution_count": 27,
   "id": "8d4f9a6d",
   "metadata": {},
   "outputs": [
    {
     "data": {
      "text/plain": [
       "0"
      ]
     },
     "execution_count": 27,
     "metadata": {},
     "output_type": "execute_result"
    }
   ],
   "source": [
    "np.argmin(array1)     # min index value"
   ]
  },
  {
   "cell_type": "code",
   "execution_count": 28,
   "id": "e875019c",
   "metadata": {},
   "outputs": [
    {
     "data": {
      "text/plain": [
       "4"
      ]
     },
     "execution_count": 28,
     "metadata": {},
     "output_type": "execute_result"
    }
   ],
   "source": [
    "np.argmax(array1)     # max index value"
   ]
  },
  {
   "cell_type": "code",
   "execution_count": 29,
   "id": "b7436da1",
   "metadata": {},
   "outputs": [
    {
     "data": {
      "text/plain": [
       "array([ 0.84147098,  0.90929743,  0.14112001, -0.7568025 , -0.95892427])"
      ]
     },
     "execution_count": 29,
     "metadata": {},
     "output_type": "execute_result"
    }
   ],
   "source": [
    "np.sin(array1)"
   ]
  },
  {
   "cell_type": "markdown",
   "id": "cbd6abe8",
   "metadata": {},
   "source": [
    "### 10. Time for Operations  "
   ]
  },
  {
   "cell_type": "code",
   "execution_count": 36,
   "id": "b39d301e",
   "metadata": {},
   "outputs": [
    {
     "name": "stdout",
     "output_type": "stream",
     "text": [
      "2.21 µs ± 505 ns per loop (mean ± std. dev. of 7 runs, 100,000 loops each)\n"
     ]
    }
   ],
   "source": [
    "%timeit np.sin(array1)         # For one line"
   ]
  },
  {
   "cell_type": "code",
   "execution_count": 37,
   "id": "6c3887e2",
   "metadata": {},
   "outputs": [
    {
     "name": "stdout",
     "output_type": "stream",
     "text": [
      "4.91 µs ± 646 ns per loop (mean ± std. dev. of 7 runs, 100,000 loops each)\n"
     ]
    }
   ],
   "source": [
    "%%timeit               # For multiple lines\n",
    "np.sqrt(array1)\n",
    "np.sin(array1)"
   ]
  },
  {
   "cell_type": "markdown",
   "id": "36923f26",
   "metadata": {},
   "source": [
    "### 11. Operations on two dimensional array "
   ]
  },
  {
   "cell_type": "code",
   "execution_count": 38,
   "id": "c495e2e9",
   "metadata": {},
   "outputs": [
    {
     "name": "stdout",
     "output_type": "stream",
     "text": [
      "[[1 2 3]\n",
      " [4 5 6]\n",
      " [7 8 9]]\n",
      "[[11 12 13]\n",
      " [14 15 16]\n",
      " [17 18 19]]\n"
     ]
    }
   ],
   "source": [
    "x = np.arange(1,10).reshape(3,3)\n",
    "y = np.arange(11,20).reshape(3,3)\n",
    "print(x) \n",
    "print(y)\n"
   ]
  },
  {
   "cell_type": "code",
   "execution_count": 39,
   "id": "2f581593",
   "metadata": {},
   "outputs": [
    {
     "data": {
      "text/plain": [
       "array([[12, 14, 16],\n",
       "       [18, 20, 22],\n",
       "       [24, 26, 28]])"
      ]
     },
     "execution_count": 39,
     "metadata": {},
     "output_type": "execute_result"
    }
   ],
   "source": [
    "x+y"
   ]
  },
  {
   "cell_type": "code",
   "execution_count": 40,
   "id": "2537e6ca",
   "metadata": {},
   "outputs": [
    {
     "data": {
      "text/plain": [
       "array([[ 11,  24,  39],\n",
       "       [ 56,  75,  96],\n",
       "       [119, 144, 171]])"
      ]
     },
     "execution_count": 40,
     "metadata": {},
     "output_type": "execute_result"
    }
   ],
   "source": [
    "x*y"
   ]
  },
  {
   "cell_type": "code",
   "execution_count": 41,
   "id": "f660ad33",
   "metadata": {},
   "outputs": [
    {
     "data": {
      "text/plain": [
       "array([[1.        , 1.41421356, 1.73205081],\n",
       "       [2.        , 2.23606798, 2.44948974],\n",
       "       [2.64575131, 2.82842712, 3.        ]])"
      ]
     },
     "execution_count": 41,
     "metadata": {},
     "output_type": "execute_result"
    }
   ],
   "source": [
    "np.sqrt(x)"
   ]
  },
  {
   "cell_type": "code",
   "execution_count": 42,
   "id": "9ee81336",
   "metadata": {},
   "outputs": [
    {
     "data": {
      "text/plain": [
       "array([[11, 12, 13],\n",
       "       [14, 15, 16],\n",
       "       [17, 18, 19]])"
      ]
     },
     "execution_count": 42,
     "metadata": {},
     "output_type": "execute_result"
    }
   ],
   "source": [
    "np.maximum(x, y)"
   ]
  },
  {
   "cell_type": "code",
   "execution_count": 43,
   "id": "5c8d6686",
   "metadata": {},
   "outputs": [
    {
     "data": {
      "text/plain": [
       "array([[ 1,  4,  9],\n",
       "       [16, 25, 36],\n",
       "       [49, 64, 81]])"
      ]
     },
     "execution_count": 43,
     "metadata": {},
     "output_type": "execute_result"
    }
   ],
   "source": [
    "x**2"
   ]
  },
  {
   "cell_type": "code",
   "execution_count": 44,
   "id": "b16b1547",
   "metadata": {},
   "outputs": [
    {
     "data": {
      "text/plain": [
       "array([[ 90,  96, 102],\n",
       "       [216, 231, 246],\n",
       "       [342, 366, 390]])"
      ]
     },
     "execution_count": 44,
     "metadata": {},
     "output_type": "execute_result"
    }
   ],
   "source": [
    "x.dot(y)       # determine the dot product of two matrices"
   ]
  },
  {
   "cell_type": "code",
   "execution_count": 45,
   "id": "fd8b7238",
   "metadata": {},
   "outputs": [
    {
     "data": {
      "text/plain": [
       "array([[ 90,  96, 102],\n",
       "       [216, 231, 246],\n",
       "       [342, 366, 390]])"
      ]
     },
     "execution_count": 45,
     "metadata": {},
     "output_type": "execute_result"
    }
   ],
   "source": [
    "np.dot(x,y)"
   ]
  },
  {
   "cell_type": "code",
   "execution_count": 46,
   "id": "ca846226",
   "metadata": {},
   "outputs": [
    {
     "data": {
      "text/plain": [
       "array([1, 3, 5])"
      ]
     },
     "execution_count": 46,
     "metadata": {},
     "output_type": "execute_result"
    }
   ],
   "source": [
    "a"
   ]
  },
  {
   "cell_type": "code",
   "execution_count": 48,
   "id": "728fc369",
   "metadata": {},
   "outputs": [
    {
     "name": "stdout",
     "output_type": "stream",
     "text": [
      "[22 49 76]\n",
      "\n",
      "[22 49 76]\n"
     ]
    }
   ],
   "source": [
    "# dot produce on an array and vector\n",
    "print(x.dot(a)) \n",
    "print()\n",
    "print(np.dot(x, a))"
   ]
  },
  {
   "cell_type": "code",
   "execution_count": 49,
   "id": "77643baf",
   "metadata": {},
   "outputs": [
    {
     "data": {
      "text/plain": [
       "array([[1, 2, 3],\n",
       "       [4, 5, 6],\n",
       "       [7, 8, 9]])"
      ]
     },
     "execution_count": 49,
     "metadata": {},
     "output_type": "execute_result"
    }
   ],
   "source": [
    "x"
   ]
  },
  {
   "cell_type": "code",
   "execution_count": 50,
   "id": "0dcc54cd",
   "metadata": {},
   "outputs": [
    {
     "data": {
      "text/plain": [
       "array([[1, 4, 7],\n",
       "       [2, 5, 8],\n",
       "       [3, 6, 9]])"
      ]
     },
     "execution_count": 50,
     "metadata": {},
     "output_type": "execute_result"
    }
   ],
   "source": [
    "x.T"
   ]
  },
  {
   "cell_type": "code",
   "execution_count": 51,
   "id": "948752d7",
   "metadata": {},
   "outputs": [],
   "source": [
    "array9 = np.arange(1,10).reshape(3,3)"
   ]
  },
  {
   "cell_type": "code",
   "execution_count": 52,
   "id": "0ea10956",
   "metadata": {},
   "outputs": [
    {
     "data": {
      "text/plain": [
       "array([[1, 2, 3],\n",
       "       [4, 5, 6],\n",
       "       [7, 8, 9]])"
      ]
     },
     "execution_count": 52,
     "metadata": {},
     "output_type": "execute_result"
    }
   ],
   "source": [
    "array9"
   ]
  },
  {
   "cell_type": "code",
   "execution_count": 53,
   "id": "0a6b604f",
   "metadata": {},
   "outputs": [
    {
     "data": {
      "text/plain": [
       "45"
      ]
     },
     "execution_count": 53,
     "metadata": {},
     "output_type": "execute_result"
    }
   ],
   "source": [
    "np.sum(array9)               # add all members"
   ]
  },
  {
   "cell_type": "code",
   "execution_count": 54,
   "id": "74ab6aa2",
   "metadata": {},
   "outputs": [
    {
     "data": {
      "text/plain": [
       "array([12, 15, 18])"
      ]
     },
     "execution_count": 54,
     "metadata": {},
     "output_type": "execute_result"
    }
   ],
   "source": [
    "np.sum(array9 ,axis=0)       # columnwise sum"
   ]
  },
  {
   "cell_type": "code",
   "execution_count": 55,
   "id": "cfaf6e3e",
   "metadata": {},
   "outputs": [
    {
     "data": {
      "text/plain": [
       "array([ 6, 15, 24])"
      ]
     },
     "execution_count": 55,
     "metadata": {},
     "output_type": "execute_result"
    }
   ],
   "source": [
    "np.sum(array9 ,axis=1)       # rowwise sum"
   ]
  },
  {
   "cell_type": "code",
   "execution_count": 56,
   "id": "e0505f68",
   "metadata": {},
   "outputs": [
    {
     "data": {
      "text/plain": [
       "array([ 1,  3,  6, 10, 15, 21, 28, 36, 45])"
      ]
     },
     "execution_count": 56,
     "metadata": {},
     "output_type": "execute_result"
    }
   ],
   "source": [
    "np.cumsum(array9)"
   ]
  },
  {
   "cell_type": "code",
   "execution_count": 57,
   "id": "4eb5aa6f",
   "metadata": {},
   "outputs": [
    {
     "data": {
      "text/plain": [
       "9"
      ]
     },
     "execution_count": 57,
     "metadata": {},
     "output_type": "execute_result"
    }
   ],
   "source": [
    "np.max(array9)"
   ]
  },
  {
   "cell_type": "code",
   "execution_count": 58,
   "id": "d7cc5b54",
   "metadata": {},
   "outputs": [
    {
     "data": {
      "text/plain": [
       "array([3, 6, 9])"
      ]
     },
     "execution_count": 58,
     "metadata": {},
     "output_type": "execute_result"
    }
   ],
   "source": [
    "np.max(array9,axis = 1)"
   ]
  },
  {
   "cell_type": "code",
   "execution_count": 59,
   "id": "3ebf04d4",
   "metadata": {},
   "outputs": [
    {
     "data": {
      "text/plain": [
       "1"
      ]
     },
     "execution_count": 59,
     "metadata": {},
     "output_type": "execute_result"
    }
   ],
   "source": [
    "np.min(array9)"
   ]
  },
  {
   "cell_type": "code",
   "execution_count": 60,
   "id": "3b57e4ee",
   "metadata": {},
   "outputs": [
    {
     "data": {
      "text/plain": [
       "8"
      ]
     },
     "execution_count": 60,
     "metadata": {},
     "output_type": "execute_result"
    }
   ],
   "source": [
    "np.argmax(array9)"
   ]
  },
  {
   "cell_type": "code",
   "execution_count": 61,
   "id": "ac703928",
   "metadata": {},
   "outputs": [
    {
     "data": {
      "text/plain": [
       "5.0"
      ]
     },
     "execution_count": 61,
     "metadata": {},
     "output_type": "execute_result"
    }
   ],
   "source": [
    "array9.mean() # compute the mean for all elements"
   ]
  },
  {
   "cell_type": "code",
   "execution_count": 62,
   "id": "5d172cf8",
   "metadata": {},
   "outputs": [
    {
     "data": {
      "text/plain": [
       "array([4., 5., 6.])"
      ]
     },
     "execution_count": 62,
     "metadata": {},
     "output_type": "execute_result"
    }
   ],
   "source": [
    "array9.mean(axis=0)"
   ]
  },
  {
   "cell_type": "code",
   "execution_count": 63,
   "id": "217893da",
   "metadata": {},
   "outputs": [
    {
     "data": {
      "text/plain": [
       "array([[1, 2, 3],\n",
       "       [4, 5, 6],\n",
       "       [7, 8, 9]])"
      ]
     },
     "execution_count": 63,
     "metadata": {},
     "output_type": "execute_result"
    }
   ],
   "source": [
    "array9"
   ]
  },
  {
   "cell_type": "code",
   "execution_count": 64,
   "id": "9f01894f",
   "metadata": {},
   "outputs": [
    {
     "data": {
      "text/plain": [
       "array([[1, 2, 3],\n",
       "       [7, 8, 9],\n",
       "       [4, 5, 6]])"
      ]
     },
     "execution_count": 64,
     "metadata": {},
     "output_type": "execute_result"
    }
   ],
   "source": [
    "np.random.shuffle(array9)\n",
    "array9"
   ]
  },
  {
   "cell_type": "code",
   "execution_count": 65,
   "id": "d76c97cd",
   "metadata": {},
   "outputs": [
    {
     "data": {
      "text/plain": [
       "array([1, 2, 3, 4, 5, 6, 7, 8, 9])"
      ]
     },
     "execution_count": 65,
     "metadata": {},
     "output_type": "execute_result"
    }
   ],
   "source": [
    "np.unique(array9)"
   ]
  },
  {
   "cell_type": "code",
   "execution_count": 66,
   "id": "d07a92f0",
   "metadata": {},
   "outputs": [
    {
     "data": {
      "text/plain": [
       "9"
      ]
     },
     "execution_count": 66,
     "metadata": {},
     "output_type": "execute_result"
    }
   ],
   "source": [
    "np.unique(array9).size"
   ]
  },
  {
   "cell_type": "code",
   "execution_count": 67,
   "id": "34b9e098",
   "metadata": {},
   "outputs": [
    {
     "data": {
      "text/plain": [
       "(array([1, 2, 3, 4, 5, 6, 7, 8, 9]),\n",
       " array([0, 1, 2, 6, 7, 8, 3, 4, 5], dtype=int64),\n",
       " array([1, 1, 1, 1, 1, 1, 1, 1, 1], dtype=int64))"
      ]
     },
     "execution_count": 67,
     "metadata": {},
     "output_type": "execute_result"
    }
   ],
   "source": [
    "np.unique(array9,return_index = True,return_counts = True)"
   ]
  },
  {
   "cell_type": "markdown",
   "id": "d1391ee4",
   "metadata": {},
   "source": [
    "End"
   ]
  }
 ],
 "metadata": {
  "kernelspec": {
   "display_name": "Python 3 (ipykernel)",
   "language": "python",
   "name": "python3"
  },
  "language_info": {
   "codemirror_mode": {
    "name": "ipython",
    "version": 3
   },
   "file_extension": ".py",
   "mimetype": "text/x-python",
   "name": "python",
   "nbconvert_exporter": "python",
   "pygments_lexer": "ipython3",
   "version": "3.10.9"
  }
 },
 "nbformat": 4,
 "nbformat_minor": 5
}
