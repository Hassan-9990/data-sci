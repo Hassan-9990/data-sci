{
 "cells": [
  {
   "cell_type": "code",
   "execution_count": null,
   "id": "51d07ce3-842f-45f4-9eb3-53a4b0a40fd7",
   "metadata": {},
   "outputs": [],
   "source": [
    "# Operators in Python\n",
    "\n",
    "a = 10\n",
    "b = 3\n",
    "\n",
    "# Arithmetic\n",
    "print(\"Addition:\", a + b)\n",
    "print(\"Division:\", a / b\n",
    "print('Multiplication:', a * b)\n",
    "print('Division:', a / b)\n",
    "print('Remainder:', a % b)\n",
    "print('Exponential:', a ** b)\n",
    "     \n",
    "\n",
    "# Assignment\n",
    "a += b\n",
    "print(\"After += :\", a)\n",
    "\n",
    "# Comparison\n",
    "print(\"Equal?\", a == b)\n",
    "\n",
    "# Logical\n",
    "print(\"Logical AND:\", a > 5 and b < 5)\n",
    "\n",
    "# Identity\n",
    "print(\"a is b:\", a is b)\n",
    "\n",
    "# Membership\n",
    "lst = [1, 2, 3]\n",
    "print(\"2 in list?\", 2 in lst)\n",
    "\n",
    "# Q: Practice all operators with examples\n",
    "\n",
    "# s1 = {1,3,4,s11}\n",
    "# s2 = {3,2,4,5,6}\n",
    "# Q1.check if 4 is present in s1\n",
    "# Q2.check if 4 and 5 are  present in s2\n",
    "# Q3.check if 4 or 5 are  present in s2\n",
    "# Q4.check if s1 and s2 are same by \"is\" operator\n",
    "# Q5.take two integers from the user, print greatest among them\n",
    "# Q6.ask the user their Marks and grade accordingly\n",
    "# Below 25 - F\n",
    "# 25 to 45 - E\n",
    "# 45 to 50 - D\n",
    "# 50 to 60 - C\n",
    "# 60 to 80 - B\n",
    "# Above 80 - A\n",
    "\n",
    "# Q7.take age as input from 3 users check who is oldest among them\n",
    "# Q8.take age as input from 3 users check who is youngest among them\n",
    "# Q9.take salary and no of years of service in a company as input from the user\n",
    "# company has decided to give bonus of 5% to employee,\n",
    "# if his/her year of service is more than 5 years\n",
    "# print total salary and bonus amount.\n",
    "\n",
    "# Q10.Ask user for quantity of a products he had purchased,\n",
    "# A shop will give discount of 10%\n",
    "# if the cost of products is more than Rs 1000.\n",
    "# Suppose, one unit will cost Rs 100.\n",
    "# Judge and print discount for user and total cost.\n",
    "\n",
    "# Q11.Take Number of classes held and Number of classes attended and medical\n",
    "# fitness as input from user, Allow him to attend exam if attendance\n",
    "# percentage is 75 and if he is medically fit.\n",
    "\n",
    "# Q12.take input as month from user(take only first six month)\n",
    "# print number of days in that month.\n",
    "\n",
    "# Q13.take 10 inputs from the user, print greatest among them.\n",
    "\n",
    "# Enf of session\n",
    "\n",
    "\n",
    "\n",
    "\n",
    "\n",
    "\n",
    "\n"
   ]
  },
  {
   "cell_type": "markdown",
   "id": "ee28d82d-ca69-49c3-bc61-2bb301d82c83",
   "metadata": {},
   "source": [
    "# Operators in Python"
   ]
  },
  {
   "cell_type": "code",
   "execution_count": 2,
   "id": "cb24a3b3-812c-4f61-b916-8077e5e72aa4",
   "metadata": {},
   "outputs": [
    {
     "name": "stdout",
     "output_type": "stream",
     "text": [
      "Addition: 13\n",
      "Division: 3.3333333333333335\n",
      "Multiplication: 30\n",
      "Division: 3.3333333333333335\n",
      "Remainder: 1\n",
      "Exponential: 1000\n"
     ]
    }
   ],
   "source": [
    "a = 10\n",
    "b = 3\n",
    "\n",
    "# Arithmetic\n",
    "print(\"Addition:\", a + b)\n",
    "print(\"Division:\", a / b)\n",
    "print('Multiplication:', a * b)\n",
    "print('Division:', a / b)\n",
    "print('Remainder:', a % b)\n",
    "print('Exponential:', a ** b)\n",
    "     "
   ]
  },
  {
   "cell_type": "code",
   "execution_count": 3,
   "id": "8d381eb0-fc29-4df2-955c-bfc094bb3a20",
   "metadata": {},
   "outputs": [
    {
     "name": "stdout",
     "output_type": "stream",
     "text": [
      "After += : 13\n"
     ]
    }
   ],
   "source": [
    "# Assignment\n",
    "a += b\n",
    "print(\"After += :\", a)"
   ]
  },
  {
   "cell_type": "code",
   "execution_count": 4,
   "id": "c5c3da3b-8433-470d-adf9-38599119d150",
   "metadata": {},
   "outputs": [
    {
     "name": "stdout",
     "output_type": "stream",
     "text": [
      "Equal? False\n"
     ]
    }
   ],
   "source": [
    "# Comparison\n",
    "print(\"Equal?\", a == b)"
   ]
  },
  {
   "cell_type": "code",
   "execution_count": 5,
   "id": "5511ef6c-df3d-44f6-a4f4-c991ce01bdcd",
   "metadata": {},
   "outputs": [
    {
     "name": "stdout",
     "output_type": "stream",
     "text": [
      "Logical AND: True\n"
     ]
    }
   ],
   "source": [
    "# Logical\n",
    "print(\"Logical AND:\", a > 5 and b < 5)\n"
   ]
  },
  {
   "cell_type": "code",
   "execution_count": 6,
   "id": "6d76352d-ac5a-48b1-9c7f-c1f82c6b44fc",
   "metadata": {},
   "outputs": [
    {
     "name": "stdout",
     "output_type": "stream",
     "text": [
      "a is b: False\n"
     ]
    }
   ],
   "source": [
    "# Identity\n",
    "print(\"a is b:\", a is b)\n"
   ]
  },
  {
   "cell_type": "code",
   "execution_count": 7,
   "id": "b547fed6-2da8-4abd-9ae5-e9b257a5d6cb",
   "metadata": {},
   "outputs": [
    {
     "name": "stdout",
     "output_type": "stream",
     "text": [
      "2 in list? True\n"
     ]
    }
   ],
   "source": [
    "# Membership\n",
    "lst = [1, 2, 3]\n",
    "print(\"2 in list?\", 2 in lst)"
   ]
  },
  {
   "cell_type": "code",
   "execution_count": null,
   "id": "948473d7-521b-40a3-81d5-b5d5b3e56a14",
   "metadata": {},
   "outputs": [],
   "source": [
    "# Q: Practice all operators with examples\n",
    "\n",
    "# s1 = {1,3,4,s11}\n",
    "# s2 = {3,2,4,5,6}\n",
    "# Q1.check if 4 is present in s1\n",
    "# Q2.check if 4 and 5 are  present in s2\n",
    "# Q3.check if 4 or 5 are  present in s2\n",
    "# Q4.check if s1 and s2 are same by \"is\" operator\n",
    "# Q5.take two integers from the user, print greatest among them\n",
    "# Q6.ask the user their Marks and grade accordingly\n",
    "# Below 25 - F\n",
    "# 25 to 45 - E\n",
    "# 45 to 50 - D\n",
    "# 50 to 60 - C\n",
    "# 60 to 80 - B\n",
    "# Above 80 - A\n",
    "\n",
    "# Q7.take age as input from 3 users check who is oldest among them\n",
    "# Q8.take age as input from 3 users check who is youngest among them\n",
    "# Q9.take salary and no of years of service in a company as input from the user\n",
    "# company has decided to give bonus of 5% to employee,\n",
    "# if his/her year of service is more than 5 years\n",
    "# print total salary and bonus amount.\n",
    "\n",
    "# Q10.Ask user for quantity of a products he had purchased,\n",
    "# A shop will give discount of 10%\n",
    "# if the cost of products is more than Rs 1000.\n",
    "# Suppose, one unit will cost Rs 100.\n",
    "# Judge and print discount for user and total cost.\n",
    "\n",
    "# Q11.Take Number of classes held and Number of classes attended and medical\n",
    "# fitness as input from user, Allow him to attend exam if attendance\n",
    "# percentage is 75 and if he is medically fit.\n",
    "\n",
    "# Q12.take input as month from user(take only first six month)\n",
    "# print number of days in that month.\n",
    "# Q13.take 10 inputs from the user, print greatest among them.\n",
    "\n",
    "# Enf of session\n"
   ]
  }
 ],
 "metadata": {
  "kernelspec": {
   "display_name": "Python 3 (ipykernel)",
   "language": "python",
   "name": "python3"
  },
  "language_info": {
   "codemirror_mode": {
    "name": "ipython",
    "version": 3
   },
   "file_extension": ".py",
   "mimetype": "text/x-python",
   "name": "python",
   "nbconvert_exporter": "python",
   "pygments_lexer": "ipython3",
   "version": "3.12.7"
  }
 },
 "nbformat": 4,
 "nbformat_minor": 5
}
