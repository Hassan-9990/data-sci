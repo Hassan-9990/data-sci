{
 "cells": [
  {
   "cell_type": "markdown",
   "id": "77eac619",
   "metadata": {},
   "source": [
    "# L_01: Introduction to Jupyter Notebook\n",
    "\n",
    "This notebook introduces the basics of using Jupyter Notebooks for Python programming and data science."
   ]
  },
  {
   "cell_type": "code",
   "execution_count": 1,
   "id": "68104f93",
   "metadata": {},
   "outputs": [
    {
     "name": "stdout",
     "output_type": "stream",
     "text": [
      "Hello, World!\n"
     ]
    }
   ],
   "source": [
    "# Print Hello World\n",
    "print('Hello, World!')"
   ]
  },
  {
   "cell_type": "markdown",
   "id": "62fdcb52",
   "metadata": {},
   "source": [
    "### Markdown Support\n",
    "You can use markdown to add headings, bullet points, bold text, and more."
   ]
  },
  {
   "cell_type": "code",
   "execution_count": null,
   "id": "5b52311d",
   "metadata": {},
   "outputs": [],
   "source": [
    "# Basic arithmetic\n",
    "2 + 3"
   ]
  },
  {
   "cell_type": "markdown",
   "id": "b7a47c0b",
   "metadata": {},
   "source": [
    "### Shortcut Keys\n",
    "- `Shift + Enter`: Run the current cell\n",
    "- `Esc + B`: Add new cell below\n",
    "- `Esc + D + D`: Delete a cell"
   ]
  },
  {
   "cell_type": "markdown",
   "id": "542bd98e-27b9-4b69-822c-0bf46ea3abe2",
   "metadata": {},
   "source": [
    "Markdown in Jupyter Notebook\n",
    "\n",
    "In this File, you'll learn how to use and write with different markup tags in Jupyter Notebook.\n",
    "\n",
    "1.Headings\n",
    "\n",
    "2.Bold\n",
    "\n",
    "3.Italic\n",
    "\n",
    "3.Bullets\n",
    "\n",
    "5.Numbered lists\n",
    "\n",
    "6.Mathematical symbols\n",
    "\n",
    "7.Indented quoting\n",
    "\n",
    "8.Line breaks\n",
    "\n",
    "9.Image\n",
    "\n",
    "10.Color\n",
    "\n",
    "11.Links\n",
    "\n",
    "12.utube video\n",
    "\n",
    "13.changing themes of jupyter notebook\n",
    "\n",
    "14.changing directory of jupyter notebook"
   ]
  },
  {
   "cell_type": "markdown",
   "id": "257658de-087f-49d1-862a-710cbfb45795",
   "metadata": {},
   "source": [
    "1. Headings\n",
    "\n",
    "Use #s followed by a blank space for notebook titles and section headings:\n",
    "\n",
    "Title\n",
    "\n",
    "Major headings\n",
    "\n",
    "Subheadings\n",
    "\n",
    "4th level Subheadings"
   ]
  },
  {
   "cell_type": "markdown",
   "id": "30aa05df-9a9a-4ef4-8720-d164ec60aefc",
   "metadata": {},
   "source": [
    "2. Bold\n",
    "\n",
    "use code tags\n",
    "\n",
    "This is bold text1\n",
    "\n",
    "'**' i.e. 'double asterisk'\n",
    "\n",
    "This is bold text2\n",
    "\n",
    "'__' i.e. 'double underscore'\n",
    "\n",
    "This is bold text3"
   ]
  },
  {
   "cell_type": "markdown",
   "id": "5439a2d3-3f58-430d-ad46-91f06f0d4fd8",
   "metadata": {},
   "source": [
    "3. Italic\n",
    "\n",
    "'Single asterisk' i.e. '*'\n",
    "\n",
    "This is italic text\n",
    "\n",
    "'Single underscore' i.e. '_'\n",
    "\n",
    "This is Italic text"
   ]
  },
  {
   "cell_type": "markdown",
   "id": "ad094bf3-8f99-43b1-be97-b69302e57c17",
   "metadata": {},
   "source": [
    "# 4. Bullets: \n",
    "\n",
    "1.Circular bullet:\n",
    "\n",
    "Use the dash sign ( - ) with a space after it or Use the asterisk sign (*) with a space after it.\n",
    "\n",
    "\n",
    "\n",
    "2.Sub bullet:\n",
    "\n",
    "To create a sub bullet, use a tab followed a dash and a space. You can also use an asterisk instead of a dash, and it works the same.\n",
    "\n",
    "- This is bullet\n",
    "    \n",
    "* This is bullet\n",
    "\n",
    "    - the is sub bulet\n",
    "    \n",
    "    * this is sub bullet"
   ]
  },
  {
   "cell_type": "markdown",
   "id": "6ff1a165-c2e9-46d1-a5ff-254939c72314",
   "metadata": {},
   "source": [
    "# 5. Numbered lists: \n",
    "\n",
    "Start with 1. followed by a space, then it starts numbering for you. Start each line with some number and a period, then a space. Tab to indent to get subnumbering.\n",
    "\n",
    "1. Line number one\n",
    "\n",
    "2. Line numer two\n",
    "    \n",
    "    1. Sub line numer one\n",
    "\n",
    "    2. Sub line muber two"
   ]
  },
  {
   "cell_type": "markdown",
   "id": "9ab890ec-4ab1-424b-8eac-004ec35695ec",
   "metadata": {},
   "source": [
    "# 6. Mathematical symbols\n",
    "\n",
    "Use this code: $ mathematical symbols $\n",
    "\n",
    "$√$ 500 $-$ 5 $×$ 10 $÷$ 100 $=$ ?"
   ]
  },
  {
   "cell_type": "markdown",
   "id": "8806ecd5-3cd8-4a32-ab61-f41249ba808f",
   "metadata": {},
   "source": [
    "# 7. Indented quoting: \n",
    "\n",
    "Use a greater than sign (>) and then a space, then type the text. The text is indented and has a gray horizontal line to the left of it until the next carriage return.\n",
    "\n",
    "> This is 1st line of 1st Blockquotes<br>This is 2nd line of 1st Blockquotes\n",
    "\n",
    "> This is 1st line of 2nd Blockquotes<br>\n",
    "    \n",
    "This is 2nd line of 2nd Blockquotes\n"
   ]
  },
  {
   "cell_type": "markdown",
   "id": "3bdac5ba-135c-4095-b1bf-22aad2fa384c",
   "metadata": {},
   "source": [
    "# 9. Image\n",
    "\n",
    "You can attach image files directly to a notebook in Markdown cells. Drag and drop your images to the Mardown cell to attach it to the notebook.\n",
    "\n",
    "![download.png](attachment:download.png)"
   ]
  },
  {
   "cell_type": "markdown",
   "id": "47de925d-7ce7-4d99-aeec-c925f8e13a62",
   "metadata": {},
   "source": [
    "# 10. Colors\n",
    "\n",
    "Use this code: <font color=blue|red|green|pink|yellow>Text</font> Not all markdown code works within a font tag, so review your colored text carefully!\n",
    "\n",
    "\n",
    "<font color=blue>Front color is blue</font>\n",
    "\n",
    "<font color=red>Front color is red</font>\n",
    "\n",
    "<font color=yellow>Front color is yellow</font>"
   ]
  },
  {
   "cell_type": "markdown",
   "id": "e48d5915-474c-4f64-bc4e-507241810533",
   "metadata": {},
   "source": [
    "# 11. Links: \n",
    "\n",
    "Use this code and test all links! [link text](http://url)\n",
    "\n",
    "[Click here to Google](https://usbcoaching.com/)"
   ]
  },
  {
   "cell_type": "markdown",
   "id": "86fa9732-4f50-4ca2-b6c7-5af7dca46671",
   "metadata": {},
   "source": [
    "# 14. Changing directory of jupyter notebook"
   ]
  },
  {
   "cell_type": "code",
   "execution_count": null,
   "id": "30105ffb-30ad-42c6-ac71-e16e74f959cf",
   "metadata": {},
   "outputs": [],
   "source": []
  }
 ],
 "metadata": {
  "kernelspec": {
   "display_name": "Python 3 (ipykernel)",
   "language": "python",
   "name": "python3"
  },
  "language_info": {
   "codemirror_mode": {
    "name": "ipython",
    "version": 3
   },
   "file_extension": ".py",
   "mimetype": "text/x-python",
   "name": "python",
   "nbconvert_exporter": "python",
   "pygments_lexer": "ipython3",
   "version": "3.12.7"
  }
 },
 "nbformat": 4,
 "nbformat_minor": 5
}
