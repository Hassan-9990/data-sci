{
 "cells": [
  {
   "cell_type": "markdown",
   "id": "dd4c7469-4028-4b13-abbc-f4f2dc3ddbf5",
   "metadata": {},
   "source": [
    "# L_04: Pandas Basics\n",
    "\n",
    "Pandas is a powerful Python library for data manipulation and analysis."
   ]
  },
  {
   "cell_type": "markdown",
   "id": "2e3b0fb7-1358-485a-a01f-806c6ef978c7",
   "metadata": {},
   "source": [
    " Using Upper and lower functions\n"
   ]
  },
  {
   "cell_type": "code",
   "execution_count": 20,
   "id": "2ebd5330-8340-4bbe-997f-a6f73714ca60",
   "metadata": {},
   "outputs": [
    {
     "data": {
      "text/plain": [
       "0          USB\n",
       "1         good\n",
       "2       better\n",
       "3         best\n",
       "4    institute\n",
       "dtype: object"
      ]
     },
     "execution_count": 20,
     "metadata": {},
     "output_type": "execute_result"
    }
   ],
   "source": [
    "a = pd.Series(['USB','good','better','best','institute'])\n",
    "a"
   ]
  },
  {
   "cell_type": "code",
   "execution_count": null,
   "id": "ebc7405a-8e95-4b83-a854-c2f71b3f626d",
   "metadata": {},
   "outputs": [],
   "source": [
    "a.str.upper()"
   ]
  },
  {
   "cell_type": "code",
   "execution_count": null,
   "id": "7fe35af6-fbc2-48a6-948b-d27214eb7272",
   "metadata": {},
   "outputs": [],
   "source": [
    "a.str.lower()"
   ]
  },
  {
   "cell_type": "markdown",
   "id": "a0ce217e",
   "metadata": {},
   "source": [
    "### Basic DataFrame Operations"
   ]
  },
  {
   "cell_type": "code",
   "execution_count": 2,
   "id": "85ef62d1",
   "metadata": {},
   "outputs": [
    {
     "data": {
      "text/plain": [
       "0      Alice\n",
       "1        Bob\n",
       "2    Charlie\n",
       "3      David\n",
       "Name: Name, dtype: object"
      ]
     },
     "execution_count": 2,
     "metadata": {},
     "output_type": "execute_result"
    }
   ],
   "source": [
    "# Accessing columns\n",
    "import pandas as pd\n",
    "\n",
    "# Sample data\n",
    "data = {\n",
    "    'Name': ['Alice', 'Bob', 'Charlie', 'David'],\n",
    "    'Score': [85, 92, 78, 90],\n",
    "    'Age': [23, 25, 22, 24]\n",
    "}\n",
    "df = pd.DataFrame(data)\n",
    "df\n",
    "df['Name']"
   ]
  },
  {
   "cell_type": "code",
   "execution_count": 3,
   "id": "71295690",
   "metadata": {},
   "outputs": [
    {
     "data": {
      "text/html": [
       "<div>\n",
       "<style scoped>\n",
       "    .dataframe tbody tr th:only-of-type {\n",
       "        vertical-align: middle;\n",
       "    }\n",
       "\n",
       "    .dataframe tbody tr th {\n",
       "        vertical-align: top;\n",
       "    }\n",
       "\n",
       "    .dataframe thead th {\n",
       "        text-align: right;\n",
       "    }\n",
       "</style>\n",
       "<table border=\"1\" class=\"dataframe\">\n",
       "  <thead>\n",
       "    <tr style=\"text-align: right;\">\n",
       "      <th></th>\n",
       "      <th>Score</th>\n",
       "      <th>Age</th>\n",
       "    </tr>\n",
       "  </thead>\n",
       "  <tbody>\n",
       "    <tr>\n",
       "      <th>count</th>\n",
       "      <td>4.000000</td>\n",
       "      <td>4.000000</td>\n",
       "    </tr>\n",
       "    <tr>\n",
       "      <th>mean</th>\n",
       "      <td>86.250000</td>\n",
       "      <td>23.500000</td>\n",
       "    </tr>\n",
       "    <tr>\n",
       "      <th>std</th>\n",
       "      <td>6.238322</td>\n",
       "      <td>1.290994</td>\n",
       "    </tr>\n",
       "    <tr>\n",
       "      <th>min</th>\n",
       "      <td>78.000000</td>\n",
       "      <td>22.000000</td>\n",
       "    </tr>\n",
       "    <tr>\n",
       "      <th>25%</th>\n",
       "      <td>83.250000</td>\n",
       "      <td>22.750000</td>\n",
       "    </tr>\n",
       "    <tr>\n",
       "      <th>50%</th>\n",
       "      <td>87.500000</td>\n",
       "      <td>23.500000</td>\n",
       "    </tr>\n",
       "    <tr>\n",
       "      <th>75%</th>\n",
       "      <td>90.500000</td>\n",
       "      <td>24.250000</td>\n",
       "    </tr>\n",
       "    <tr>\n",
       "      <th>max</th>\n",
       "      <td>92.000000</td>\n",
       "      <td>25.000000</td>\n",
       "    </tr>\n",
       "  </tbody>\n",
       "</table>\n",
       "</div>"
      ],
      "text/plain": [
       "           Score        Age\n",
       "count   4.000000   4.000000\n",
       "mean   86.250000  23.500000\n",
       "std     6.238322   1.290994\n",
       "min    78.000000  22.000000\n",
       "25%    83.250000  22.750000\n",
       "50%    87.500000  23.500000\n",
       "75%    90.500000  24.250000\n",
       "max    92.000000  25.000000"
      ]
     },
     "execution_count": 3,
     "metadata": {},
     "output_type": "execute_result"
    }
   ],
   "source": [
    "# Summary statistics\n",
    "import pandas as pd\n",
    "\n",
    "# Sample data\n",
    "data = {\n",
    "    'Name': ['Alice', 'Bob', 'Charlie', 'David'],\n",
    "    'Score': [85, 92, 78, 90],\n",
    "    'Age': [23, 25, 22, 24]\n",
    "}\n",
    "df = pd.DataFrame(data)\n",
    "df\n",
    "df.describe()"
   ]
  },
  {
   "cell_type": "code",
   "execution_count": 19,
   "id": "7f3276f9",
   "metadata": {},
   "outputs": [
    {
     "ename": "NameError",
     "evalue": "name 'df' is not defined",
     "output_type": "error",
     "traceback": [
      "\u001b[1;31m---------------------------------------------------------------------------\u001b[0m",
      "\u001b[1;31mNameError\u001b[0m                                 Traceback (most recent call last)",
      "Cell \u001b[1;32mIn[19], line 2\u001b[0m\n\u001b[0;32m      1\u001b[0m \u001b[38;5;66;03m# Data types\u001b[39;00m\n\u001b[1;32m----> 2\u001b[0m df\u001b[38;5;241m.\u001b[39mdtypes\n",
      "\u001b[1;31mNameError\u001b[0m: name 'df' is not defined"
     ]
    }
   ],
   "source": [
    "# Data types\n",
    "df.dtypes"
   ]
  },
  {
   "cell_type": "markdown",
   "id": "18ed3c06",
   "metadata": {},
   "source": [
    "### Indexing and Selection"
   ]
  },
  {
   "cell_type": "code",
   "execution_count": null,
   "id": "6009d53f",
   "metadata": {},
   "outputs": [],
   "source": [
    "# Select rows by index\n",
    "df.iloc[1]"
   ]
  },
  {
   "cell_type": "code",
   "execution_count": null,
   "id": "828487bf",
   "metadata": {},
   "outputs": [],
   "source": [
    "# Conditional selection\n",
    "df[df['Score'] > 85]"
   ]
  },
  {
   "cell_type": "markdown",
   "id": "9f946f66",
   "metadata": {},
   "source": [
    "### Modifying DataFrames"
   ]
  },
  {
   "cell_type": "code",
   "execution_count": null,
   "id": "dc09d892",
   "metadata": {},
   "outputs": [],
   "source": [
    "# Adding a new column\n",
    "df['Grade'] = ['B', 'A', 'A+']\n",
    "df"
   ]
  },
  {
   "cell_type": "code",
   "execution_count": null,
   "id": "3e3a57f1",
   "metadata": {},
   "outputs": [],
   "source": [
    "# Dropping a column\n",
    "df.drop('Passed', axis=1, inplace=True)\n",
    "df"
   ]
  },
  {
   "cell_type": "markdown",
   "id": "8b6a2f6e-081b-40de-84a4-0f5e2611b2b3",
   "metadata": {},
   "source": [
    "1. Create DataFrame from list of list"
   ]
  },
  {
   "cell_type": "code",
   "execution_count": null,
   "id": "d2b48410-3142-4d95-877f-9dc4f5e4bfcc",
   "metadata": {},
   "outputs": [],
   "source": [
    "list1 = [[1,2],[4,5],[6,np.nan],[8,9]]      # NaN(Not A Number) is not zero\n",
    "\n",
    "df = pd.DataFrame(list1,index = ['apple','orange','mango','banana'],columns = ['box1','box2'])\n",
    "df"
   ]
  },
  {
   "cell_type": "markdown",
   "id": "2aaae0d2-16fb-413a-a045-6a8814118e79",
   "metadata": {},
   "source": [
    "2. Reading DataFrame\n"
   ]
  },
  {
   "cell_type": "code",
   "execution_count": 26,
   "id": "685875df-62a3-4bb4-b4aa-44c631d1a74c",
   "metadata": {},
   "outputs": [
    {
     "name": "stdout",
     "output_type": "stream",
     "text": [
      "<class 'pandas.core.frame.DataFrame'>\n",
      "Index: 4 entries, apple to banana\n",
      "Data columns (total 2 columns):\n",
      " #   Column  Non-Null Count  Dtype  \n",
      "---  ------  --------------  -----  \n",
      " 0   box1    4 non-null      int64  \n",
      " 1   box2    3 non-null      float64\n",
      "dtypes: float64(1), int64(1)\n",
      "memory usage: 96.0+ bytes\n"
     ]
    }
   ],
   "source": [
    "list1 = [[1,2],[4,5],[6,np.nan],[8,9]]      # NaN(Not A Number) is not zero\n",
    "df = pd.DataFrame(list1,index = ['apple','orange','mango','banana'],columns = ['box1','box2'])\n",
    "df\n"
   ]
  },
  {
   "cell_type": "code",
   "execution_count": null,
   "id": "0413099d-d14f-4222-89ec-83842ee8e531",
   "metadata": {},
   "outputs": [],
   "source": [
    "df.info()"
   ]
  },
  {
   "cell_type": "code",
   "execution_count": null,
   "id": "c087a687-fa50-42a3-a6e9-391ca6518f95",
   "metadata": {},
   "outputs": [],
   "source": [
    "df.index    # print all index "
   ]
  },
  {
   "cell_type": "code",
   "execution_count": null,
   "id": "d34d7e96-27e2-436c-8cae-1f9ec5a11e3a",
   "metadata": {},
   "outputs": [],
   "source": [
    "df.columns  "
   ]
  },
  {
   "cell_type": "code",
   "execution_count": null,
   "id": "79927401-7c25-4ea2-ba2b-ab90a6c2953f",
   "metadata": {},
   "outputs": [],
   "source": []
  },
  {
   "cell_type": "markdown",
   "id": "178f56e7-369f-4195-b94a-700c6bfc0ed4",
   "metadata": {},
   "source": [
    "# L_04: Pandas Basics\n",
    "\n",
    "Pandas is a powerful Python library for data manipulation and analysis."
   ]
  },
  {
   "cell_type": "markdown",
   "id": "a0f53023-a497-4914-9fbe-193d1b2e573d",
   "metadata": {},
   "source": [
    "Using Upper and lower functions\n"
   ]
  },
  {
   "cell_type": "code",
   "execution_count": 27,
   "id": "358930e3-7f56-46a5-9050-acd421e65621",
   "metadata": {},
   "outputs": [
    {
     "data": {
      "text/plain": [
       "0          USB\n",
       "1         good\n",
       "2       better\n",
       "3         best\n",
       "4    institute\n",
       "dtype: object"
      ]
     },
     "execution_count": 27,
     "metadata": {},
     "output_type": "execute_result"
    }
   ],
   "source": [
    "a = pd.Series(['USB','good','better','best','institute'])\n",
    "a"
   ]
  },
  {
   "cell_type": "code",
   "execution_count": 28,
   "id": "39efc20f-7ab5-461e-86e4-d492250708e1",
   "metadata": {},
   "outputs": [
    {
     "data": {
      "text/plain": [
       "0          USB\n",
       "1         GOOD\n",
       "2       BETTER\n",
       "3         BEST\n",
       "4    INSTITUTE\n",
       "dtype: object"
      ]
     },
     "execution_count": 28,
     "metadata": {},
     "output_type": "execute_result"
    }
   ],
   "source": [
    "a.str.upper()"
   ]
  },
  {
   "cell_type": "code",
   "execution_count": 29,
   "id": "2360dafd-70ed-43fa-b6b6-183b162da776",
   "metadata": {},
   "outputs": [
    {
     "data": {
      "text/plain": [
       "0          usb\n",
       "1         good\n",
       "2       better\n",
       "3         best\n",
       "4    institute\n",
       "dtype: object"
      ]
     },
     "execution_count": 29,
     "metadata": {},
     "output_type": "execute_result"
    }
   ],
   "source": [
    "a.str.lower()"
   ]
  },
  {
   "cell_type": "code",
   "execution_count": null,
   "id": "5c9b33e9-37e1-453f-a8a5-47557c8154c4",
   "metadata": {},
   "outputs": [],
   "source": [
    "Basic DataFrame Operations"
   ]
  },
  {
   "cell_type": "code",
   "execution_count": 5,
   "id": "2dff6621-5b88-4867-a9ad-92a41d095b4a",
   "metadata": {},
   "outputs": [
    {
     "data": {
      "text/plain": [
       "0      Alice\n",
       "1        Bob\n",
       "2    Charlie\n",
       "3      David\n",
       "Name: Name, dtype: object"
      ]
     },
     "execution_count": 5,
     "metadata": {},
     "output_type": "execute_result"
    }
   ],
   "source": [
    "# Accessing columns\n",
    "import pandas as pd\n",
    "\n",
    "# Sample data\n",
    "data = {\n",
    "    'Name': ['Alice', 'Bob', 'Charlie', 'David'],\n",
    "    'Score': [85, 92, 78, 90],\n",
    "    'Age': [23, 25, 22, 24]\n",
    "}\n",
    "df = pd.DataFrame(data)\n",
    "df\n",
    "df['Name']"
   ]
  },
  {
   "cell_type": "code",
   "execution_count": 6,
   "id": "5d2a167a-1163-44eb-ab30-15e79c1a7de4",
   "metadata": {},
   "outputs": [
    {
     "data": {
      "text/html": [
       "<div>\n",
       "<style scoped>\n",
       "    .dataframe tbody tr th:only-of-type {\n",
       "        vertical-align: middle;\n",
       "    }\n",
       "\n",
       "    .dataframe tbody tr th {\n",
       "        vertical-align: top;\n",
       "    }\n",
       "\n",
       "    .dataframe thead th {\n",
       "        text-align: right;\n",
       "    }\n",
       "</style>\n",
       "<table border=\"1\" class=\"dataframe\">\n",
       "  <thead>\n",
       "    <tr style=\"text-align: right;\">\n",
       "      <th></th>\n",
       "      <th>Score</th>\n",
       "      <th>Age</th>\n",
       "    </tr>\n",
       "  </thead>\n",
       "  <tbody>\n",
       "    <tr>\n",
       "      <th>count</th>\n",
       "      <td>4.000000</td>\n",
       "      <td>4.000000</td>\n",
       "    </tr>\n",
       "    <tr>\n",
       "      <th>mean</th>\n",
       "      <td>86.250000</td>\n",
       "      <td>23.500000</td>\n",
       "    </tr>\n",
       "    <tr>\n",
       "      <th>std</th>\n",
       "      <td>6.238322</td>\n",
       "      <td>1.290994</td>\n",
       "    </tr>\n",
       "    <tr>\n",
       "      <th>min</th>\n",
       "      <td>78.000000</td>\n",
       "      <td>22.000000</td>\n",
       "    </tr>\n",
       "    <tr>\n",
       "      <th>25%</th>\n",
       "      <td>83.250000</td>\n",
       "      <td>22.750000</td>\n",
       "    </tr>\n",
       "    <tr>\n",
       "      <th>50%</th>\n",
       "      <td>87.500000</td>\n",
       "      <td>23.500000</td>\n",
       "    </tr>\n",
       "    <tr>\n",
       "      <th>75%</th>\n",
       "      <td>90.500000</td>\n",
       "      <td>24.250000</td>\n",
       "    </tr>\n",
       "    <tr>\n",
       "      <th>max</th>\n",
       "      <td>92.000000</td>\n",
       "      <td>25.000000</td>\n",
       "    </tr>\n",
       "  </tbody>\n",
       "</table>\n",
       "</div>"
      ],
      "text/plain": [
       "           Score        Age\n",
       "count   4.000000   4.000000\n",
       "mean   86.250000  23.500000\n",
       "std     6.238322   1.290994\n",
       "min    78.000000  22.000000\n",
       "25%    83.250000  22.750000\n",
       "50%    87.500000  23.500000\n",
       "75%    90.500000  24.250000\n",
       "max    92.000000  25.000000"
      ]
     },
     "execution_count": 6,
     "metadata": {},
     "output_type": "execute_result"
    }
   ],
   "source": [
    "# Summary statistics\n",
    "import pandas as pd\n",
    "\n",
    "# Sample data\n",
    "data = {\n",
    "    'Name': ['Alice', 'Bob', 'Charlie', 'David'],\n",
    "    'Score': [85, 92, 78, 90],\n",
    "    'Age': [23, 25, 22, 24]\n",
    "}\n",
    "df = pd.DataFrame(data)\n",
    "df\n",
    "df.describe()"
   ]
  },
  {
   "cell_type": "code",
   "execution_count": 7,
   "id": "e573b3a8-e52f-44ea-a9a3-11467edc7d16",
   "metadata": {},
   "outputs": [
    {
     "data": {
      "text/plain": [
       "Name     object\n",
       "Score     int64\n",
       "Age       int64\n",
       "dtype: object"
      ]
     },
     "execution_count": 7,
     "metadata": {},
     "output_type": "execute_result"
    }
   ],
   "source": [
    "# Data types\n",
    "import pandas as pd\n",
    "\n",
    "# Sample data\n",
    "data = {\n",
    "    'Name': ['Alice', 'Bob', 'Charlie', 'David'],\n",
    "    'Score': [85, 92, 78, 90],\n",
    "    'Age': [23, 25, 22, 24]\n",
    "}\n",
    "df = pd.DataFrame(data)\n",
    "df\n",
    "df.dtypes"
   ]
  },
  {
   "cell_type": "markdown",
   "id": "ec5ea401-2f57-4794-8d29-158045084768",
   "metadata": {},
   "source": [
    "Indexing and Selection\n"
   ]
  },
  {
   "cell_type": "code",
   "execution_count": 8,
   "id": "ed5bb613-066e-41ee-bcfb-8f46c84b08d1",
   "metadata": {},
   "outputs": [
    {
     "data": {
      "text/plain": [
       "Name     Bob\n",
       "Score     92\n",
       "Age       25\n",
       "Name: 1, dtype: object"
      ]
     },
     "execution_count": 8,
     "metadata": {},
     "output_type": "execute_result"
    }
   ],
   "source": [
    "# Select rows by index\n",
    "import pandas as pd\n",
    "\n",
    "# Sample data\n",
    "data = {\n",
    "    'Name': ['Alice', 'Bob', 'Charlie', 'David'],\n",
    "    'Score': [85, 92, 78, 90],\n",
    "    'Age': [23, 25, 22, 24]\n",
    "}\n",
    "df = pd.DataFrame(data)\n",
    "df\n",
    "df.iloc[1]"
   ]
  },
  {
   "cell_type": "code",
   "execution_count": 9,
   "id": "65602855-ee61-40dd-856e-c2f8d19f8159",
   "metadata": {},
   "outputs": [
    {
     "data": {
      "text/html": [
       "<div>\n",
       "<style scoped>\n",
       "    .dataframe tbody tr th:only-of-type {\n",
       "        vertical-align: middle;\n",
       "    }\n",
       "\n",
       "    .dataframe tbody tr th {\n",
       "        vertical-align: top;\n",
       "    }\n",
       "\n",
       "    .dataframe thead th {\n",
       "        text-align: right;\n",
       "    }\n",
       "</style>\n",
       "<table border=\"1\" class=\"dataframe\">\n",
       "  <thead>\n",
       "    <tr style=\"text-align: right;\">\n",
       "      <th></th>\n",
       "      <th>Name</th>\n",
       "      <th>Score</th>\n",
       "      <th>Age</th>\n",
       "    </tr>\n",
       "  </thead>\n",
       "  <tbody>\n",
       "    <tr>\n",
       "      <th>1</th>\n",
       "      <td>Bob</td>\n",
       "      <td>92</td>\n",
       "      <td>25</td>\n",
       "    </tr>\n",
       "    <tr>\n",
       "      <th>3</th>\n",
       "      <td>David</td>\n",
       "      <td>90</td>\n",
       "      <td>24</td>\n",
       "    </tr>\n",
       "  </tbody>\n",
       "</table>\n",
       "</div>"
      ],
      "text/plain": [
       "    Name  Score  Age\n",
       "1    Bob     92   25\n",
       "3  David     90   24"
      ]
     },
     "execution_count": 9,
     "metadata": {},
     "output_type": "execute_result"
    }
   ],
   "source": [
    "# Conditional selection\n",
    "import pandas as pd\n",
    "\n",
    "# Sample data\n",
    "data = {\n",
    "    'Name': ['Alice', 'Bob', 'Charlie', 'David'],\n",
    "    'Score': [85, 92, 78, 90],\n",
    "    'Age': [23, 25, 22, 24]\n",
    "}\n",
    "df = pd.DataFrame(data)\n",
    "df\n",
    "\n",
    "df[df['Score'] > 85]"
   ]
  },
  {
   "cell_type": "markdown",
   "id": "0e53f8a3-93ce-40a1-a7fb-27b9566217cb",
   "metadata": {},
   "source": [
    "Modifying DataFrames"
   ]
  },
  {
   "cell_type": "code",
   "execution_count": 16,
   "id": "12665959-967f-4b89-8c2f-4dcfee54f540",
   "metadata": {},
   "outputs": [
    {
     "data": {
      "text/html": [
       "<div>\n",
       "<style scoped>\n",
       "    .dataframe tbody tr th:only-of-type {\n",
       "        vertical-align: middle;\n",
       "    }\n",
       "\n",
       "    .dataframe tbody tr th {\n",
       "        vertical-align: top;\n",
       "    }\n",
       "\n",
       "    .dataframe thead th {\n",
       "        text-align: right;\n",
       "    }\n",
       "</style>\n",
       "<table border=\"1\" class=\"dataframe\">\n",
       "  <thead>\n",
       "    <tr style=\"text-align: right;\">\n",
       "      <th></th>\n",
       "      <th>Name</th>\n",
       "      <th>Age</th>\n",
       "    </tr>\n",
       "  </thead>\n",
       "  <tbody>\n",
       "    <tr>\n",
       "      <th>0</th>\n",
       "      <td>Alice</td>\n",
       "      <td>23</td>\n",
       "    </tr>\n",
       "    <tr>\n",
       "      <th>1</th>\n",
       "      <td>Bob</td>\n",
       "      <td>25</td>\n",
       "    </tr>\n",
       "    <tr>\n",
       "      <th>2</th>\n",
       "      <td>Charlie</td>\n",
       "      <td>22</td>\n",
       "    </tr>\n",
       "    <tr>\n",
       "      <th>3</th>\n",
       "      <td>David</td>\n",
       "      <td>24</td>\n",
       "    </tr>\n",
       "  </tbody>\n",
       "</table>\n",
       "</div>"
      ],
      "text/plain": [
       "      Name  Age\n",
       "0    Alice   23\n",
       "1      Bob   25\n",
       "2  Charlie   22\n",
       "3    David   24"
      ]
     },
     "execution_count": 16,
     "metadata": {},
     "output_type": "execute_result"
    }
   ],
   "source": [
    "# Dropping a column\n",
    "import pandas as pd\n",
    "\n",
    "# Sample data\n",
    "data = {\n",
    "    'Name': ['Alice', 'Bob', 'Charlie', 'David'],\n",
    "    'Score': [85, 92, 78, 90],\n",
    "    'Age': [23, 25, 22, 24]\n",
    "    \n",
    "}\n",
    "df = pd.DataFrame(data)\n",
    "df\n",
    "\n",
    "df.drop('Score', axis=1, inplace=True)\n",
    "df"
   ]
  },
  {
   "cell_type": "markdown",
   "id": "7ef157ad-67b0-4fcd-8313-5b72b8d4c386",
   "metadata": {},
   "source": [
    "Create DataFrame from list of list"
   ]
  },
  {
   "cell_type": "code",
   "execution_count": 18,
   "id": "5af1f22c-7803-488c-8010-34b63058090b",
   "metadata": {},
   "outputs": [
    {
     "data": {
      "text/html": [
       "<div>\n",
       "<style scoped>\n",
       "    .dataframe tbody tr th:only-of-type {\n",
       "        vertical-align: middle;\n",
       "    }\n",
       "\n",
       "    .dataframe tbody tr th {\n",
       "        vertical-align: top;\n",
       "    }\n",
       "\n",
       "    .dataframe thead th {\n",
       "        text-align: right;\n",
       "    }\n",
       "</style>\n",
       "<table border=\"1\" class=\"dataframe\">\n",
       "  <thead>\n",
       "    <tr style=\"text-align: right;\">\n",
       "      <th></th>\n",
       "      <th>box1</th>\n",
       "      <th>box2</th>\n",
       "    </tr>\n",
       "  </thead>\n",
       "  <tbody>\n",
       "    <tr>\n",
       "      <th>apple</th>\n",
       "      <td>1</td>\n",
       "      <td>2.0</td>\n",
       "    </tr>\n",
       "    <tr>\n",
       "      <th>orange</th>\n",
       "      <td>4</td>\n",
       "      <td>5.0</td>\n",
       "    </tr>\n",
       "    <tr>\n",
       "      <th>mango</th>\n",
       "      <td>6</td>\n",
       "      <td>NaN</td>\n",
       "    </tr>\n",
       "    <tr>\n",
       "      <th>banana</th>\n",
       "      <td>8</td>\n",
       "      <td>9.0</td>\n",
       "    </tr>\n",
       "  </tbody>\n",
       "</table>\n",
       "</div>"
      ],
      "text/plain": [
       "        box1  box2\n",
       "apple      1   2.0\n",
       "orange     4   5.0\n",
       "mango      6   NaN\n",
       "banana     8   9.0"
      ]
     },
     "execution_count": 18,
     "metadata": {},
     "output_type": "execute_result"
    }
   ],
   "source": [
    "import numpy as np\n",
    "import pandas as pd\n",
    "list1 = [[1,2],[4,5],[6,np.nan],[8,9]]      # NaN(Not A Number) is not zero\n",
    "\n",
    "df = pd.DataFrame(list1,index = ['apple','orange','mango','banana'],columns = ['box1','box2'])\n",
    "df"
   ]
  },
  {
   "cell_type": "markdown",
   "id": "edb82457-2002-458c-ad3f-64f76e45a4c4",
   "metadata": {},
   "source": [
    "Reading DataFrame"
   ]
  },
  {
   "cell_type": "code",
   "execution_count": 19,
   "id": "b1a612aa-d51b-48fe-a668-ba42ab1aacc0",
   "metadata": {},
   "outputs": [
    {
     "data": {
      "text/html": [
       "<div>\n",
       "<style scoped>\n",
       "    .dataframe tbody tr th:only-of-type {\n",
       "        vertical-align: middle;\n",
       "    }\n",
       "\n",
       "    .dataframe tbody tr th {\n",
       "        vertical-align: top;\n",
       "    }\n",
       "\n",
       "    .dataframe thead th {\n",
       "        text-align: right;\n",
       "    }\n",
       "</style>\n",
       "<table border=\"1\" class=\"dataframe\">\n",
       "  <thead>\n",
       "    <tr style=\"text-align: right;\">\n",
       "      <th></th>\n",
       "      <th>box1</th>\n",
       "      <th>box2</th>\n",
       "    </tr>\n",
       "  </thead>\n",
       "  <tbody>\n",
       "    <tr>\n",
       "      <th>apple</th>\n",
       "      <td>1</td>\n",
       "      <td>2.0</td>\n",
       "    </tr>\n",
       "    <tr>\n",
       "      <th>orange</th>\n",
       "      <td>4</td>\n",
       "      <td>5.0</td>\n",
       "    </tr>\n",
       "    <tr>\n",
       "      <th>mango</th>\n",
       "      <td>6</td>\n",
       "      <td>NaN</td>\n",
       "    </tr>\n",
       "    <tr>\n",
       "      <th>banana</th>\n",
       "      <td>8</td>\n",
       "      <td>9.0</td>\n",
       "    </tr>\n",
       "  </tbody>\n",
       "</table>\n",
       "</div>"
      ],
      "text/plain": [
       "        box1  box2\n",
       "apple      1   2.0\n",
       "orange     4   5.0\n",
       "mango      6   NaN\n",
       "banana     8   9.0"
      ]
     },
     "execution_count": 19,
     "metadata": {},
     "output_type": "execute_result"
    }
   ],
   "source": [
    "list1 = [[1,2],[4,5],[6,np.nan],[8,9]] # NaN(Not A Number) is not zero\n",
    "df = pd.DataFrame(list1,index = ['apple','orange','mango','banana'],columns = ['box1','box2'])\n",
    "df\n"
   ]
  },
  {
   "cell_type": "code",
   "execution_count": 20,
   "id": "7f7589d3-1fab-4944-9955-7470c0825a03",
   "metadata": {},
   "outputs": [
    {
     "name": "stdout",
     "output_type": "stream",
     "text": [
      "<class 'pandas.core.frame.DataFrame'>\n",
      "Index: 4 entries, apple to banana\n",
      "Data columns (total 2 columns):\n",
      " #   Column  Non-Null Count  Dtype  \n",
      "---  ------  --------------  -----  \n",
      " 0   box1    4 non-null      int64  \n",
      " 1   box2    3 non-null      float64\n",
      "dtypes: float64(1), int64(1)\n",
      "memory usage: 96.0+ bytes\n"
     ]
    }
   ],
   "source": [
    "list1 = [[1,2],[4,5],[6,np.nan],[8,9]] # NaN(Not A Number) is not zero\n",
    "df = pd.DataFrame(list1,index = ['apple','orange','mango','banana'],columns = ['box1','box2'])\n",
    "df\n",
    "\n",
    "df.info()"
   ]
  },
  {
   "cell_type": "code",
   "execution_count": null,
   "id": "5c88b096-a720-46eb-8873-cd959fd4feee",
   "metadata": {},
   "outputs": [],
   "source": [
    "\n",
    "df.index    # print all index "
   ]
  }
 ],
 "metadata": {
  "kernelspec": {
   "display_name": "Python 3 (ipykernel)",
   "language": "python",
   "name": "python3"
  },
  "language_info": {
   "codemirror_mode": {
    "name": "ipython",
    "version": 3
   },
   "file_extension": ".py",
   "mimetype": "text/x-python",
   "name": "python",
   "nbconvert_exporter": "python",
   "pygments_lexer": "ipython3",
   "version": "3.12.7"
  }
 },
 "nbformat": 4,
 "nbformat_minor": 5
}
