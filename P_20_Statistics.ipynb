{
 "cells": [
  {
   "cell_type": "code",
   "execution_count": null,
   "id": "4d6bab22",
   "metadata": {},
   "outputs": [],
   "source": [
    "# Mean, Median, Mode\n",
    "\n",
    "import statistics as stats\n",
    "\n",
    "data = [1, 2, 2, 3, 4, 5, 5, 5]\n",
    "\n",
    "print(\"Mean:\", stats.mean(data))\n",
    "print(\"Median:\", stats.median(data))\n",
    "print(\"Mode:\", stats.mode(data))\n",
    "\n",
    "\n",
    "# Mean is average value.(add on)\n",
    "\n",
    "# Find mean of given numbers\n",
    "\n",
    "# b) 16,18,19,21,23,23,27,29,29,35\n",
    "\n",
    "list1 = [16, 18, 19, 21, 23, 23, 27, 29, 29, 35]\n",
    "mean = sum(list1) / len(list1)\n",
    "print(mean)\n",
    "\n",
    "# Find the median of given numbers.(add on)\n",
    "\n",
    "# 27,39,49,20,21,28,38//28 #for odd numbers of elements\n",
    "l4 = [27, 39, 49, 20, 21, 28, 38]\n",
    "l4.sort()\n",
    "print(l4)\n",
    "a = len(l4)\n",
    "b=a//2\n",
    "b = int(a / 2)\n",
    "print('b=', b)\n",
    "median = l4[b]\n",
    "print(l4, \"median is \", median)\n",
    "\n",
    "\n",
    "# Find the mode of the following data:(add on)\n",
    "# a) 12,8,4,8,1,1,1,1,8,9,11,9,10,12,8 \n",
    "\n",
    "list3 = [12, 8, 4, 8, 1, 8, 9, 11, 9, 10, 12, 8]\n",
    "count = 0\n",
    "x = 0\n",
    "for i in list3:\n",
    "     a = list3.count(i)\n",
    "     if count <= a:\n",
    "         count = a\n",
    "         x = i\n",
    "if count == 1:\n",
    "    print(\"No mode\")\n",
    "else:\n",
    "     print(\"count is \", count, \"\\nmode is \", x)\n",
    "\n",
    "# 4.Calculate the standard deviation for the following data sets :\n",
    "# a) 13,21,27,31,35,24,28,32,17,20 Ans 6.69\n",
    "# b) 100,115,112,113,95,87,90,104,107,98 Ans 9.25\n",
    "# c) 55,54,59,55,52,51,57,49,61,57 Ans 3.49\n",
    "b = 0\n",
    "list4 = [13, 21, 27, 31, 35, 24, 28, 32, 17, 20]\n",
    "mean = sum(list4) / len(list4)\n",
    "for i in list4:\n",
    "    x = ((i - mean) ** 2) / len(list4)\n",
    "    b = b + x\n",
    "\n",
    "print(b ** 0.5)\n",
    "\n",
    "\n",
    "# Q: Use numpy or pandas for same\n"
   ]
  },
  {
   "cell_type": "markdown",
   "id": "138f9763-3625-4e07-8531-65c89b2148da",
   "metadata": {},
   "source": [
    "# Mean, Median, Mode\n"
   ]
  },
  {
   "cell_type": "code",
   "execution_count": 1,
   "id": "a00b780b-1e47-41b6-9e16-18e59b623e0e",
   "metadata": {},
   "outputs": [
    {
     "name": "stdout",
     "output_type": "stream",
     "text": [
      "Mean: 3.375\n",
      "Median: 3.5\n",
      "Mode: 5\n"
     ]
    }
   ],
   "source": [
    "import statistics as stats\n",
    "\n",
    "data = [1, 2, 2, 3, 4, 5, 5, 5]\n",
    "\n",
    "print(\"Mean:\", stats.mean(data))\n",
    "print(\"Median:\", stats.median(data))\n",
    "print(\"Mode:\", stats.mode(data))\n"
   ]
  },
  {
   "cell_type": "code",
   "execution_count": 2,
   "id": "59e5f367-e159-48be-83aa-99ec4daaf18f",
   "metadata": {},
   "outputs": [
    {
     "name": "stdout",
     "output_type": "stream",
     "text": [
      "24.0\n"
     ]
    }
   ],
   "source": [
    "# Mean is average value.(add on)\n",
    "\n",
    "# Find mean of given numbers\n",
    "\n",
    "# b) 16,18,19,21,23,23,27,29,29,35\n",
    "\n",
    "list1 = [16, 18, 19, 21, 23, 23, 27, 29, 29, 35]\n",
    "mean = sum(list1) / len(list1)\n",
    "print(mean)"
   ]
  },
  {
   "cell_type": "code",
   "execution_count": 3,
   "id": "812483f2-b066-4871-8222-b754d6152590",
   "metadata": {},
   "outputs": [
    {
     "name": "stdout",
     "output_type": "stream",
     "text": [
      "[20, 21, 27, 28, 38, 39, 49]\n",
      "b= 3\n",
      "[20, 21, 27, 28, 38, 39, 49] median is  28\n"
     ]
    }
   ],
   "source": [
    "# Find the median of given numbers.(add on)\n",
    "\n",
    "# 27,39,49,20,21,28,38//28 #for odd numbers of elements\n",
    "l4 = [27, 39, 49, 20, 21, 28, 38]\n",
    "l4.sort()\n",
    "print(l4)\n",
    "a = len(l4)\n",
    "b=a//2\n",
    "b = int(a / 2)\n",
    "print('b=', b)\n",
    "median = l4[b]\n",
    "print(l4, \"median is \", median)"
   ]
  },
  {
   "cell_type": "code",
   "execution_count": 4,
   "id": "ab312905-f81d-4576-941a-85b14462fb07",
   "metadata": {},
   "outputs": [
    {
     "name": "stdout",
     "output_type": "stream",
     "text": [
      "count is  4 \n",
      "mode is  8\n"
     ]
    }
   ],
   "source": [
    "# Find the mode of the following data:(add on)\n",
    "# a) 12,8,4,8,1,1,1,1,8,9,11,9,10,12,8 \n",
    "\n",
    "list3 = [12, 8, 4, 8, 1, 8, 9, 11, 9, 10, 12, 8]\n",
    "count = 0\n",
    "x = 0\n",
    "for i in list3:\n",
    "     a = list3.count(i)\n",
    "     if count <= a:\n",
    "         count = a\n",
    "         x = i\n",
    "if count == 1:\n",
    "    print(\"No mode\")\n",
    "else:\n",
    "     print(\"count is \", count, \"\\nmode is \", x)\n"
   ]
  },
  {
   "cell_type": "code",
   "execution_count": null,
   "id": "8bcf287b-6b06-4dd9-8909-e5eb84b424cb",
   "metadata": {},
   "outputs": [],
   "source": []
  }
 ],
 "metadata": {
  "kernelspec": {
   "display_name": "Python 3 (ipykernel)",
   "language": "python",
   "name": "python3"
  },
  "language_info": {
   "codemirror_mode": {
    "name": "ipython",
    "version": 3
   },
   "file_extension": ".py",
   "mimetype": "text/x-python",
   "name": "python",
   "nbconvert_exporter": "python",
   "pygments_lexer": "ipython3",
   "version": "3.12.7"
  }
 },
 "nbformat": 4,
 "nbformat_minor": 5
}
