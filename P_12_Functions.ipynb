{
 "cells": [
  {
   "cell_type": "code",
   "execution_count": null,
   "id": "f61ea945",
   "metadata": {},
   "outputs": [],
   "source": [
    "# Functions\n",
    "\n",
    "def greet(name):\n",
    "    return f\"Hello, {name}\"\n",
    "\n",
    "print(greet(\"Alice\"))\n",
    "\n",
    "# Default & keyword args\n",
    "def power(x, y=2):\n",
    "    return x ** y\n",
    "\n",
    "print(power(3))\n",
    "print(power(2, 3))\n",
    "\n",
    "# # Some built-in functions in python (add on)\n",
    "list1 = [1, 2, 3]\n",
    "t = (2, 4, 8)\n",
    "print(len(t))\n",
    "print(max(t))\n",
    "print(sum(list1))\n",
    "print(type(list1))\n",
    "print(abs(3))\n",
    "\n",
    "\n",
    "# #For more search, \"in build functions\">>>python.orgadd on(\n",
    "\n",
    "# Nested function(ad on)\n",
    " def outer():\n",
    "     def inner():\n",
    "         x = 3\n",
    "         y = 4\n",
    "         a = x + y\n",
    "         return a\n",
    "\n",
    "     return inner()\n",
    "\n",
    "\n",
    " b = outer()\n",
    " print(b)\n",
    "\n",
    "# # 6. function as argument(add on)\n",
    "def function1():\n",
    "     print(30)\n",
    "\n",
    "\n",
    " def function2(x):\n",
    "     print(45)\n",
    "     x()\n",
    "\n",
    "\n",
    " function1()\n",
    " function2(function1)\n",
    "\n",
    "# usb = lambda: \"Well come to USB\"  # lambda function with no arguments(add on)\n",
    "print(usb())\n",
    "\n",
    " multi = lambda a, b: a * b\n",
    " print(multi(2, 4))\n",
    "\n",
    "\n",
    "# Types of arguments(add on)\n",
    "\n",
    "# 1.Positional arguments\n",
    " def info1(name, balance):\n",
    "     print(name)\n",
    "     print(balance)\n",
    "\n",
    " info1('bilal',2100)\n",
    "\n",
    "\n",
    "# 2. Key word arguments\n",
    " def info2(name, balance):\n",
    "     print(name)\n",
    "     print(balance)\n",
    "\n",
    " info2(balance=2100, name='bilal')\n",
    "\n",
    "\n",
    "# 3. Default argument\n",
    " def info3(name, sex='Male'):\n",
    "     print(name)\n",
    "     print(sex)\n",
    "\n",
    "\n",
    " info3('sana','female')\n",
    "\n",
    "\n",
    "# 4. Variable argument(add on)\n",
    " def info4(*name):\n",
    "     print(name)\n",
    "\n",
    "\n",
    "info4('bilal','rohit','giri')\n",
    "\n",
    "# Call argument with Variable_keywords(add on)\n",
    "def studentinfo(name, **info):\n",
    "     print(name)\n",
    "     print(info)\n",
    "     #for i, j in info.items():\n",
    "         #print(i, j)\n",
    "\n",
    "\n",
    " studentinfo('bilal', fees='90K',balance='90k')\n",
    "\n",
    "#  local and global variable,recursion(add on)\n",
    "a = 0\n",
    "\n",
    " def try1():\n",
    "     global a\n",
    "    a = a + 1\n",
    "     print(a)\n",
    "     try1()\n",
    "\n",
    "\n",
    " try1()\n",
    "\n",
    "\n",
    "# Q1.Create a function that returns factorial\n",
    "# Q2.fruits = [\"apple\", \"banana\", \"cherry\"] write a function name it 'code1',\n",
    "#    if there is apple in list print found, otherwise print not found,\n",
    "#    use code1 on nuts = [\"mango\", \"banana\", \"cherry\",\"apple\"]\n",
    "# \n",
    "# Q3.fruits = [\"apple\", \"banana\", \"cherry\"] write a function to return\n",
    "#   apple and banana found, otherwise print not found. use this function on\n",
    "#   greatfruits = [\"pineapple\", \"apple\", \"greenbanana\", \"banana\", \"cherry\"]\n",
    "# Q4.print square of a number by user, define function for it\n",
    "# Q5.define function for sorting the list\n",
    "#   list1 = [589.36, 237.81, 230.87, 463.98, 453.42]\n",
    "# Q6.define a function which returns the number multiplied by 5\n",
    "#   b=int(input('enter any number '))\n",
    "# Q7.add new month to the list\n",
    "#    month = ['Jan', 'Feb', 'Mar']\n",
    "#    months = ['January', 'February', 'March']\n",
    "# Q8.write a function to return square of list\n",
    "#    list1 = [2, 3, 6, 8]\n",
    "\n",
    "# End of session\n"
   ]
  },
  {
   "cell_type": "markdown",
   "id": "d21d0037-2aa7-4c21-8be1-55188e52cd8d",
   "metadata": {},
   "source": [
    "# Functions"
   ]
  },
  {
   "cell_type": "code",
   "execution_count": 1,
   "id": "72bd2852-3d63-40a4-848b-d6944518f9ef",
   "metadata": {},
   "outputs": [
    {
     "name": "stdout",
     "output_type": "stream",
     "text": [
      "Hello, Alice\n"
     ]
    }
   ],
   "source": [
    "# Functions\n",
    "\n",
    "def greet(name):\n",
    "    return f\"Hello, {name}\"\n",
    "\n",
    "print(greet(\"Alice\"))\n"
   ]
  },
  {
   "cell_type": "code",
   "execution_count": 2,
   "id": "270ccfde-cc11-4d63-b10d-d471510fe7b0",
   "metadata": {},
   "outputs": [
    {
     "name": "stdout",
     "output_type": "stream",
     "text": [
      "9\n",
      "8\n"
     ]
    }
   ],
   "source": [
    "# Default & keyword args\n",
    "def power(x, y=2):\n",
    "    return x ** y\n",
    "\n",
    "print(power(3))\n",
    "print(power(2, 3))"
   ]
  },
  {
   "cell_type": "code",
   "execution_count": 3,
   "id": "97762902-c34c-4078-ae07-2380f1d3412b",
   "metadata": {},
   "outputs": [
    {
     "name": "stdout",
     "output_type": "stream",
     "text": [
      "3\n",
      "8\n",
      "6\n",
      "<class 'list'>\n",
      "3\n"
     ]
    }
   ],
   "source": [
    "# # Some built-in functions in python(add on)\n",
    "list1 = [1, 2, 3]\n",
    "t = (2, 4, 8)\n",
    "print(len(t))\n",
    "print(max(t))\n",
    "print(sum(list1))\n",
    "print(type(list1))\n",
    "print(abs(3))\n"
   ]
  },
  {
   "cell_type": "code",
   "execution_count": null,
   "id": "2cbf1c26-9f20-4421-b18c-1fd4d7ecac97",
   "metadata": {},
   "outputs": [],
   "source": [
    "# #For more search, \"in build functions\">>>python.org(add on)"
   ]
  },
  {
   "cell_type": "code",
   "execution_count": 8,
   "id": "f88ca7aa-18a0-4399-b050-385b0bde2d4c",
   "metadata": {},
   "outputs": [
    {
     "name": "stdout",
     "output_type": "stream",
     "text": [
      "7\n"
     ]
    }
   ],
   "source": [
    "# Nested function(add on)\n",
    "def outer():\n",
    "     def inner():\n",
    "         x = 3\n",
    "         y = 4\n",
    "         a = x + y\n",
    "         return a\n",
    "\n",
    "     return inner()\n",
    "\n",
    "\n",
    "b = outer()\n",
    "print(b)"
   ]
  },
  {
   "cell_type": "code",
   "execution_count": 15,
   "id": "71402054-166b-4a5d-a962-b2b9df3ec37b",
   "metadata": {},
   "outputs": [
    {
     "name": "stdout",
     "output_type": "stream",
     "text": [
      "30\n",
      "45\n",
      "30\n"
     ]
    }
   ],
   "source": [
    "# # 6. function as argument(add on)\n",
    "def function1():\n",
    "     print(30)\n",
    "\n",
    "\n",
    "def function2(x):\n",
    "     print(45)\n",
    "     x()\n",
    "\n",
    "function1()\n",
    "function2(function1)"
   ]
  },
  {
   "cell_type": "code",
   "execution_count": 19,
   "id": "eca2944e-a407-4aa4-9d37-b548f80af08f",
   "metadata": {},
   "outputs": [
    {
     "name": "stdout",
     "output_type": "stream",
     "text": [
      "Well come to USB\n",
      "8\n"
     ]
    }
   ],
   "source": [
    "# lambda function with no arguments(add on)\n",
    "usb = lambda: \"Well come to USB\"\n",
    "print(usb())\n",
    "\n",
    "multi = lambda a, b: a * b\n",
    "print(multi(2, 4))\n"
   ]
  },
  {
   "cell_type": "code",
   "execution_count": 25,
   "id": "ab29aa64-e5b6-4795-a22b-06e09f5f0e52",
   "metadata": {},
   "outputs": [
    {
     "name": "stdout",
     "output_type": "stream",
     "text": [
      "bilal\n",
      "2100\n",
      "bilal\n",
      "2100\n",
      "sana\n",
      "female\n",
      "('bilal', 'rohit', 'giri')\n"
     ]
    }
   ],
   "source": [
    "# Types of arguments(add on)\n",
    "\n",
    "# 1.Positional arguments\n",
    "def info1(name, balance):\n",
    "     print(name)\n",
    "     print(balance)\n",
    "\n",
    "info1('bilal',2100)\n",
    "\n",
    "\n",
    "# 2. Key word arguments\n",
    "def info2(name, balance):\n",
    "     print(name)\n",
    "     print(balance)\n",
    "\n",
    "info2(balance=2100, name='bilal')\n",
    "\n",
    "\n",
    "# 3. Default argument\n",
    "def info3(name, sex='Male'):\n",
    "     print(name)\n",
    "     print(sex)\n",
    "\n",
    "\n",
    "info3('sana','female')\n",
    "\n",
    "\n",
    "# 4. Variable argument\n",
    "def info4(*name):\n",
    "     print(name)\n",
    "\n",
    "\n",
    "info4('bilal','rohit','giri')"
   ]
  },
  {
   "cell_type": "code",
   "execution_count": 28,
   "id": "7a6787d4-02a3-40a5-bca1-d1e140c6d0a2",
   "metadata": {},
   "outputs": [
    {
     "name": "stdout",
     "output_type": "stream",
     "text": [
      "bilal\n",
      "{'fees': '90K', 'balance': '90k'}\n"
     ]
    }
   ],
   "source": [
    "# Call argument with Variable_keywords(add on)\n",
    "def studentinfo(name, **info):\n",
    "     print(name)\n",
    "     print(info)\n",
    "     #for i, j in info.items():\n",
    "         #print(i, j)\n",
    "\n",
    "\n",
    "studentinfo('bilal', fees='90K',balance='90k')"
   ]
  },
  {
   "cell_type": "code",
   "execution_count": 34,
   "id": "eaaae1cd-67b0-43a0-9f8f-7c3f647d5078",
   "metadata": {},
   "outputs": [
    {
     "name": "stdout",
     "output_type": "stream",
     "text": [
      "1\n"
     ]
    }
   ],
   "source": [
    "#  local and global variable,recursion(add on)\n",
    "a = 0\n",
    "\n",
    "def try1():\n",
    "     global a\n",
    "a = a + 1\n",
    "print(a)\n",
    "try1()\n",
    "\n",
    "\n",
    "try1()\n"
   ]
  },
  {
   "cell_type": "code",
   "execution_count": null,
   "id": "83bc1aff-3f8c-4a71-8fc8-03bd9fb322ee",
   "metadata": {},
   "outputs": [],
   "source": [
    "# Q1.Create a function that returns factorial\n",
    "# Q2.fruits = [\"apple\", \"banana\", \"cherry\"] write a function name it 'code1',\n",
    "#    if there is apple in list print found, otherwise print not found,\n",
    "#    use code1 on nuts = [\"mango\", \"banana\", \"cherry\",\"apple\"]\n",
    "# \n",
    "# Q3.fruits = [\"apple\", \"banana\", \"cherry\"] write a function to return\n",
    "#   apple and banana found, otherwise print not found. use this function on\n",
    "#   greatfruits = [\"pineapple\", \"apple\", \"greenbanana\", \"banana\", \"cherry\"]\n",
    "# Q4.print square of a number by user, define function for it\n",
    "# Q5.define function for sorting the list\n",
    "#   list1 = [589.36, 237.81, 230.87, 463.98, 453.42]\n",
    "# Q6.define a function which returns the number multiplied by 5\n",
    "#   b=int(input('enter any number '))\n",
    "# Q7.add new month to the list\n",
    "#    month = ['Jan', 'Feb', 'Mar']\n",
    "#    months = ['January', 'February', 'March']\n",
    "# Q8.write a function to return square of list\n",
    "#    list1 = [2, 3, 6, 8]\n",
    "\n",
    "# End of session"
   ]
  }
 ],
 "metadata": {
  "kernelspec": {
   "display_name": "Python 3 (ipykernel)",
   "language": "python",
   "name": "python3"
  },
  "language_info": {
   "codemirror_mode": {
    "name": "ipython",
    "version": 3
   },
   "file_extension": ".py",
   "mimetype": "text/x-python",
   "name": "python",
   "nbconvert_exporter": "python",
   "pygments_lexer": "ipython3",
   "version": "3.12.7"
  }
 },
 "nbformat": 4,
 "nbformat_minor": 5
}
