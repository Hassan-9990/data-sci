{
 "cells": [
  {
   "cell_type": "code",
   "execution_count": null,
   "id": "1e060c25",
   "metadata": {},
   "outputs": [],
   "source": [
    "# Conditional Statements\n",
    "\n",
    "x = 10\n",
    "y = 5\n",
    "\n",
    "if x > y:\n",
    "    print(\"x is greater than y\")\n",
    "elif x == y:\n",
    "    print(\"x equals y\")\n",
    "else:\n",
    "    print(\"x is less than y\")\n",
    "\n",
    "# Shorthand\n",
    "print(\"x > y\") if x > y else print(\"x <= y\")\n",
    "\n",
    "# Nested if\n",
    "if x > 0:\n",
    "    if y > 0:\n",
    "        print(\"Both x and y are positive\")\n",
    "        \n",
    "\n",
    "# Program checks if the numbers is positive\n",
    "# or negative and displays an appropriate message (add on)\n",
    "num = -2\n",
    " if num > 0:\n",
    "     print(num, 'is positive')\n",
    "\n",
    " else:\n",
    "     print(num, 'is negative')\n",
    "\n",
    "\n",
    "# Check the no. is positive,negative or zero (add on)\n",
    " num = -3\n",
    " if num > 0:\n",
    "     print(num, 'is positive')\n",
    " elif num == 0:\n",
    "    print(num, 'is zero')\n",
    " else :\n",
    "     print(num, 'is negative')\n",
    "\n",
    "\n",
    "# The symbol \" % \" , in python is called\n",
    "# Modulo or Modulus, it returns remainder (add on)\n",
    " x = 8\n",
    " print(x%2)\n",
    " x%2 == 1  # >>> True\n",
    " x%2 == 0  # >>> False\n",
    "\n",
    " a = 7\n",
    " print(a%2)\n",
    " if a % 2 == 1:\n",
    "     print(a, 'is odd')\n",
    "\n",
    "\n",
    "# Nested \"if else\" (add on)\n",
    " n = -3\n",
    " if n >= 0:\n",
    "     if n == 0:\n",
    "         print('number is zero')\n",
    "     else:\n",
    "         print(n, 'is positive')\n",
    " else:\n",
    "     print(n, 'is negative')\n",
    "\n",
    "\n",
    " \n",
    "\n",
    "\n",
    "\n",
    " \n",
    "\n",
    "# Q1. Write a program to check if a number is even or odd.\n",
    "# Q2. Check whether a year is a leap year.\n",
    "# Q3.print how many times 't' is repeated\n",
    "# Q4.replace 'lecture' with 'session'\n",
    "# Q5.what is the index of 'o' ?\n",
    "# Q6. convert string into upper case\n",
    "# Q7. print 'welcome lecture'\n",
    "# Q8.seperate each word by comma\n",
    "# Q9.check if string is alphanumeric\n",
    "# Q10.check if string has last character 'e'\n",
    "\n"
   ]
  },
  {
   "cell_type": "markdown",
   "id": "189e1f68-b0e9-4bd3-8d7d-0fc8397836d6",
   "metadata": {},
   "source": [
    "# Conditional Statements"
   ]
  },
  {
   "cell_type": "code",
   "execution_count": 1,
   "id": "b4b4489e-9a00-41e9-91da-8e148ab0d6c6",
   "metadata": {},
   "outputs": [
    {
     "name": "stdout",
     "output_type": "stream",
     "text": [
      "x is greater than y\n"
     ]
    }
   ],
   "source": [
    "x = 10\n",
    "y = 5\n",
    "\n",
    "if x > y:\n",
    "    print(\"x is greater than y\")\n",
    "elif x == y:\n",
    "    print(\"x equals y\")\n",
    "else:\n",
    "    print(\"x is less than y\")\n"
   ]
  },
  {
   "cell_type": "code",
   "execution_count": 2,
   "id": "63a286fa-a1a0-4d09-b0a5-23201e4028f3",
   "metadata": {},
   "outputs": [
    {
     "name": "stdout",
     "output_type": "stream",
     "text": [
      "x > y\n"
     ]
    }
   ],
   "source": [
    "# Shorthand\n",
    "print(\"x > y\") if x > y else print(\"x <= y\")"
   ]
  },
  {
   "cell_type": "code",
   "execution_count": 3,
   "id": "b4c79511-e74c-4d20-acb8-bd207c69d6da",
   "metadata": {},
   "outputs": [
    {
     "name": "stdout",
     "output_type": "stream",
     "text": [
      "Both x and y are positive\n"
     ]
    }
   ],
   "source": [
    "# Nested if\n",
    "if x > 0:\n",
    "    if y > 0:\n",
    "        print(\"Both x and y are positive\")"
   ]
  },
  {
   "cell_type": "code",
   "execution_count": 10,
   "id": "b6d52f33-c18f-4666-9f89-b936bdf3c9bc",
   "metadata": {},
   "outputs": [
    {
     "name": "stdout",
     "output_type": "stream",
     "text": [
      "-2 is negative\n"
     ]
    }
   ],
   "source": [
    "num = -2\n",
    "if num > 0:\n",
    "      print(num, 'is positive')\n",
    "else:\n",
    "     print(num, 'is negative')"
   ]
  },
  {
   "cell_type": "code",
   "execution_count": 15,
   "id": "2b858d41-e838-45a1-974d-10b60b9acb4d",
   "metadata": {},
   "outputs": [
    {
     "name": "stdout",
     "output_type": "stream",
     "text": [
      "-3 is negative\n"
     ]
    }
   ],
   "source": [
    "# Check the no. is positive,negative or zero (add on)\n",
    "num = -3\n",
    "if num > 0:\n",
    "     print(num, 'is positive')\n",
    "elif num == 0:\n",
    "    print(num, 'is zero')\n",
    "else :\n",
    "     print(num, 'is negative')\n"
   ]
  },
  {
   "cell_type": "code",
   "execution_count": 21,
   "id": "21196045-ab53-41b9-92e4-9710b9d40b57",
   "metadata": {},
   "outputs": [
    {
     "name": "stdout",
     "output_type": "stream",
     "text": [
      "0\n",
      "1\n",
      "7 is odd\n"
     ]
    }
   ],
   "source": [
    "# The symbol \" % \" , in python is called\n",
    "# Modulo or Modulus, it returns remainder (add on)\n",
    "x = 8\n",
    "print(x%2)\n",
    "x%2 == 1  # >>> True\n",
    "x%2 == 0  # >>> False\n",
    "\n",
    "a = 7\n",
    "print(a%2)\n",
    "if a % 2 == 1:\n",
    " print(a, 'is odd')\n"
   ]
  },
  {
   "cell_type": "code",
   "execution_count": 25,
   "id": "29e02232-6a13-4692-82e9-9ca5cc525cd7",
   "metadata": {},
   "outputs": [
    {
     "name": "stdout",
     "output_type": "stream",
     "text": [
      "-3 is negative\n"
     ]
    }
   ],
   "source": [
    "# Nested \"if else\" (add on)\n",
    "n = -3\n",
    "if n >= 0:\n",
    "     if n == 0:\n",
    "         print('number is zero')\n",
    "     else:\n",
    "         print(n, 'is positive')\n",
    "else:\n",
    "     print(n, 'is negative')\n"
   ]
  },
  {
   "cell_type": "code",
   "execution_count": null,
   "id": "09503a83-423b-434f-99d8-cc29f7a570ff",
   "metadata": {},
   "outputs": [],
   "source": [
    "# Q1. Write a program to check if a number is even or odd.\n",
    "# Q2. Check whether a year is a leap year.\n",
    "# Q3.print how many times 't' is repeated\n",
    "# Q4.replace 'lecture' with 'session'\n",
    "# Q5.what is the index of 'o' ?\n",
    "# Q6. convert string into upper case\n",
    "# Q7. print 'welcome lecture'\n",
    "# Q8.seperate each word by comma\n",
    "# Q9.check if string is alphanumeric\n",
    "# Q10.check if string has last character 'e'\n",
    "\n",
    "\n"
   ]
  }
 ],
 "metadata": {
  "kernelspec": {
   "display_name": "Python 3 (ipykernel)",
   "language": "python",
   "name": "python3"
  },
  "language_info": {
   "codemirror_mode": {
    "name": "ipython",
    "version": 3
   },
   "file_extension": ".py",
   "mimetype": "text/x-python",
   "name": "python",
   "nbconvert_exporter": "python",
   "pygments_lexer": "ipython3",
   "version": "3.12.7"
  }
 },
 "nbformat": 4,
 "nbformat_minor": 5
}
