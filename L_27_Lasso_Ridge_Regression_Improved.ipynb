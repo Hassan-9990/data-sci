{
 "cells": [
  {
   "cell_type": "markdown",
   "id": "568426d5-d07f-4f6c-b25e-03670b22fe7d",
   "metadata": {},
   "source": [
    "# L_27: Lasso and Ridge Regression\n",
    "\n",
    "Lasso and Ridge are regularized versions of linear regression that help prevent overfitting."
   ]
  },
  {
   "cell_type": "code",
   "execution_count": null,
   "id": "54f0b634",
   "metadata": {},
   "outputs": [],
   "source": [
    "import numpy as np\n",
    "import matplotlib.pyplot as plt\n",
    "from sklearn.linear_model import Ridge, Lasso\n",
    "from sklearn.model_selection import train_test_split\n",
    "from sklearn.metrics import mean_squared_error"
   ]
  },
  {
   "cell_type": "code",
   "execution_count": null,
   "id": "497f7180",
   "metadata": {},
   "outputs": [],
   "source": [
    "# Generate synthetic data\n",
    "np.random.seed(42)\n",
    "X = np.random.rand(100, 1) * 10\n",
    "y = 3 * X.squeeze() + np.random.randn(100) * 2"
   ]
  },
  {
   "cell_type": "code",
   "execution_count": null,
   "id": "41633d4d",
   "metadata": {},
   "outputs": [],
   "source": [
    "# Split the data\n",
    "X_train, X_test, y_train, y_test = train_test_split(X, y, test_size=0.3, random_state=42)"
   ]
  },
  {
   "cell_type": "code",
   "execution_count": null,
   "id": "1dbf9ec2",
   "metadata": {},
   "outputs": [],
   "source": [
    "# Ridge Regression\n",
    "ridge = Ridge(alpha=1.0)\n",
    "ridge.fit(X_train, y_train)\n",
    "ridge_pred = ridge.predict(X_test)"
   ]
  },
  {
   "cell_type": "code",
   "execution_count": null,
   "id": "68a27eb7",
   "metadata": {},
   "outputs": [],
   "source": [
    "# Lasso Regression\n",
    "lasso = Lasso(alpha=0.1)\n",
    "lasso.fit(X_train, y_train)\n",
    "lasso_pred = lasso.predict(X_test)"
   ]
  },
  {
   "cell_type": "code",
   "execution_count": null,
   "id": "68c53854",
   "metadata": {},
   "outputs": [],
   "source": [
    "# Evaluate\n",
    "print(\"Ridge MSE:\", mean_squared_error(y_test, ridge_pred))\n",
    "print(\"Lasso MSE:\", mean_squared_error(y_test, lasso_pred))"
   ]
  },
  {
   "cell_type": "code",
   "execution_count": null,
   "id": "edaecedd",
   "metadata": {},
   "outputs": [],
   "source": [
    "# Plot\n",
    "plt.scatter(X_test, y_test, color='black', label='Actual')\n",
    "plt.plot(X_test, ridge_pred, label='Ridge', color='blue')\n",
    "plt.plot(X_test, lasso_pred, label='Lasso', color='red')\n",
    "plt.legend()\n",
    "plt.title(\"Ridge vs Lasso Regression\")\n",
    "plt.show()"
   ]
  },
  {
   "cell_type": "markdown",
   "id": "c346bfdf-bc6c-4984-ab09-d306a88d687e",
   "metadata": {},
   "source": [
    "## 🧠 Key Differences:\n",
    "- **Ridge** (L2): Penalizes large coefficients, but keeps all features.\n",
    "- **Lasso** (L1): Can shrink some coefficients to zero, performing feature selection."
   ]
  },
  {
   "cell_type": "markdown",
   "id": "810f20c6",
   "metadata": {},
   "source": [
    "✅ Use **Ridge** for multicollinearity and **Lasso** for feature reduction."
   ]
  },
  {
   "cell_type": "markdown",
   "id": "ee362c77-96c1-4509-9940-38701d583240",
   "metadata": {},
   "source": [
    "# L_27: Lasso and Ridge Regression\n",
    "\n",
    "Lasso and Ridge are regularized versions of linear regression that help prevent overfitting."
   ]
  },
  {
   "cell_type": "code",
   "execution_count": 1,
   "id": "5f76dc6d-4045-448f-b2b4-367a46e7bb24",
   "metadata": {},
   "outputs": [],
   "source": [
    "import numpy as np\n",
    "import matplotlib.pyplot as plt\n",
    "from sklearn.linear_model import Ridge, Lasso\n",
    "from sklearn.model_selection import train_test_split\n",
    "from sklearn.metrics import mean_squared_error"
   ]
  },
  {
   "cell_type": "code",
   "execution_count": 2,
   "id": "013ed2c4-cb0e-4748-94b0-0ca9559f7da5",
   "metadata": {},
   "outputs": [],
   "source": [
    "# Generate synthetic data\n",
    "np.random.seed(42)\n",
    "X = np.random.rand(100, 1) * 10\n",
    "y = 3 * X.squeeze() + np.random.randn(100) * 2"
   ]
  },
  {
   "cell_type": "code",
   "execution_count": 3,
   "id": "8c12b334-0a30-45ed-ae50-678d399f6ce2",
   "metadata": {},
   "outputs": [],
   "source": [
    "# Split the data\n",
    "X_train, X_test, y_train, y_test = train_test_split(X, y, test_size=0.3, random_state=42)"
   ]
  },
  {
   "cell_type": "code",
   "execution_count": 4,
   "id": "3210f833-88be-4e27-89c6-3e7bb321d5c0",
   "metadata": {},
   "outputs": [],
   "source": [
    "# Ridge Regression\n",
    "ridge = Ridge(alpha=1.0)\n",
    "ridge.fit(X_train, y_train)\n",
    "ridge_pred = ridge.predict(X_test)"
   ]
  },
  {
   "cell_type": "code",
   "execution_count": 5,
   "id": "64fc7c96-6556-4d4a-aa3e-d3f9bccb9ba7",
   "metadata": {},
   "outputs": [],
   "source": [
    "# Lasso Regression\n",
    "lasso = Lasso(alpha=0.1)\n",
    "lasso.fit(X_train, y_train)\n",
    "lasso_pred = lasso.predict(X_test)"
   ]
  },
  {
   "cell_type": "code",
   "execution_count": 6,
   "id": "b47673b8-1bf6-4248-8f48-057c24aee9d1",
   "metadata": {},
   "outputs": [
    {
     "name": "stdout",
     "output_type": "stream",
     "text": [
      "Ridge MSE: 2.5245893995996735\n",
      "Lasso MSE: 2.526810312189566\n"
     ]
    }
   ],
   "source": [
    "# Evaluate\n",
    "print(\"Ridge MSE:\", mean_squared_error(y_test, ridge_pred))\n",
    "print(\"Lasso MSE:\", mean_squared_error(y_test, lasso_pred))"
   ]
  },
  {
   "cell_type": "code",
   "execution_count": 7,
   "id": "14872c01-f6f0-4bd4-9f0e-294b27e0ca94",
   "metadata": {},
   "outputs": [
    {
     "data": {
      "image/png": "[encoded data removed]",
      "text/plain": [
       "<Figure size 640x480 with 1 Axes>"
      ]
     },
     "metadata": {},
     "output_type": "display_data"
    }
   ],
   "source": [
    "# Plot\n",
    "plt.scatter(X_test, y_test, color='black', label='Actual')\n",
    "plt.plot(X_test, ridge_pred, label='Ridge', color='blue')\n",
    "plt.plot(X_test, lasso_pred, label='Lasso', color='red')\n",
    "plt.legend()\n",
    "plt.title(\"Ridge vs Lasso Regression\")\n",
    "plt.show()"
   ]
  },
  {
   "cell_type": "markdown",
   "id": "7b91f04f-9aa1-4744-9ffd-0ebf4b9e3580",
   "metadata": {},
   "source": [
    "## 🧠 Key Differences:\n",
    "- **Ridge** (L2): Penalizes large coefficients, but keeps all features.\n",
    "- **Lasso** (L1): Can shrink some coefficients to zero, performing feature selection."
   ]
  },
  {
   "cell_type": "markdown",
   "id": "ae0c6bdd-de0b-464c-abcd-6fc51253dcaa",
   "metadata": {},
   "source": [
    "✅ Use Ridge for multicollinearity and Lasso for feature reduction."
   ]
  }
 ],
 "metadata": {
  "kernelspec": {
   "display_name": "Python 3 (ipykernel)",
   "language": "python",
   "name": "python3"
  },
  "language_info": {
   "codemirror_mode": {
    "name": "ipython",
    "version": 3
   },
   "file_extension": ".py",
   "mimetype": "text/x-python",
   "name": "python",
   "nbconvert_exporter": "python",
   "pygments_lexer": "ipython3",
   "version": "3.12.7"
  }
 },
 "nbformat": 4,
 "nbformat_minor": 5
}
