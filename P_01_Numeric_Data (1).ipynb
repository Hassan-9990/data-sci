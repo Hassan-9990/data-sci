{
 "cells": [
  {
   "cell_type": "code",
   "execution_count": null,
   "id": "1cf33595",
   "metadata": {},
   "outputs": [],
   "source": [
    "# Python Numeric Data Types\n",
    "\n",
    "# Integer\n",
    "a = 10\n",
    "print(\"Integer:\", a, type(a))\n",
    "\n",
    "# Float\n",
    "b = 3.14\n",
    "print(\"Float:\", b, type(b))\n",
    "\n",
    "# Complex\n",
    "c = 3 + 4j\n",
    "print(\"Complex:\", c, type(c))\n",
    "\n",
    "# Type casting\n",
    "x = 5        # int\n",
    "y = float(x) # convert to float\n",
    "print(\"Type Casting int to float:\", y, type(y))\n",
    "\n",
    "z = int(b)   # convert float to int\n",
    "print(\"Type Casting float to int:\", z, type(z))\n",
    "\n",
    "# Arithmetic operations\n",
    "print(\"Addition:\", a + b)\n",
    "print(\"Multiplication:\", a * b)\n",
    "print(\"Division:\", a / b)\n",
    "\n",
    "# Input example\n",
    "user_input = input(\"Enter a number: \")\n",
    "converted = float(user_input)\n",
    "print(\"Converted input:\", converted, type(converted))\n",
    "\n",
    "# Quiz-style practice (comments)\n",
    "# Q1. What is the type of: 4 + 5.0?\n",
    "# Q2. Convert '7.9' (string) to float and int\n",
    "# Q4.print with suitable comments (use only single print)\n",
    "# Q5.assign variables and find their type\n",
    "# Q6.Do simple mathematical operations and find data type of your answer\n",
    "\n",
    "# End of lesson\n"
   ]
  },
  {
   "cell_type": "code",
   "execution_count": 2,
   "id": "45773f99-7598-43bc-8eb3-bbd0da1739ee",
   "metadata": {},
   "outputs": [
    {
     "name": "stdout",
     "output_type": "stream",
     "text": [
      "Integer: 10 <class 'int'>\n"
     ]
    }
   ],
   "source": [
    "#Integer\n",
    "a = 10\n",
    "print(\"Integer:\", a, type(a))\n"
   ]
  },
  {
   "cell_type": "code",
   "execution_count": 3,
   "id": "e696db42-7cb8-4e9f-8c9c-ea6a4feb28c2",
   "metadata": {},
   "outputs": [
    {
     "name": "stdout",
     "output_type": "stream",
     "text": [
      "Float: 3.14 <class 'float'>\n"
     ]
    }
   ],
   "source": [
    "# Float\n",
    "b = 3.14\n",
    "print(\"Float:\", b, type(b))\n"
   ]
  },
  {
   "cell_type": "code",
   "execution_count": 4,
   "id": "fbe6f0fd-d180-498b-bde4-403ecb2cf5e4",
   "metadata": {},
   "outputs": [
    {
     "name": "stdout",
     "output_type": "stream",
     "text": [
      "Complex: (3+4j) <class 'complex'>\n"
     ]
    }
   ],
   "source": [
    "# Complex\n",
    "c = 3 + 4j\n",
    "print(\"Complex:\", c, type(c))\n"
   ]
  },
  {
   "cell_type": "code",
   "execution_count": 7,
   "id": "6c57d0c5-820f-4be7-8188-46b6aee82069",
   "metadata": {},
   "outputs": [
    {
     "name": "stdout",
     "output_type": "stream",
     "text": [
      "Type Casting int to float: 5.0 <class 'float'>\n",
      "Type Casting float to int: 3 <class 'int'>\n"
     ]
    }
   ],
   "source": [
    "x = 5        # int\n",
    "y = float(x) # convert to float\n",
    "print(\"Type Casting int to float:\", y, type(y))\n",
    "\n",
    "z = int(b)   # convert float to int\n",
    "print(\"Type Casting float to int:\", z, type(z))\n"
   ]
  },
  {
   "cell_type": "code",
   "execution_count": 8,
   "id": "d44220f5-45ec-4c41-be77-548814e2ceb4",
   "metadata": {},
   "outputs": [
    {
     "name": "stdout",
     "output_type": "stream",
     "text": [
      "Addition: 13.14\n",
      "Multiplication: 31.400000000000002\n",
      "Division: 3.184713375796178\n"
     ]
    }
   ],
   "source": [
    "# Arithmetic operations\n",
    "print(\"Addition:\", a + b)\n",
    "print(\"Multiplication:\", a * b)\n",
    "print(\"Division:\", a / b)\n"
   ]
  },
  {
   "cell_type": "code",
   "execution_count": 9,
   "id": "0c2ea409-6751-468d-8dcc-4d179b80b355",
   "metadata": {},
   "outputs": [
    {
     "name": "stdin",
     "output_type": "stream",
     "text": [
      "Enter a number:  5\n"
     ]
    },
    {
     "name": "stdout",
     "output_type": "stream",
     "text": [
      "Converted input: 5.0 <class 'float'>\n"
     ]
    }
   ],
   "source": [
    "# Input example\n",
    "user_input = input(\"Enter a number: \")\n",
    "converted = float(user_input)\n",
    "print(\"Converted input:\", converted, type(converted))\n"
   ]
  },
  {
   "cell_type": "code",
   "execution_count": null,
   "id": "0cdc5d9a-e7c4-4c16-b146-511e11702b4d",
   "metadata": {},
   "outputs": [],
   "source": []
  }
 ],
 "metadata": {
  "kernelspec": {
   "display_name": "Python 3 (ipykernel)",
   "language": "python",
   "name": "python3"
  },
  "language_info": {
   "codemirror_mode": {
    "name": "ipython",
    "version": 3
   },
   "file_extension": ".py",
   "mimetype": "text/x-python",
   "name": "python",
   "nbconvert_exporter": "python",
   "pygments_lexer": "ipython3",
   "version": "3.12.7"
  }
 },
 "nbformat": 4,
 "nbformat_minor": 5
}
