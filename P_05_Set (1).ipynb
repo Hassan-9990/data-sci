{
 "cells": [
  {
   "cell_type": "code",
   "execution_count": null,
   "id": "3ddb1c11",
   "metadata": {},
   "outputs": [],
   "source": [
    "# Sets\n",
    "\n",
    "#set is mutable and has only unique immutable unordered elements.\n",
    "#A set is created by placing all the items (elements) inside curly\n",
    "#braces {},separated by comma, or by using the built-in set()function.\n",
    "#It can have any number of items and they may be of different\n",
    "#types (integer, float, tuple, string etc.)\n",
    "#But a set cannot have mutable elements like lists, sets or\n",
    "#dictionaries as its elements.\n",
    "\n",
    "\n",
    "\n",
    "# Creating a set\n",
    "fruits = {\"apple\", \"banana\", \"cherry\"}\n",
    "print(\"Original set:\", fruits)\n",
    "\n",
    "# Adding elements\n",
    "fruits.add(\"orange\")\n",
    "print(\"After adding orange:\", fruits)\n",
    "\n",
    "# Update with multiple elements\n",
    "fruits.update([\"mango\", \"grape\"])\n",
    "print(\"After update:\", fruits)\n",
    "\n",
    "# Removing elements\n",
    "fruits.remove(\"banana\")  # Raises error if not found\n",
    "fruits.discard(\"pineapple\")  # Does not raise error\n",
    "print(\"After removal:\", fruits)\n",
    "\n",
    "# Set operations\n",
    "A = {1, 2, 3, 4}\n",
    "B = {3, 4, 5, 6}\n",
    "print(\"Union:\", A | B)\n",
    "print(\"Intersection:\", A & B)\n",
    "print(\"Difference A - B:\", A - B)\n",
    "print(\"Symmetric Difference:\", A ^ B)\n",
    "\n",
    "# Set comprehension\n",
    "squares = {x**2 for x in range(1, 6)}\n",
    "print(\"Squares using set comprehension:\", squares)\n",
    "\n",
    "# Checking membership\n",
    "print(\"Is 2 in set A?\", 2 in A)\n",
    "\n",
    "# Use case: Removing duplicates from list\n",
    "data = [1, 2, 2, 3, 4, 4, 5]\n",
    "unique_data = set(data)\n",
    "print(\"Unique items:\", unique_data)\n",
    "\n",
    "\n",
    "# Quiz-style practice\n",
    "# Q1. Create a set of even numbers between 1 to 10.\n",
    "# Q2. Find common elements between two sets.\n",
    "# Q3. Use set comprehension to create a set of cube numbers (1–5).\n",
    "# Q4.print all elements of these sets\n",
    "# Q5print the common elements of these sets\n",
    "# Q6.print the uncommon elements of both set1 and set2\n",
    "# Q7.print difference of set2 and set1\n",
    "s1 = {1,3,4,11}\n",
    "s2 = {3,2,4,5,6}\n",
    "s3 = {2,3,4,5,6,8,9,1,10,11,12,20}\n",
    "# Q8.check if s1 and s2 are same\n",
    "# Q9.check if s1 is subset of s3\n",
    "# Q10.check if s2 is proper set of s3\n",
    "\n",
    "# End of lesson\n"
   ]
  },
  {
   "cell_type": "markdown",
   "id": "e02d02d4-9e96-43da-99d8-33a3d409aee3",
   "metadata": {},
   "source": [
    "# Sets\n",
    "\n",
    "#set is mutable and has only unique immutable unordered elements.\n",
    "\n",
    "#A set is created by placing all the items (elements) inside curly\n",
    "\n",
    "#braces {},separated by comma, or by using the built-in set()function.\n",
    "#It can have any number of items and they may be of different\n",
    "#types (integer, float, tuple, string etc.)\n",
    "\n",
    "#But a set cannot have mutable elements like lists, sets or\n",
    "#dictionaries as its elements.\n"
   ]
  },
  {
   "cell_type": "code",
   "execution_count": 1,
   "id": "49222565-4be1-4198-903a-1d476b539ff6",
   "metadata": {},
   "outputs": [
    {
     "name": "stdout",
     "output_type": "stream",
     "text": [
      "Original set: {'apple', 'banana', 'cherry'}\n"
     ]
    }
   ],
   "source": [
    "# Creating a set\n",
    "fruits = {\"apple\", \"banana\", \"cherry\"}\n",
    "print(\"Original set:\", fruits)\n"
   ]
  },
  {
   "cell_type": "code",
   "execution_count": 2,
   "id": "8e6a5ac7-0984-4d84-9d05-30eb133c39c0",
   "metadata": {},
   "outputs": [
    {
     "name": "stdout",
     "output_type": "stream",
     "text": [
      "After adding orange: {'orange', 'apple', 'banana', 'cherry'}\n"
     ]
    }
   ],
   "source": [
    "# Adding elements\n",
    "fruits.add(\"orange\")\n",
    "print(\"After adding orange:\", fruits)\n"
   ]
  },
  {
   "cell_type": "code",
   "execution_count": 3,
   "id": "9c05f419-7654-4785-b269-2fcb3a90bb97",
   "metadata": {},
   "outputs": [
    {
     "name": "stdout",
     "output_type": "stream",
     "text": [
      "After update: {'orange', 'banana', 'cherry', 'apple', 'mango', 'grape'}\n"
     ]
    }
   ],
   "source": [
    "# Update with multiple elements\n",
    "fruits.update([\"mango\", \"grape\"])\n",
    "print(\"After update:\", fruits)"
   ]
  },
  {
   "cell_type": "code",
   "execution_count": 4,
   "id": "8d91eeb4-3feb-49dd-99f7-cf8e3d37bc70",
   "metadata": {},
   "outputs": [
    {
     "name": "stdout",
     "output_type": "stream",
     "text": [
      "After removal: {'orange', 'cherry', 'apple', 'mango', 'grape'}\n"
     ]
    }
   ],
   "source": [
    "# Removing elements\n",
    "fruits.remove(\"banana\")  # Raises error if not found\n",
    "fruits.discard(\"pineapple\")  # Does not raise error\n",
    "print(\"After removal:\", fruits)\n"
   ]
  },
  {
   "cell_type": "code",
   "execution_count": 5,
   "id": "7557f916-2c06-441a-942d-649a90a5fb1f",
   "metadata": {},
   "outputs": [
    {
     "name": "stdout",
     "output_type": "stream",
     "text": [
      "Union: {1, 2, 3, 4, 5, 6}\n",
      "Intersection: {3, 4}\n",
      "Difference A - B: {1, 2}\n",
      "Symmetric Difference: {1, 2, 5, 6}\n"
     ]
    }
   ],
   "source": [
    "# Set operations\n",
    "A = {1, 2, 3, 4}\n",
    "B = {3, 4, 5, 6}\n",
    "print(\"Union:\", A | B)\n",
    "print(\"Intersection:\", A & B)\n",
    "print(\"Difference A - B:\", A - B)\n",
    "print(\"Symmetric Difference:\", A ^ B)"
   ]
  },
  {
   "cell_type": "code",
   "execution_count": 6,
   "id": "cb5b5960-85e8-445d-8a82-bc960d2b4b66",
   "metadata": {},
   "outputs": [
    {
     "name": "stdout",
     "output_type": "stream",
     "text": [
      "Squares using set comprehension: {1, 4, 9, 16, 25}\n"
     ]
    }
   ],
   "source": [
    "# Set comprehension\n",
    "squares = {x**2 for x in range(1, 6)}\n",
    "print(\"Squares using set comprehension:\", squares)"
   ]
  },
  {
   "cell_type": "code",
   "execution_count": 7,
   "id": "236b801a-3960-4f2e-bf75-5aa9d7d67ad4",
   "metadata": {},
   "outputs": [
    {
     "name": "stdout",
     "output_type": "stream",
     "text": [
      "Is 2 in set A? True\n"
     ]
    }
   ],
   "source": [
    "# Checking membership\n",
    "print(\"Is 2 in set A?\", 2 in A)"
   ]
  },
  {
   "cell_type": "code",
   "execution_count": 8,
   "id": "4ece6ca8-b4b3-4fd1-a1ac-4795fcf336e7",
   "metadata": {},
   "outputs": [
    {
     "name": "stdout",
     "output_type": "stream",
     "text": [
      "Unique items: {1, 2, 3, 4, 5}\n"
     ]
    }
   ],
   "source": [
    "# Use case: Removing duplicates from list\n",
    "data = [1, 2, 2, 3, 4, 4, 5]\n",
    "unique_data = set(data)\n",
    "print(\"Unique items:\", unique_data)\n"
   ]
  },
  {
   "cell_type": "code",
   "execution_count": 11,
   "id": "dc0251b0-6399-4ca5-86a7-745e8e8c1fc8",
   "metadata": {},
   "outputs": [
    {
     "name": "stdout",
     "output_type": "stream",
     "text": [
      "3. {2, 3, 4, 5, 6, 7}\n",
      "3. {2, 3, 4, 5, 6, 7}\n",
      "3 {2, 3, 4, 5, 6, 7}\n"
     ]
    }
   ],
   "source": []
  },
  {
   "cell_type": "code",
   "execution_count": 12,
   "id": "3c2aec1d-3f6a-4df2-a99c-cf9aca7aad05",
   "metadata": {},
   "outputs": [
    {
     "name": "stdout",
     "output_type": "stream",
     "text": [
      "4. {4, 5}\n",
      "4. {4, 5}\n"
     ]
    }
   ],
   "source": [
    "\n"
   ]
  },
  {
   "cell_type": "code",
   "execution_count": 14,
   "id": "b51054fe-f6be-40aa-a229-074af5138543",
   "metadata": {},
   "outputs": [
    {
     "name": "stdout",
     "output_type": "stream",
     "text": [
      "5. {2, 3}\n",
      "5. {2, 3}\n",
      "6. {6, 7}\n"
     ]
    }
   ],
   "source": []
  },
  {
   "cell_type": "code",
   "execution_count": 15,
   "id": "a517f4de-d872-4dbf-a146-52b5c7f0001d",
   "metadata": {},
   "outputs": [
    {
     "name": "stdout",
     "output_type": "stream",
     "text": [
      "7. {2, 3, 6, 7}\n",
      "7. {2, 3, 6, 7}\n"
     ]
    }
   ],
   "source": []
  },
  {
   "cell_type": "code",
   "execution_count": null,
   "id": "b6759ddf-ac95-4910-b1e6-17bc8c442172",
   "metadata": {},
   "outputs": [],
   "source": []
  }
 ],
 "metadata": {
  "kernelspec": {
   "display_name": "Python 3 (ipykernel)",
   "language": "python",
   "name": "python3"
  },
  "language_info": {
   "codemirror_mode": {
    "name": "ipython",
    "version": 3
   },
   "file_extension": ".py",
   "mimetype": "text/x-python",
   "name": "python",
   "nbconvert_exporter": "python",
   "pygments_lexer": "ipython3",
   "version": "3.12.7"
  }
 },
 "nbformat": 4,
 "nbformat_minor": 5
}
