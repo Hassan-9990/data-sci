{
 "cells": [
  {
   "cell_type": "markdown",
   "id": "7f5eeec6-6d74-4d7d-b00a-8d362e021778",
   "metadata": {},
   "source": [
    "## What is a Generator\n",
    "\n",
    "- In Python, generators are a special type of function that can pause execution and resume later. They are lightweight iterators used to produce sequences of values on-demand, one at a time. \n",
    "\n",
    "- Function with yield: Generators are defined using the def keyword but use yield instead of return to produce a sequence of values.\n",
    "\n",
    "- Lazy Evaluation: The yield statement pauses execution and remembers the function's state. \n",
    "When you iterate over the generator, it resumes execution and calculates the next value.\n",
    "\n",
    "- Memory Efficient: Generators are memory-efficient because they only calculate the next value when needed, unlike lists that store all values at once.\n",
    "\n",
    "\n",
    "\n",
    "- Python generators are a simple way of creating iterators. "
   ]
  },
  {
   "cell_type": "markdown",
   "id": "317a305d-2c91-4ee5-a82a-1c8dab7b73a3",
   "metadata": {},
   "source": [
    "# L_02: Generators in Python\n",
    "\n",
    "Generators are a simple way of creating iterators using functions and the `yield` statement."
   ]
  },
  {
   "cell_type": "code",
   "execution_count": 1,
   "id": "6b39ea00",
   "metadata": {},
   "outputs": [
    {
     "name": "stdout",
     "output_type": "stream",
     "text": [
      "1\n",
      "2\n",
      "3\n"
     ]
    }
   ],
   "source": [
    "def simple_generator():\n",
    "    yield 1\n",
    "    yield 2\n",
    "    yield 3\n",
    "\n",
    "for value in simple_generator():\n",
    "    print(value)"
   ]
  },
  {
   "cell_type": "markdown",
   "id": "2e2bd236",
   "metadata": {},
   "source": [
    "### Generator Expressions\n",
    "Generator expressions are similar to list comprehensions but use parentheses."
   ]
  },
  {
   "cell_type": "code",
   "execution_count": null,
   "id": "90cc4161",
   "metadata": {},
   "outputs": [],
   "source": [
    "gen_exp = (x*x for x in range(5))\n",
    "for val in gen_exp:\n",
    "    print(val)"
   ]
  },
  {
   "cell_type": "markdown",
   "id": "6ee421ed",
   "metadata": {},
   "source": [
    "### Advantages of Generators\n",
    "- Lazy evaluation (memory efficient)\n",
    "- Useful for reading large files or streams of data"
   ]
  },
  {
   "cell_type": "markdown",
   "id": "a5ffed3a-3d4f-49ce-a577-41d9cfe2bb88",
   "metadata": {},
   "source": [
    "# Why to use Generators"
   ]
  },
  {
   "cell_type": "code",
   "execution_count": null,
   "id": "e89fd81f-431f-412c-ae38-115d62834d93",
   "metadata": {},
   "outputs": [],
   "source": [
    "L = [x for x in range(5)]\n",
    "for i in L:\n",
    "    print(i)"
   ]
  },
  {
   "cell_type": "code",
   "execution_count": null,
   "id": "cb9c4620-d4b9-4797-bea4-37aaa18b5ea5",
   "metadata": {},
   "outputs": [],
   "source": [
    "x = range(5)\n",
    "for i in x:\n",
    "    print(i)"
   ]
  },
  {
   "cell_type": "code",
   "execution_count": null,
   "id": "c94d41cb-a402-4ae6-a05c-dd570fa6c886",
   "metadata": {},
   "outputs": [],
   "source": [
    "import sys\n",
    "print(sys.getsizeof(L))\n",
    "print(sys.getsizeof(x))"
   ]
  },
  {
   "cell_type": "markdown",
   "id": "95cd9e15-ac8b-42d2-9067-6339c3481592",
   "metadata": {},
   "source": [
    "## Benefits of using a Generator"
   ]
  },
  {
   "cell_type": "markdown",
   "id": "c701a6c9-cc2e-4d9e-86aa-228e48cd4153",
   "metadata": {},
   "source": [
    "#### 1. Ease of Implementation"
   ]
  },
  {
   "cell_type": "code",
   "execution_count": null,
   "id": "e4a14096-5c00-4b0f-a2d6-a32c0c5539ca",
   "metadata": {},
   "outputs": [],
   "source": [
    "gen = (x for x in range(100000))"
   ]
  },
  {
   "cell_type": "markdown",
   "id": "fb7fa669-b702-4e43-8624-6702da8ca5ef",
   "metadata": {},
   "source": [
    "#### 2. Memory Efficient"
   ]
  },
  {
   "cell_type": "code",
   "execution_count": null,
   "id": "0af7ed59-0c1c-469f-9433-ba737e2ed47d",
   "metadata": {},
   "outputs": [],
   "source": [
    "L = [x for x in range(100000)]\n",
    "gen = (x for x in range(100000))\n",
    "\n",
    "import sys\n",
    "\n",
    "print('Size of L in memory',sys.getsizeof(L))\n",
    "print('Size of gen in memory',sys.getsizeof(gen))"
   ]
  },
  {
   "cell_type": "markdown",
   "id": "128bec65-f7c7-4862-88ea-38bd783e157b",
   "metadata": {},
   "source": [
    "3. Representing Infinite Streams when used with loops\n"
   ]
  },
  {
   "cell_type": "code",
   "execution_count": null,
   "id": "6162213e-dc41-4552-b8fb-6c60a5546c67",
   "metadata": {},
   "outputs": [],
   "source": [
    "def all_even():\n",
    "    n = 0\n",
    "    while True:\n",
    "        yield n\n",
    "        n += 1"
   ]
  },
  {
   "cell_type": "code",
   "execution_count": null,
   "id": "5a20b6cf-5a0e-4fed-91a7-feff930bd77f",
   "metadata": {},
   "outputs": [],
   "source": [
    "even_num_gen = all_even()\n",
    "print(next(even_num_gen))\n",
    "print(next(even_num_gen))"
   ]
  },
  {
   "cell_type": "markdown",
   "id": "b5fd4793-19f3-43e6-b243-631a757c491f",
   "metadata": {},
   "source": [
    "#### 4. Chaining Generators"
   ]
  },
  {
   "cell_type": "code",
   "execution_count": null,
   "id": "5112d034-603d-4898-b8e1-58027892a92b",
   "metadata": {},
   "outputs": [],
   "source": [
    "def fibonacci_numbers(nums):\n",
    "    x, y = 0, 1\n",
    "    for _ in range(nums):\n",
    "        x, y = y, x+y\n",
    "        yield x\n",
    "\n",
    "def square(nums):\n",
    "    for num in nums:\n",
    "        yield num**2"
   ]
  },
  {
   "cell_type": "code",
   "execution_count": null,
   "id": "6ac7270d-98d3-4146-9aa7-dc9b484093ce",
   "metadata": {},
   "outputs": [],
   "source": [
    "print(sum(square(fibonacci_numbers(10))))"
   ]
  },
  {
   "cell_type": "code",
   "execution_count": null,
   "id": "ae132bf8-882c-4c5a-a815-503ce5cc4d5c",
   "metadata": {},
   "outputs": [],
   "source": [
    "#END"
   ]
  },
  {
   "cell_type": "markdown",
   "id": "0d376e05-a5af-4b59-a0e5-d8d8548c9de2",
   "metadata": {},
   "source": [
    "What is a GeneratoR\n",
    "\n",
    "-In Python, generators are a special type of function that can pause execution and resume later. They are lightweight iterators used to produce sequences of values on-demand, one at a time.\n",
    "\n",
    "-Function with yield: Generators are defined using the def keyword but use yield instead of return to produce a sequence of values.\n",
    "\n",
    "-Lazy Evaluation: The yield statement pauses execution and remembers the function's state. When you iterate over the generator, it resumes execution and calculates the next value.\n",
    "\n",
    "-Memory Efficient: Generators are memory-efficient because they only calculate the next value when needed, unlike lists that store all values at once.\n",
    "\n",
    "-Python generators are a simple way of creating iter"
   ]
  },
  {
   "cell_type": "markdown",
   "id": "faa9c895-56eb-497b-9cbf-5bcd479ea5cb",
   "metadata": {},
   "source": [
    "L_02: Generators in Python\n",
    "\n",
    "Generators are a simple way of creating iterators using functions and the yield statement."
   ]
  },
  {
   "cell_type": "code",
   "execution_count": 2,
   "id": "895357e9-8597-4634-9904-e218cc394255",
   "metadata": {},
   "outputs": [
    {
     "name": "stdout",
     "output_type": "stream",
     "text": [
      "1\n",
      "2\n",
      "3\n"
     ]
    }
   ],
   "source": [
    "def simple_generator():\n",
    "    yield 1\n",
    "    yield 2\n",
    "    yield 3\n",
    "\n",
    "for value in simple_generator():\n",
    "    print(value)"
   ]
  },
  {
   "cell_type": "markdown",
   "id": "f5a671cf-6273-4c1c-9e6c-19a1a19d7d2b",
   "metadata": {},
   "source": [
    "Generator Expressions\n",
    "\n",
    "Generator expressions are similar to list comprehensions but use parentheses.\n",
    "\n"
   ]
  },
  {
   "cell_type": "code",
   "execution_count": 3,
   "id": "09757895-63a9-4f75-8663-fcea74d9247c",
   "metadata": {},
   "outputs": [
    {
     "name": "stdout",
     "output_type": "stream",
     "text": [
      "0\n",
      "1\n",
      "4\n",
      "9\n",
      "16\n"
     ]
    }
   ],
   "source": [
    "gen_exp = (x*x for x in range(5))\n",
    "for val in gen_exp:\n",
    "    print(val)"
   ]
  },
  {
   "cell_type": "markdown",
   "id": "1791f9b5-8a3d-401d-8374-7c860d19b14a",
   "metadata": {},
   "source": [
    "Advantages of Generators\n",
    "\n",
    "-Lazy evaluation (memory efficient)\n",
    "\n",
    "-Useful for reading large files or streams of data"
   ]
  },
  {
   "cell_type": "markdown",
   "id": "285d93d7-6219-4b61-b471-e77f566ee605",
   "metadata": {},
   "source": [
    "Why to use Generators"
   ]
  },
  {
   "cell_type": "code",
   "execution_count": 4,
   "id": "bc89234e-5754-4cd1-b1b2-3218fe17b877",
   "metadata": {},
   "outputs": [
    {
     "name": "stdout",
     "output_type": "stream",
     "text": [
      "0\n",
      "1\n",
      "2\n",
      "3\n",
      "4\n"
     ]
    }
   ],
   "source": [
    "L = [x for x in range(5)]\n",
    "for i in L:\n",
    "    print(i)"
   ]
  },
  {
   "cell_type": "code",
   "execution_count": 5,
   "id": "df48a43f-2b19-40c1-a82c-97353fdd9043",
   "metadata": {},
   "outputs": [
    {
     "name": "stdout",
     "output_type": "stream",
     "text": [
      "0\n",
      "1\n",
      "2\n",
      "3\n",
      "4\n"
     ]
    }
   ],
   "source": [
    "x = range(5)\n",
    "for i in x:\n",
    "    print(i)"
   ]
  },
  {
   "cell_type": "code",
   "execution_count": 6,
   "id": "8574f834-b00c-4939-b670-1bdaffafaf27",
   "metadata": {},
   "outputs": [
    {
     "name": "stdout",
     "output_type": "stream",
     "text": [
      "120\n",
      "48\n"
     ]
    }
   ],
   "source": [
    "import sys\n",
    "print(sys.getsizeof(L))\n",
    "print(sys.getsizeof(x))"
   ]
  },
  {
   "cell_type": "markdown",
   "id": "c997ba9b-4bd4-413c-9708-aa17bc31ab0c",
   "metadata": {},
   "source": [
    "Benefits of using a Generator\n",
    "\n",
    "1. Ease of Implementation"
   ]
  },
  {
   "cell_type": "markdown",
   "id": "29d0ba5a-dbdc-4992-a19c-9ca95b757061",
   "metadata": {},
   "source": [
    "gen = (x for x in range(100000))"
   ]
  },
  {
   "cell_type": "markdown",
   "id": "0156f486-719d-4a8a-97a4-6fbc0f282eb8",
   "metadata": {},
   "source": [
    "2. Memory Efficient\n"
   ]
  },
  {
   "cell_type": "code",
   "execution_count": 9,
   "id": "cb527201-b7b0-42ee-9720-2739ba928671",
   "metadata": {},
   "outputs": [
    {
     "name": "stdout",
     "output_type": "stream",
     "text": [
      "Size of L in memory 800984\n",
      "Size of gen in memory 192\n"
     ]
    }
   ],
   "source": [
    "L = [x for x in range(100000)]\n",
    "gen = (x for x in range(100000))\n",
    "\n",
    "import sys\n",
    "\n",
    "print('Size of L in memory',sys.getsizeof(L))\n",
    "print('Size of gen in memory',sys.getsizeof(gen))"
   ]
  },
  {
   "cell_type": "markdown",
   "id": "20dabc5e-85cd-438b-ae32-793bea4cac58",
   "metadata": {},
   "source": [
    "2.Representing Infinite Streams when used with loops\n"
   ]
  },
  {
   "cell_type": "code",
   "execution_count": 11,
   "id": "11735b2f-73a6-4947-9798-2fa95d3c889d",
   "metadata": {},
   "outputs": [
    {
     "name": "stdout",
     "output_type": "stream",
     "text": [
      "0\n",
      "1\n"
     ]
    }
   ],
   "source": [
    "def all_even():\n",
    "    n = 0\n",
    "    while True:\n",
    "        yield n\n",
    "        n += 1\n",
    "even_num_gen = all_even()\n",
    "print(next(even_num_gen))\n",
    "print(next(even_num_gen))        "
   ]
  },
  {
   "cell_type": "markdown",
   "id": "728aa454-d29f-4106-bc06-6717f6506530",
   "metadata": {},
   "source": [
    "4. Chaining Generators"
   ]
  }
 ],
 "metadata": {
  "kernelspec": {
   "display_name": "Python 3 (ipykernel)",
   "language": "python",
   "name": "python3"
  },
  "language_info": {
   "codemirror_mode": {
    "name": "ipython",
    "version": 3
   },
   "file_extension": ".py",
   "mimetype": "text/x-python",
   "name": "python",
   "nbconvert_exporter": "python",
   "pygments_lexer": "ipython3",
   "version": "3.12.7"
  }
 },
 "nbformat": 4,
 "nbformat_minor": 5
}
