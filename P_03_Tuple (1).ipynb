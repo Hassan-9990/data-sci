{
 "cells": [
  {
   "cell_type": "code",
   "execution_count": 1,
   "id": "48ee0848-728e-447b-87bf-48a455dc165a",
   "metadata": {},
   "outputs": [
    {
     "name": "stdout",
     "output_type": "stream",
     "text": [
      "Tuple: ('red', 'green', 'blue')\n"
     ]
    }
   ],
   "source": [
    "# Creating a tuple\n",
    "colors = (\"red\", \"green\", \"blue\")\n",
    "print(\"Tuple:\", colors)"
   ]
  },
  {
   "cell_type": "code",
   "execution_count": null,
   "id": "ae5c45a7",
   "metadata": {},
   "outputs": [],
   "source": [
    "# Tuples\n",
    "\n",
    "# Creating a tuple\n",
    "colors = (\"red\", \"green\", \"blue\")\n",
    "print(\"Tuple:\", colors)\n",
    "\n",
    "# Indexing\n",
    "print(\"First color:\", colors[0])\n",
    "print(\"Last color:\", colors[-1])\n",
    "\n",
    "# Slicing\n",
    "print(\"First two colors:\", colors[:2])\n",
    "\n",
    "# Tuples are immutable\n",
    "# colors[0] = \"yellow\"  # ❌ This will cause an error\n",
    "\n",
    "# Length of a tuple\n",
    "print(\"Number of elements:\", len(colors))\n",
    "\n",
    "# Tuple methods\n",
    "print(\"Index of 'green':\", colors.index(\"green\"))\n",
    "print(\"Count of 'red':\", colors.count(\"red\"))\n",
    "\n",
    "# Tuple unpacking\n",
    "a, b, c = colors\n",
    "print(\"Unpacked:\", a, b, c)\n",
    "\n",
    "# Tuples with one item (must use a comma)\n",
    "single = (\"apple\",)\n",
    "print(\"Single-item tuple:\", single, type(single))\n",
    "\n",
    "# Tuple inside list / List inside tuple\n",
    "mixed = ([1, 2], (3, 4))\n",
    "print(\"Mixed:\", mixed)\n",
    "\n",
    "# Use case\n",
    "coordinates = (27.1751, 78.0421)  # fixed location\n",
    "print(\"Coordinates:\", coordinates)\n",
    "\n",
    "\n",
    "# print 'string' from tuple_3tuple_\n",
    "tuple_3 = (1,2,3,['new','string',11])\n",
    "print(tuple_3[3][1])\n",
    "\n",
    "\n",
    "\n",
    "#replace 'start' with 'change'\n",
    "tuple3 = (1,2,3,['start','done','string','end'])\n",
    "tuple3[3][0]= 'change'\n",
    "print(tuple3)\n",
    "\n",
    "# count 5 in list of tuple4\n",
    "tuple4 = (1,2,3,['new','string',9,5],1,1,5,5)  \n",
    "print(tuple4.count(5))\n",
    "#print(tuple4[3].count(5))\n",
    "\n",
    "#find index of list in tuple4\n",
    "tuple4 = (1,2,3,['new','string',9,9,9],1,1,5,5)\n",
    "print(tuple4.index(['new','string',9,9,9]))\n",
    "\n",
    "\n",
    "\n",
    "# Quiz-style practice (comments)\n",
    "# Q1. Try to change an element in a tuple. What happens?\n",
    "# Q2. Create a tuple with numbers and find the count of a number.\n",
    "# Q3. What is the difference between list and tuple?\n",
    "# Q4. print index of first list\n",
    "# Q5. print 1st list from the tuple1\n",
    "# Q6. change '20' to 'start'\n",
    "# Q7. replace '15' to '9' in tuple1\n",
    "# Q8. print second list from tuple1\n",
    "# Q9. print tuple from tuple1\n",
    "# Q10. change 10 to 'start2'\n",
    "# Q11. print 45.21 from tuple11(code should run for all students)\n",
    "# Q12. print the number of elements in first list in tuple1.\n",
    "#1Q3. print the count of 'b' in second list in tuple1.\n",
    "\n",
    "\n",
    "\n",
    "\n",
    "\n",
    "\n",
    "\n",
    "# End of lesson\n"
   ]
  },
  {
   "cell_type": "markdown",
   "id": "d681d52e-10f9-4573-afde-2f3c7e9e8521",
   "metadata": {},
   "source": [
    "# Tuples\n",
    "\n",
    "# tuple is immutable while list is mutable i.e  elements cannot be changed\n",
    "# in tuple,while elemnts in list can be chaged.\n",
    "# we can create tuple using () paranthesis while we can create list useng [] squre bracket\n",
    "# tuple is memory efficient than list.\n"
   ]
  },
  {
   "cell_type": "code",
   "execution_count": 2,
   "id": "0a8a602a-d318-4f7e-8d24-9d1efb6b15f6",
   "metadata": {},
   "outputs": [
    {
     "name": "stdout",
     "output_type": "stream",
     "text": [
      "First color: red\n",
      "Last color: blue\n"
     ]
    }
   ],
   "source": [
    "# Indexing\n",
    "print(\"First color:\", colors[0])\n",
    "print(\"Last color:\", colors[-1])\n"
   ]
  },
  {
   "cell_type": "code",
   "execution_count": 3,
   "id": "1d399d65-d411-4ddf-ad65-be87e3de9f7f",
   "metadata": {},
   "outputs": [
    {
     "name": "stdout",
     "output_type": "stream",
     "text": [
      "First two colors: ('red', 'green')\n"
     ]
    }
   ],
   "source": [
    "# Slicing\n",
    "print(\"First two colors:\", colors[:2])\n"
   ]
  },
  {
   "cell_type": "code",
   "execution_count": 4,
   "id": "f68373b0-ef67-4380-8bdd-f02b2277cc9c",
   "metadata": {},
   "outputs": [
    {
     "name": "stdout",
     "output_type": "stream",
     "text": [
      "Number of elements: 3\n"
     ]
    }
   ],
   "source": [
    "# Length of a tuple\n",
    "print(\"Number of elements:\", len(colors))\n"
   ]
  },
  {
   "cell_type": "code",
   "execution_count": 5,
   "id": "220d1ef6-a947-4330-92be-ec74ee843c9a",
   "metadata": {},
   "outputs": [
    {
     "name": "stdout",
     "output_type": "stream",
     "text": [
      "Index of 'green': 1\n",
      "Count of 'red': 1\n"
     ]
    }
   ],
   "source": [
    "# Tuple methods\n",
    "print(\"Index of 'green':\", colors.index(\"green\"))\n",
    "print(\"Count of 'red':\", colors.count(\"red\"))\n"
   ]
  },
  {
   "cell_type": "code",
   "execution_count": 6,
   "id": "594b368b-6f09-47b3-b5f0-625b9f92f70a",
   "metadata": {},
   "outputs": [
    {
     "name": "stdout",
     "output_type": "stream",
     "text": [
      "Unpacked: red green blue\n"
     ]
    }
   ],
   "source": [
    "# Tuple unpacking\n",
    "a, b, c = colors\n",
    "print(\"Unpacked:\", a, b, c)\n"
   ]
  },
  {
   "cell_type": "code",
   "execution_count": 7,
   "id": "002fc01e-aa96-40a4-b180-67b45b3c8107",
   "metadata": {},
   "outputs": [
    {
     "name": "stdout",
     "output_type": "stream",
     "text": [
      "Single-item tuple: ('apple',) <class 'tuple'>\n"
     ]
    }
   ],
   "source": [
    "# Tuples with one item (must use a comma)\n",
    "single = (\"apple\",)\n",
    "print(\"Single-item tuple:\", single, type(single))"
   ]
  },
  {
   "cell_type": "code",
   "execution_count": 8,
   "id": "25af9a63-134c-463e-8597-fa07aea80ee8",
   "metadata": {},
   "outputs": [
    {
     "name": "stdout",
     "output_type": "stream",
     "text": [
      "Mixed: ([1, 2], (3, 4))\n"
     ]
    }
   ],
   "source": [
    "# Tuple inside list / List inside tuple\n",
    "mixed = ([1, 2], (3, 4))\n",
    "print(\"Mixed:\", mixed)"
   ]
  },
  {
   "cell_type": "code",
   "execution_count": 9,
   "id": "1b629a66-f67c-42c2-bdf5-fe67c0082e48",
   "metadata": {},
   "outputs": [
    {
     "name": "stdout",
     "output_type": "stream",
     "text": [
      "Coordinates: (27.1751, 78.0421)\n"
     ]
    }
   ],
   "source": [
    "# Use case\n",
    "coordinates = (27.1751, 78.0421)  # fixed location\n",
    "print(\"Coordinates:\", coordinates)\n"
   ]
  },
  {
   "cell_type": "code",
   "execution_count": 10,
   "id": "8142818d-2144-421c-ba3c-de7a992ae559",
   "metadata": {},
   "outputs": [
    {
     "name": "stdout",
     "output_type": "stream",
     "text": [
      "string\n"
     ]
    }
   ],
   "source": [
    "# print 'string' from tuple_3tuple_\n",
    "tuple_3 = (1,2,3,['new','string',11])\n",
    "print(tuple_3[3][1])"
   ]
  },
  {
   "cell_type": "code",
   "execution_count": 11,
   "id": "faf6c03f-7086-4f65-997c-f3bd10f28407",
   "metadata": {},
   "outputs": [
    {
     "name": "stdout",
     "output_type": "stream",
     "text": [
      "(1, 2, 3, ['change', 'done', 'string', 'end'])\n"
     ]
    }
   ],
   "source": [
    "#replace 'start' with 'change'\n",
    "tuple3 = (1,2,3,['start','done','string','end'])\n",
    "tuple3[3][0]= 'change'\n",
    "print(tuple3)\n",
    "\n"
   ]
  },
  {
   "cell_type": "code",
   "execution_count": 12,
   "id": "44d2a728-44aa-4f6b-a08b-1f2cd2239f4b",
   "metadata": {},
   "outputs": [
    {
     "name": "stdout",
     "output_type": "stream",
     "text": [
      "2\n"
     ]
    }
   ],
   "source": [
    "#count 5 in list of tuple4\n",
    "tuple4 = (1,2,3,['new','string',9,5],1,1,5,5)  \n",
    "print(tuple4.count(5))\n",
    "#print(tuple4[3].count(5))\n"
   ]
  },
  {
   "cell_type": "code",
   "execution_count": 13,
   "id": "4024f505-31db-4063-be1e-550edd91834d",
   "metadata": {},
   "outputs": [
    {
     "name": "stdout",
     "output_type": "stream",
     "text": [
      "3\n"
     ]
    }
   ],
   "source": [
    "#find index of list in tuple4\n",
    "tuple4 = (1,2,3,['new','string',9,9,9],1,1,5,5)\n",
    "print(tuple4.index(['new','string',9,9,9]))"
   ]
  },
  {
   "cell_type": "code",
   "execution_count": null,
   "id": "e3abb86b-6c09-42f3-8da7-373aa878881b",
   "metadata": {},
   "outputs": [],
   "source": [
    "# Quiz-style practice (comments)\n",
    "# Q1. Try to change an element in a tuple. What happens?\n",
    "# Q2. Create a tuple with numbers and find the count of a number.\n",
    "# Q3. What is the difference between list and tuple?\n",
    "# Q4. print index of first list\n",
    "# Q5. print 1st list from the tuple1\n",
    "# Q6. change '20' to 'start'\n",
    "# Q7. replace '15' to '9' in tuple1\n",
    "# Q8. print second list from tuple1\n",
    "# Q9. print tuple from tuple1\n",
    "# Q10. change 10 to 'start2'\n",
    "# Q11. print 45.21 from tuple11(code should run for all students)\n",
    "# Q12. print the number of elements in first list in tuple1.\n",
    "#1Q3. print the count of 'b' in second list in tuple1.\n",
    "\n",
    "# End of lesson"
   ]
  }
 ],
 "metadata": {
  "kernelspec": {
   "display_name": "Python 3 (ipykernel)",
   "language": "python",
   "name": "python3"
  },
  "language_info": {
   "codemirror_mode": {
    "name": "ipython",
    "version": 3
   },
   "file_extension": ".py",
   "mimetype": "text/x-python",
   "name": "python",
   "nbconvert_exporter": "python",
   "pygments_lexer": "ipython3",
   "version": "3.12.7"
  }
 },
 "nbformat": 4,
 "nbformat_minor": 5
}
