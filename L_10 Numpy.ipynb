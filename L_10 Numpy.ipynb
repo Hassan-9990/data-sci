{
 "cells": [
  {
   "cell_type": "code",
   "execution_count": 1,
   "id": "4ac55013",
   "metadata": {},
   "outputs": [],
   "source": [
    "import numpy as np"
   ]
  },
  {
   "cell_type": "markdown",
   "id": "f1f55d95",
   "metadata": {},
   "source": [
    "### 1. Merging data sets (stack function)"
   ]
  },
  {
   "cell_type": "code",
   "execution_count": 2,
   "id": "ac629d86",
   "metadata": {},
   "outputs": [],
   "source": [
    "array10 = np.arange(1,5)\n",
    "array11 = np.arange(6,10)"
   ]
  },
  {
   "cell_type": "code",
   "execution_count": 3,
   "id": "d1723bea",
   "metadata": {},
   "outputs": [
    {
     "data": {
      "text/plain": [
       "array([1, 2, 3, 4])"
      ]
     },
     "execution_count": 3,
     "metadata": {},
     "output_type": "execute_result"
    }
   ],
   "source": [
    "array10"
   ]
  },
  {
   "cell_type": "code",
   "execution_count": 4,
   "id": "cb410f85",
   "metadata": {},
   "outputs": [
    {
     "data": {
      "text/plain": [
       "array([6, 7, 8, 9])"
      ]
     },
     "execution_count": 4,
     "metadata": {},
     "output_type": "execute_result"
    }
   ],
   "source": [
    "array11"
   ]
  },
  {
   "cell_type": "code",
   "execution_count": 5,
   "id": "fec2def2",
   "metadata": {},
   "outputs": [
    {
     "data": {
      "text/plain": [
       "array([1, 2, 3, 4, 6, 7, 8, 9])"
      ]
     },
     "execution_count": 5,
     "metadata": {},
     "output_type": "execute_result"
    }
   ],
   "source": [
    "np.hstack((array10,array11))"
   ]
  },
  {
   "cell_type": "code",
   "execution_count": 6,
   "id": "f42a96eb",
   "metadata": {},
   "outputs": [
    {
     "data": {
      "text/plain": [
       "array([[1, 2, 3, 4],\n",
       "       [6, 7, 8, 9]])"
      ]
     },
     "execution_count": 6,
     "metadata": {},
     "output_type": "execute_result"
    }
   ],
   "source": [
    "np.vstack((array10,array11))"
   ]
  },
  {
   "cell_type": "code",
   "execution_count": 7,
   "id": "c49db0d1",
   "metadata": {},
   "outputs": [
    {
     "data": {
      "text/plain": [
       "array([[[1, 6],\n",
       "        [2, 7],\n",
       "        [3, 8],\n",
       "        [4, 9]]])"
      ]
     },
     "execution_count": 7,
     "metadata": {},
     "output_type": "execute_result"
    }
   ],
   "source": [
    "np.dstack((array10,array11))"
   ]
  },
  {
   "cell_type": "code",
   "execution_count": 8,
   "id": "b28b72b7",
   "metadata": {},
   "outputs": [
    {
     "data": {
      "text/plain": [
       "array([1, 2, 3, 4, 6, 7, 8, 9])"
      ]
     },
     "execution_count": 8,
     "metadata": {},
     "output_type": "execute_result"
    }
   ],
   "source": [
    "np.concatenate((array10, array11))"
   ]
  },
  {
   "cell_type": "code",
   "execution_count": 11,
   "id": "a45e65bd",
   "metadata": {},
   "outputs": [
    {
     "data": {
      "text/plain": [
       "array([1, 2, 3, 4, 6, 7, 8, 9])"
      ]
     },
     "execution_count": 11,
     "metadata": {},
     "output_type": "execute_result"
    }
   ],
   "source": [
    "np.concatenate([array10, array11], axis = 0)"
   ]
  },
  {
   "cell_type": "code",
   "execution_count": 12,
   "id": "c09e7c34",
   "metadata": {},
   "outputs": [
    {
     "data": {
      "text/plain": [
       "[array([1, 2]), array([3, 4])]"
      ]
     },
     "execution_count": 12,
     "metadata": {},
     "output_type": "execute_result"
    }
   ],
   "source": [
    " np.array_split(array10, 2)"
   ]
  },
  {
   "cell_type": "code",
   "execution_count": 16,
   "id": "e6db20b7",
   "metadata": {},
   "outputs": [
    {
     "data": {
      "text/plain": [
       "[array([1, 2]), array([3]), array([4])]"
      ]
     },
     "execution_count": 16,
     "metadata": {},
     "output_type": "execute_result"
    }
   ],
   "source": [
    " np.array_split(array10, 3)"
   ]
  },
  {
   "cell_type": "markdown",
   "id": "46d95fc5",
   "metadata": {},
   "source": [
    "### 2. Indexing using where()"
   ]
  },
  {
   "cell_type": "code",
   "execution_count": 17,
   "id": "0ebd0885",
   "metadata": {},
   "outputs": [
    {
     "data": {
      "text/plain": [
       "(array([1, 3, 5], dtype=int64),)"
      ]
     },
     "execution_count": 17,
     "metadata": {},
     "output_type": "execute_result"
    }
   ],
   "source": [
    "array13 = np.array([1,3,2,3,4,3])\n",
    "a = np.where(array13 == 3)        # find index of elements\n",
    "a"
   ]
  },
  {
   "cell_type": "code",
   "execution_count": 19,
   "id": "65d240cc",
   "metadata": {},
   "outputs": [],
   "source": [
    "x = np.array([1,2,3,4,5])\n",
    "\n",
    "y = np.array([11,22,33,44,55])\n",
    "# where we have true in filter it will print x value and for false y value\n",
    "# this is the working of .where function\n",
    "filter = np.array([True, False, True, False, True])"
   ]
  },
  {
   "cell_type": "code",
   "execution_count": 20,
   "id": "ce084560",
   "metadata": {},
   "outputs": [
    {
     "name": "stdout",
     "output_type": "stream",
     "text": [
      "[ 1 22  3 44  5]\n"
     ]
    }
   ],
   "source": [
    "out = np.where(filter, x, y)\n",
    "print(out)"
   ]
  },
  {
   "cell_type": "code",
   "execution_count": 23,
   "id": "6efd1dd8",
   "metadata": {},
   "outputs": [
    {
     "data": {
      "text/plain": [
       "array([[0.69752251, 0.50852698, 0.91504916, 0.57636979, 0.69798932],\n",
       "       [0.66701331, 0.70862449, 0.97890132, 0.85312472, 0.8890592 ],\n",
       "       [0.15521504, 0.57210352, 0.80088861, 0.13259201, 0.13245083],\n",
       "       [0.49335468, 0.79740374, 0.78792693, 0.51577105, 0.42826434],\n",
       "       [0.46982076, 0.94489803, 0.97779706, 0.16842922, 0.81629162]])"
      ]
     },
     "execution_count": 23,
     "metadata": {},
     "output_type": "execute_result"
    }
   ],
   "source": [
    "mat = np.random.rand(5,5)\n",
    "mat"
   ]
  },
  {
   "cell_type": "code",
   "execution_count": 24,
   "id": "0220a278",
   "metadata": {},
   "outputs": [
    {
     "data": {
      "text/plain": [
       "array([[1000, 1000, 1000, 1000, 1000],\n",
       "       [1000, 1000, 1000, 1000, 1000],\n",
       "       [  -1, 1000, 1000,   -1,   -1],\n",
       "       [  -1, 1000, 1000, 1000,   -1],\n",
       "       [  -1, 1000, 1000,   -1, 1000]])"
      ]
     },
     "execution_count": 24,
     "metadata": {},
     "output_type": "execute_result"
    }
   ],
   "source": [
    "np.where( mat > 0.5, 1000, -1)"
   ]
  },
  {
   "cell_type": "code",
   "execution_count": null,
   "id": "efc41d76",
   "metadata": {},
   "outputs": [],
   "source": [
    "'''\n",
    "if mat > 0.5:\n",
    "    replace(1000)\n",
    "else:\n",
    "    replace(-1)'''\n"
   ]
  },
  {
   "cell_type": "markdown",
   "id": "918b3c78",
   "metadata": {},
   "source": [
    "\n",
    "### 3. Use of \"any\" or \"all\" conditionals"
   ]
  },
  {
   "cell_type": "code",
   "execution_count": 25,
   "id": "97035090",
   "metadata": {},
   "outputs": [],
   "source": [
    "arr_bools = np.array([ True, False ])"
   ]
  },
  {
   "cell_type": "code",
   "execution_count": 26,
   "id": "424be263",
   "metadata": {},
   "outputs": [
    {
     "data": {
      "text/plain": [
       "True"
      ]
     },
     "execution_count": 26,
     "metadata": {},
     "output_type": "execute_result"
    }
   ],
   "source": [
    "arr_bools.any()      # is True, if atleast one is True"
   ]
  },
  {
   "cell_type": "code",
   "execution_count": 27,
   "id": "3fb7975e",
   "metadata": {},
   "outputs": [
    {
     "data": {
      "text/plain": [
       "False"
      ]
     },
     "execution_count": 27,
     "metadata": {},
     "output_type": "execute_result"
    }
   ],
   "source": [
    "arr_bools.all()      # is True, all are  True"
   ]
  },
  {
   "cell_type": "code",
   "execution_count": 28,
   "id": "93fc1059",
   "metadata": {},
   "outputs": [
    {
     "name": "stdout",
     "output_type": "stream",
     "text": [
      "[2 6 3]\n"
     ]
    }
   ],
   "source": [
    "array14 = np.array([0,1,2,3,4,5])\n",
    "\n",
    "a = np.searchsorted(array14, [2,8,3])  # gives index of element after sorted insert\n",
    "\n",
    "print(a)"
   ]
  },
  {
   "cell_type": "markdown",
   "id": "e4621c8f",
   "metadata": {},
   "source": [
    "### 4. Sorting array "
   ]
  },
  {
   "cell_type": "code",
   "execution_count": 33,
   "id": "cc7ac399",
   "metadata": {},
   "outputs": [
    {
     "name": "stdout",
     "output_type": "stream",
     "text": [
      "[1 6 9 7 1 4 1 1 3]\n"
     ]
    }
   ],
   "source": [
    "# create a 10 element array of randoms\n",
    "raw = np.random.randint(1,10,9)\n",
    "\n",
    "print(raw)"
   ]
  },
  {
   "cell_type": "code",
   "execution_count": 34,
   "id": "d24d7670",
   "metadata": {},
   "outputs": [
    {
     "name": "stdout",
     "output_type": "stream",
     "text": [
      "[1 1 1 1 3 4 6 7 9]\n",
      "\n",
      "[1 6 9 7 1 4 1 1 3]\n"
     ]
    }
   ],
   "source": [
    "# create copy and sort\n",
    "finished = np.array(raw)\n",
    "finished.sort() # it will arrange values in ascending order. i.e sorting\n",
    "\n",
    "print(finished)\n",
    "print()\n",
    "print(raw)"
   ]
  },
  {
   "cell_type": "code",
   "execution_count": 35,
   "id": "0696b34a",
   "metadata": {},
   "outputs": [
    {
     "name": "stdout",
     "output_type": "stream",
     "text": [
      "[1 1 1 1 3 4 6 7 9]\n"
     ]
    }
   ],
   "source": [
    "# inplace sorting\n",
    "raw.sort() \n",
    "print(raw)"
   ]
  },
  {
   "cell_type": "code",
   "execution_count": 36,
   "id": "f1d5547d",
   "metadata": {},
   "outputs": [
    {
     "name": "stdout",
     "output_type": "stream",
     "text": [
      "[0 1 2 3]\n",
      "\n",
      "[3 2 0 1]\n"
     ]
    }
   ],
   "source": [
    "array14 = np.array([3, 2, 0, 1])\n",
    "\n",
    "print(np.sort(array14))\n",
    "print()\n",
    "print(array14)"
   ]
  },
  {
   "cell_type": "code",
   "execution_count": 37,
   "id": "77f832dc",
   "metadata": {},
   "outputs": [
    {
     "name": "stdout",
     "output_type": "stream",
     "text": [
      "[[2 3 4]\n",
      " [0 1 5]]\n",
      "\n",
      "[[3 2 4]\n",
      " [5 0 1]]\n"
     ]
    }
   ],
   "source": [
    "array15 = np.array([[3, 2, 4], [5, 0, 1]])\n",
    "\n",
    "print(np.sort(array15))\n",
    "print()\n",
    "print(array15)"
   ]
  },
  {
   "cell_type": "markdown",
   "id": "791c831a",
   "metadata": {},
   "source": [
    "### 5. Set Operations with np.array data type"
   ]
  },
  {
   "cell_type": "code",
   "execution_count": 38,
   "id": "e61ca2db",
   "metadata": {},
   "outputs": [
    {
     "name": "stdout",
     "output_type": "stream",
     "text": [
      "['desk' 'chair' 'bulb'] ['lamp' 'bulb' 'chair']\n"
     ]
    }
   ],
   "source": [
    "s1 = np.array(['desk','chair','bulb'])\n",
    "s2 = np.array(['lamp','bulb','chair'])\n",
    "print(s1, s2)"
   ]
  },
  {
   "cell_type": "code",
   "execution_count": 39,
   "id": "e3abcc39",
   "metadata": {},
   "outputs": [
    {
     "data": {
      "text/plain": [
       "array(['bulb', 'chair'], dtype='<U5')"
      ]
     },
     "execution_count": 39,
     "metadata": {},
     "output_type": "execute_result"
    }
   ],
   "source": [
    "np.intersect1d(s1, s2)     #common values between s1 and s2"
   ]
  },
  {
   "cell_type": "code",
   "execution_count": 40,
   "id": "0f584ad3",
   "metadata": {},
   "outputs": [
    {
     "data": {
      "text/plain": [
       "array(['bulb', 'chair', 'desk', 'lamp'], dtype='<U5')"
      ]
     },
     "execution_count": 40,
     "metadata": {},
     "output_type": "execute_result"
    }
   ],
   "source": [
    "np.union1d(s1, s2)         #common and uncommon values between s1 and "
   ]
  },
  {
   "cell_type": "code",
   "execution_count": 41,
   "id": "39854945",
   "metadata": {},
   "outputs": [
    {
     "data": {
      "text/plain": [
       "array(['desk'], dtype='<U5')"
      ]
     },
     "execution_count": 41,
     "metadata": {},
     "output_type": "execute_result"
    }
   ],
   "source": [
    "np.setdiff1d(s1, s2)       # elements in s1 that are not in s2"
   ]
  },
  {
   "cell_type": "code",
   "execution_count": 42,
   "id": "71ab40c2",
   "metadata": {},
   "outputs": [
    {
     "data": {
      "text/plain": [
       "array([False,  True,  True])"
      ]
     },
     "execution_count": 42,
     "metadata": {},
     "output_type": "execute_result"
    }
   ],
   "source": [
    "np.in1d(s1, s2)           # which element of s1 is, in s2"
   ]
  },
  {
   "cell_type": "markdown",
   "id": "e937b5df",
   "metadata": {},
   "source": [
    "### 6. Broadcasting"
   ]
  },
  {
   "cell_type": "markdown",
   "id": "1fd147a3",
   "metadata": {},
   "source": [
    "Introduction to broadcasting.\n",
    "For more details, please see:\n",
    "https://docs.scipy.org/doc/numpy-1.10.1/user/basics.broadcasting.html"
   ]
  },
  {
   "cell_type": "code",
   "execution_count": 43,
   "id": "8bfaf762",
   "metadata": {},
   "outputs": [
    {
     "name": "stdout",
     "output_type": "stream",
     "text": [
      "[[0. 0. 0.]\n",
      " [0. 0. 0.]\n",
      " [0. 0. 0.]\n",
      " [0. 0. 0.]]\n"
     ]
    }
   ],
   "source": [
    "import numpy as np\n",
    "\n",
    "a = np.zeros((4,3))\n",
    "print(a)"
   ]
  },
  {
   "cell_type": "code",
   "execution_count": 44,
   "id": "a9f382c7",
   "metadata": {},
   "outputs": [
    {
     "name": "stdout",
     "output_type": "stream",
     "text": [
      "[1 0 2]\n"
     ]
    }
   ],
   "source": [
    "# create a rank 1 ndarray with 3 values\n",
    "add_rows = np.array([1, 0, 2])\n",
    "print(add_rows)"
   ]
  },
  {
   "cell_type": "code",
   "execution_count": 45,
   "id": "45679920",
   "metadata": {},
   "outputs": [
    {
     "name": "stdout",
     "output_type": "stream",
     "text": [
      "[[1. 0. 2.]\n",
      " [1. 0. 2.]\n",
      " [1. 0. 2.]\n",
      " [1. 0. 2.]]\n"
     ]
    }
   ],
   "source": [
    "y = a + add_rows  # add to each row of 'a' using broadcasting\n",
    "print(y)"
   ]
  },
  {
   "cell_type": "code",
   "execution_count": 46,
   "id": "dd0cc2e5",
   "metadata": {},
   "outputs": [
    {
     "name": "stdout",
     "output_type": "stream",
     "text": [
      "[[0 1 2 3]]\n",
      "[[0]\n",
      " [1]\n",
      " [2]\n",
      " [3]]\n"
     ]
    }
   ],
   "source": [
    "# create an ndarray which is 4 x 1 to broadcast across columns\n",
    "add_cols = np.array([[0,1,2,3]]) # print(add_cols) \n",
    "print(add_cols)\n",
    "add_cols = add_cols.T #transpose: coverts rows into columns and vice versa\n",
    "\n",
    "print(add_cols)"
   ]
  },
  {
   "cell_type": "code",
   "execution_count": 47,
   "id": "8a364373",
   "metadata": {},
   "outputs": [
    {
     "name": "stdout",
     "output_type": "stream",
     "text": [
      "[[0. 0. 0.]\n",
      " [1. 1. 1.]\n",
      " [2. 2. 2.]\n",
      " [3. 3. 3.]]\n"
     ]
    }
   ],
   "source": [
    "# add to each column of 'a' using broadcasting\n",
    "y = a + add_cols \n",
    "print(y)"
   ]
  },
  {
   "cell_type": "code",
   "execution_count": 48,
   "id": "de5a7a48",
   "metadata": {},
   "outputs": [
    {
     "name": "stdout",
     "output_type": "stream",
     "text": [
      "[[1. 1. 1.]\n",
      " [1. 1. 1.]\n",
      " [1. 1. 1.]\n",
      " [1. 1. 1.]]\n"
     ]
    }
   ],
   "source": [
    "# this will just broadcast in both dimensions\n",
    "add_scalar = np.array([1])  \n",
    "print(a+add_scalar)"
   ]
  },
  {
   "cell_type": "code",
   "execution_count": 49,
   "id": "211d2d87",
   "metadata": {},
   "outputs": [
    {
     "name": "stdout",
     "output_type": "stream",
     "text": [
      "[[ 1  2  3  4]\n",
      " [ 5  6  7  8]\n",
      " [ 9 10 11 12]]\n"
     ]
    }
   ],
   "source": [
    "# create our 3x4 matrix\n",
    "arrA = np.array([[1,2,3,4],[5,6,7,8],[9,10,11,12]])\n",
    "print(arrA)"
   ]
  },
  {
   "cell_type": "code",
   "execution_count": 50,
   "id": "2477b6b5",
   "metadata": {},
   "outputs": [
    {
     "name": "stdout",
     "output_type": "stream",
     "text": [
      "[0, 1, 0, 2]\n"
     ]
    }
   ],
   "source": [
    "# create our 4x1 array\n",
    "arrB = [0,1,0,2]\n",
    "print(arrB)"
   ]
  },
  {
   "cell_type": "code",
   "execution_count": 51,
   "id": "fbc0fdac",
   "metadata": {},
   "outputs": [
    {
     "name": "stdout",
     "output_type": "stream",
     "text": [
      "[[ 1  3  3  6]\n",
      " [ 5  7  7 10]\n",
      " [ 9 11 11 14]]\n"
     ]
    }
   ],
   "source": [
    "# add the two together using broadcasting\n",
    "print(arrA + arrB)"
   ]
  },
  {
   "cell_type": "markdown",
   "id": "2b398d57",
   "metadata": {},
   "source": [
    "### 7. Binary Format"
   ]
  },
  {
   "cell_type": "code",
   "execution_count": 54,
   "id": "93808330",
   "metadata": {},
   "outputs": [],
   "source": [
    "import numpy as np\n",
    "x = np.array([ 23.23, 24.24] )"
   ]
  },
  {
   "cell_type": "code",
   "execution_count": 55,
   "id": "fc050656",
   "metadata": {},
   "outputs": [],
   "source": [
    "# Save an array to a binary file in NumPy ``.npy`` format.\n",
    "np.save('an_array', x,False) # saves the values in x to an_array"
   ]
  },
  {
   "cell_type": "code",
   "execution_count": 56,
   "id": "77b742ad",
   "metadata": {},
   "outputs": [
    {
     "data": {
      "text/plain": [
       "array([23.23, 24.24])"
      ]
     },
     "execution_count": 56,
     "metadata": {},
     "output_type": "execute_result"
    }
   ],
   "source": [
    "np.load('an_array.npy') "
   ]
  },
  {
   "cell_type": "markdown",
   "id": "752fbd81",
   "metadata": {},
   "source": [
    "### 8. Text Format"
   ]
  },
  {
   "cell_type": "code",
   "execution_count": 57,
   "id": "24e0e8d2",
   "metadata": {},
   "outputs": [],
   "source": [
    "# savetxt function will store your file in text format.\n",
    "np.savetxt('array2.txt', X=x, delimiter=',')"
   ]
  },
  {
   "cell_type": "code",
   "execution_count": 58,
   "id": "d46c790d",
   "metadata": {},
   "outputs": [
    {
     "name": "stdout",
     "output_type": "stream",
     "text": [
      "2.323000000000000043e+01\n",
      "2.423999999999999844e+01\n"
     ]
    }
   ],
   "source": [
    "!type array2.txt"
   ]
  },
  {
   "cell_type": "code",
   "execution_count": 59,
   "id": "d8ab6c42",
   "metadata": {},
   "outputs": [
    {
     "data": {
      "text/plain": [
       "array([23.23, 24.24])"
      ]
     },
     "execution_count": 59,
     "metadata": {},
     "output_type": "execute_result"
    }
   ],
   "source": [
    "np.loadtxt('array2.txt', delimiter=',') # delimiter and sep are optional"
   ]
  },
  {
   "cell_type": "markdown",
   "id": "d1391ee4",
   "metadata": {},
   "source": [
    "End"
   ]
  }
 ],
 "metadata": {
  "kernelspec": {
   "display_name": "Python 3 (ipykernel)",
   "language": "python",
   "name": "python3"
  },
  "language_info": {
   "codemirror_mode": {
    "name": "ipython",
    "version": 3
   },
   "file_extension": ".py",
   "mimetype": "text/x-python",
   "name": "python",
   "nbconvert_exporter": "python",
   "pygments_lexer": "ipython3",
   "version": "3.10.9"
  }
 },
 "nbformat": 4,
 "nbformat_minor": 5
}
