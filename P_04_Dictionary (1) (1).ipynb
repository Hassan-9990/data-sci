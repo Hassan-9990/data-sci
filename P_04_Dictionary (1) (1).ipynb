{
 "cells": [
  {
   "cell_type": "code",
   "execution_count": null,
   "id": "cc46de30",
   "metadata": {},
   "outputs": [],
   "source": [
    "# Python Dictionaries\n",
    "\n",
    "# dictionary in python are key-value pair.\n",
    "# dictionary is collection which is ordered, changable and does not allow\n",
    "# duplicate\n",
    "# Dictionary is mutable\n",
    "\n",
    "\n",
    "# Creating a dictionary\n",
    "student = {\"name\": \"Alice\", \"age\": 22, \"grade\": \"A\"}\n",
    "print(\"Student dictionary:\", student)\n",
    "\n",
    "# Accessing values\n",
    "print(\"Name:\", student[\"name\"])\n",
    "print(\"Age:\", student.get(\"age\"))\n",
    "\n",
    "# Adding or modifying values\n",
    "student[\"age\"] = 23\n",
    "student[\"city\"] = \"Delhi\"\n",
    "print(\"Updated dictionary:\", student)\n",
    "\n",
    "# Removing elements\n",
    "student.pop(\"grade\")\n",
    "print(\"After removing grade:\", student)\n",
    "\n",
    "# Dictionary methods\n",
    "print(\"Keys:\", student.keys())\n",
    "print(\"Values:\", student.values())\n",
    "print(\"Items:\", student.items())\n",
    "\n",
    "# Looping through dictionary\n",
    "print(\"Looping through key-value pairs:\")\n",
    "for key, value in student.items():\n",
    "    print(key, \":\", value)\n",
    "\n",
    "# Nested dictionary\n",
    "college = {\n",
    "    \"CS\": {\"hod\": \"Dr. Smith\", \"students\": 120},\n",
    "    \"Math\": {\"hod\": \"Dr. Lee\", \"students\": 80}\n",
    "}\n",
    "print(\"Nested dictionary:\", college)\n",
    "\n",
    "# Dictionary comprehension\n",
    "squares = {x: x**2 for x in range(1, 6)}\n",
    "print(\"Dictionary of squares:\", squares)\n",
    "\n",
    "# Use case\n",
    "grades = {\"Alice\": 85, \"Bob\": 90, \"Charlie\": 78}\n",
    "average = sum(grades.values()) / len(grades)\n",
    "print(\"Average grade:\", average)\n",
    "\n",
    "# Quiz-style practice (comments)\n",
    "# Q1. Create a dictionary with 3 countries and their capitals.\n",
    "# Q2. Add a new key-value pair to an existing dictionary.\n",
    "# Q3. Loop through a dictionary and print keys only\n",
    "# Q4.add a new pair where, key=10 and value = 'lecture'\n",
    "# Q5.pop last pair\n",
    "# Q6.delete second pair\n",
    "# Q7.print keys from dictionary\n",
    "# Q8.print values from dictionary\n",
    "# Q9.clear dict\n",
    "# Q10.creat dictionary by using 1,2,3,4 as keys and 'is integer' as value.\n",
    "\n",
    "# End of lesson\n"
   ]
  },
  {
   "cell_type": "markdown",
   "id": "ddf3c45b-16c6-4654-819c-bcbb6df38004",
   "metadata": {},
   "source": [
    "# Dictionaries\n",
    "\n",
    "# dictionary in python are key-value pair.\n",
    "# dictionary is collection which is ordered, changable and does not allow\n",
    "# duplicate\n",
    "# Dictionary is mutable"
   ]
  },
  {
   "cell_type": "markdown",
   "id": "1fec5060-85bf-43f5-9000-97b93e2e5941",
   "metadata": {},
   "source": [
    "# Dictionaries\n",
    "\n",
    "# dictionary in python are key-value pair.\n",
    "# dictionary is collection which is ordered, changable and does not allow\n",
    "# duplicate\n",
    "# Dictionary is mutable"
   ]
  },
  {
   "cell_type": "code",
   "execution_count": 1,
   "id": "544dc1d5-4c4d-4375-a562-a2ba918efdcf",
   "metadata": {},
   "outputs": [
    {
     "name": "stdout",
     "output_type": "stream",
     "text": [
      "Student dictionary: {'name': 'Alice', 'age': 22, 'grade': 'A'}\n"
     ]
    }
   ],
   "source": [
    "# Creating a dictionary\n",
    "student = {\"name\": \"Alice\", \"age\": 22, \"grade\": \"A\"}\n",
    "print(\"Student dictionary:\", student)\n"
   ]
  },
  {
   "cell_type": "code",
   "execution_count": 2,
   "id": "ff6f0cde-3454-4f95-a1eb-05a1f8aa4311",
   "metadata": {},
   "outputs": [
    {
     "name": "stdout",
     "output_type": "stream",
     "text": [
      "Name: Alice\n",
      "Age: 22\n"
     ]
    }
   ],
   "source": [
    "# Accessing values\n",
    "print(\"Name:\", student[\"name\"])\n",
    "print(\"Age:\", student.get(\"age\"))\n"
   ]
  },
  {
   "cell_type": "code",
   "execution_count": 3,
   "id": "28c6b577-8bd3-4bb9-81c0-dea9b1fcb5ae",
   "metadata": {},
   "outputs": [
    {
     "name": "stdout",
     "output_type": "stream",
     "text": [
      "Updated dictionary: {'name': 'Alice', 'age': 23, 'grade': 'A', 'city': 'Delhi'}\n"
     ]
    }
   ],
   "source": [
    "# Adding or modifying values\n",
    "student[\"age\"] = 23\n",
    "student[\"city\"] = \"Delhi\"\n",
    "print(\"Updated dictionary:\", student)\n",
    "\n"
   ]
  },
  {
   "cell_type": "code",
   "execution_count": 4,
   "id": "ed896e8d-4016-4f94-816b-5e9fd316e968",
   "metadata": {},
   "outputs": [
    {
     "name": "stdout",
     "output_type": "stream",
     "text": [
      "After removing grade: {'name': 'Alice', 'age': 23, 'city': 'Delhi'}\n"
     ]
    }
   ],
   "source": [
    "# Removing elements\n",
    "student.pop(\"grade\")\n",
    "print(\"After removing grade:\", student)"
   ]
  },
  {
   "cell_type": "code",
   "execution_count": 5,
   "id": "99feca17-95d6-4e44-989b-18bf2f346651",
   "metadata": {},
   "outputs": [
    {
     "name": "stdout",
     "output_type": "stream",
     "text": [
      "Keys: dict_keys(['name', 'age', 'city'])\n",
      "Values: dict_values(['Alice', 23, 'Delhi'])\n",
      "Items: dict_items([('name', 'Alice'), ('age', 23), ('city', 'Delhi')])\n"
     ]
    }
   ],
   "source": [
    "# Dictionary methods\n",
    "print(\"Keys:\", student.keys())\n",
    "print(\"Values:\", student.values())\n",
    "print(\"Items:\", student.items())"
   ]
  },
  {
   "cell_type": "code",
   "execution_count": 6,
   "id": "73daa32b-8a51-49e6-8625-c17b93b749c0",
   "metadata": {},
   "outputs": [
    {
     "name": "stdout",
     "output_type": "stream",
     "text": [
      "Looping through key-value pairs:\n",
      "name : Alice\n",
      "age : 23\n",
      "city : Delhi\n"
     ]
    }
   ],
   "source": [
    "# Looping through dictionary\n",
    "print(\"Looping through key-value pairs:\")\n",
    "for key, value in student.items():\n",
    "    print(key, \":\", value)\n"
   ]
  },
  {
   "cell_type": "code",
   "execution_count": 9,
   "id": "20bc7597-a8aa-4f0a-8a21-a1dfcff53eff",
   "metadata": {},
   "outputs": [
    {
     "name": "stdout",
     "output_type": "stream",
     "text": [
      "Nested dictionary: {'CS': {'hod': 'Dr. Smith', 'students': 120}, 'Math': {'hod': 'Dr. Lee', 'students': 80}}\n"
     ]
    }
   ],
   "source": [
    "# Nested dictionary\n",
    "college = {\n",
    "    \"CS\": {\"hod\": \"Dr. Smith\", \"students\": 120},\n",
    "    \"Math\": {\"hod\": \"Dr. Lee\", \"students\": 80}\n",
    "}\n",
    "print(\"Nested dictionary:\", college)\n"
   ]
  },
  {
   "cell_type": "code",
   "execution_count": 10,
   "id": "1776e667-264f-435f-acea-53cca2daaf26",
   "metadata": {},
   "outputs": [
    {
     "name": "stdout",
     "output_type": "stream",
     "text": [
      "Dictionary of squares: {1: 1, 2: 4, 3: 9, 4: 16, 5: 25}\n"
     ]
    }
   ],
   "source": [
    "# Dictionary comprehension\n",
    "squares = {x: x**2 for x in range(1, 6)}\n",
    "print(\"Dictionary of squares:\", squares)"
   ]
  },
  {
   "cell_type": "code",
   "execution_count": null,
   "id": "cd565d0e-f401-494b-8275-1e13afc82114",
   "metadata": {},
   "outputs": [],
   "source": [
    "# Use case\n",
    "grades = {\"Alice\": 85, \"Bob\": 90, \"Charlie\": 78}\n",
    "average = sum(grades.values()) / len(grades)\n",
    "print(\"Average grade:\", average)\n"
   ]
  },
  {
   "cell_type": "code",
   "execution_count": null,
   "id": "684dbb11-7b02-45ed-b6d3-8b9db3002f36",
   "metadata": {},
   "outputs": [],
   "source": [
    "# Quiz-style practice (comments)\n",
    "# Q1. Create a dictionary with 3 countries and their capitals.\n",
    "# Q2. Add a new key-value pair to an existing dictionary.\n",
    "# Q3. Loop through a dictionary and print keys only\n",
    "# Q4.add a new pair where, key=10 and value = 'lecture'\n",
    "# Q5.pop last pair\n",
    "# Q6.delete second pair\n",
    "# Q7.print keys from dictionary\n",
    "# Q8.print values from dictionary\n",
    "# Q9.clear dict\n",
    "# Q10.creat dictionary by using 1,2,3,4 as keys and 'is integer' as value.\n",
    "\n",
    "# End of lesson"
   ]
  }
 ],
 "metadata": {
  "kernelspec": {
   "display_name": "Python 3 (ipykernel)",
   "language": "python",
   "name": "python3"
  },
  "language_info": {
   "codemirror_mode": {
    "name": "ipython",
    "version": 3
   },
   "file_extension": ".py",
   "mimetype": "text/x-python",
   "name": "python",
   "nbconvert_exporter": "python",
   "pygments_lexer": "ipython3",
   "version": "3.12.7"
  }
 },
 "nbformat": 4,
 "nbformat_minor": 5
}
