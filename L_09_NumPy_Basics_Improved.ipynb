{
 "cells": [
  {
   "cell_type": "markdown",
   "id": "b20a739e-56d8-4ea4-a719-70a9b7a9c1b3",
   "metadata": {},
   "source": [
    "# L_9: NumPy Basics\n",
    "\n",
    "Introduction to numpy:\n",
    "\n",
    "Package for scientific computing with Python\n",
    "\n",
    "Numerical Python, or \"Numpy\" for short, is a foundational package on which many of the most common data science packages are built. Numpy provides us with high performance multi-dimensional arrays which we can use as vectors or matrices.\n",
    "\n",
    "The key features of numpy are:\n",
    "\n",
    "-ndarrays: n-dimensional arrays of the same data type which are fast and space-efficient. There are a number of built-in methods for ndarrays which allow for rapid processing of data without using loops (e.g., compute the mean).\n",
    "\n",
    "-Broadcasting: a useful tool which defines implicit behavior between multi-dimensional arrays of different sizes.\n",
    "\n",
    "-Vectorization: enables numeric operations on ndarrays.\n",
    "\n",
    "-Input/Output: simplifies reading and writing of data from/to file.\n",
    "\n",
    "-Additional Recommended Resources:\n",
    "\n",
    "Numpy Documentation\n",
    "\n",
    "Python for Data Analysis by Wes McKinney\n",
    "\n",
    "Python Data science Handbook by Jake VanderPlas\n",
    "\n"
   ]
  },
  {
   "cell_type": "code",
   "execution_count": null,
   "id": "d8ed67c7",
   "metadata": {},
   "outputs": [],
   "source": [
    "import numpy as np"
   ]
  },
  {
   "cell_type": "code",
   "execution_count": null,
   "id": "5f14d651",
   "metadata": {},
   "outputs": [],
   "source": [
    "arr = np.array([1, 2, 3])\n",
    "print(arr)"
   ]
  },
  {
   "cell_type": "code",
   "execution_count": null,
   "id": "de0815c2",
   "metadata": {},
   "outputs": [],
   "source": [
    "print(\"Shape:\", arr.shape)\n",
    "print(\"Mean:\", arr.mean())"
   ]
  },
  {
   "cell_type": "code",
   "execution_count": null,
   "id": "1dd73ab3",
   "metadata": {},
   "outputs": [],
   "source": [
    "arr2 = np.arange(10).reshape(2, 5)\n",
    "print(arr2)"
   ]
  },
  {
   "cell_type": "markdown",
   "id": "80290aea-c075-428a-9675-5a84e2eb6728",
   "metadata": {},
   "source": [
    "1. Creating one dimensional array"
   ]
  },
  {
   "cell_type": "code",
   "execution_count": null,
   "id": "37007321-9369-4ae1-9fa9-80144f1389c7",
   "metadata": {},
   "outputs": [],
   "source": [
    "a = [1,2,3,4,5]\n",
    "array1 = np.array(a)\n",
    "array1"
   ]
  },
  {
   "cell_type": "code",
   "execution_count": null,
   "id": "977757c7-0b61-43f9-b652-cfccfa473252",
   "metadata": {},
   "outputs": [],
   "source": [
    "# Create an array of evenly spaced values \n",
    "array1 = np.linspace(1,10,4)\n",
    "array1"
   ]
  },
  {
   "cell_type": "code",
   "execution_count": null,
   "id": "16ef394e-b570-4ca4-ad77-83805600ef81",
   "metadata": {},
   "outputs": [],
   "source": [
    "array1.size"
   ]
  },
  {
   "cell_type": "markdown",
   "id": "febbc373-66c0-41c5-b764-c2d9b85e9abd",
   "metadata": {},
   "source": [
    "Creating two dimensional array"
   ]
  },
  {
   "cell_type": "code",
   "execution_count": null,
   "id": "71172a4c-a97d-4a17-816a-53c29a02cfdc",
   "metadata": {},
   "outputs": [],
   "source": [
    "a = [[1,2,3,5]]\n",
    "array2 = np.array(a)\n",
    "array2"
   ]
  },
  {
   "cell_type": "code",
   "execution_count": null,
   "id": "6c2edb7b-c864-40f5-8705-3a1e8f3e65a0",
   "metadata": {},
   "outputs": [],
   "source": [
    "a = [[1,2,3],[4,5,6],[7,8,9]]\n",
    "array2 = np.array(a)\n",
    "array2"
   ]
  },
  {
   "cell_type": "code",
   "execution_count": null,
   "id": "53dd3add-5fb6-4e72-844b-3a1ee8a9935d",
   "metadata": {},
   "outputs": [],
   "source": [
    "array2 = np.array([[1,2,3],[4,5,6],[7,8,9],])\n",
    "array2"
   ]
  },
  {
   "cell_type": "code",
   "execution_count": null,
   "id": "ce7c270f-44fa-421c-9dd4-fce165637904",
   "metadata": {},
   "outputs": [],
   "source": [
    "array2.ndim"
   ]
  },
  {
   "cell_type": "code",
   "execution_count": null,
   "id": "fdc24356-feb8-4d40-b754-a1723b2e634c",
   "metadata": {},
   "outputs": [],
   "source": [
    "array2.shape"
   ]
  },
  {
   "cell_type": "markdown",
   "id": "838e6cd4-8e47-4099-a8a3-f486280dc0e8",
   "metadata": {},
   "source": [
    "3. Creating null and unit array"
   ]
  },
  {
   "cell_type": "code",
   "execution_count": null,
   "id": "39e7e1e5-de81-49c9-bab8-5f1f8cf95263",
   "metadata": {},
   "outputs": [],
   "source": [
    "array3 = np.zeros(4)\n",
    "array3"
   ]
  },
  {
   "cell_type": "code",
   "execution_count": null,
   "id": "4a7603b3-b13d-4797-9936-7952f176c640",
   "metadata": {},
   "outputs": [],
   "source": [
    "array3 = np.zeros((3,4))\n",
    "array3"
   ]
  },
  {
   "cell_type": "code",
   "execution_count": null,
   "id": "260b4657-a18c-4d9e-84fb-67a1de6a5c1f",
   "metadata": {},
   "outputs": [],
   "source": [
    "array3 = np.ones(4)\n",
    "array3"
   ]
  },
  {
   "cell_type": "code",
   "execution_count": null,
   "id": "ef51efec-6d20-4bab-a055-53ff33cac3c1",
   "metadata": {},
   "outputs": [],
   "source": [
    "array4 = np.eye(3,3)\n",
    "array4"
   ]
  },
  {
   "cell_type": "markdown",
   "id": "1cef0c16-3b0f-426b-9651-67cc53260a82",
   "metadata": {},
   "source": [
    "diagonal function"
   ]
  },
  {
   "cell_type": "code",
   "execution_count": null,
   "id": "d9ac8c20-85c6-4b3d-9878-fa3eb280ba60",
   "metadata": {},
   "outputs": [],
   "source": [
    "array6 = np.diag([1,2,3,4])      # giving diagonal elements in array\n",
    "array6"
   ]
  },
  {
   "cell_type": "code",
   "execution_count": null,
   "id": "b2c1b5dd-ab70-4ea6-bc75-2760a9ba4ed1",
   "metadata": {},
   "outputs": [],
   "source": [
    "np.diag(array6)       "
   ]
  },
  {
   "cell_type": "markdown",
   "id": "4b4829bd-8a1a-4e3e-8b7f-ccfb9dd7a2a7",
   "metadata": {},
   "source": [
    "4. Data Type"
   ]
  },
  {
   "cell_type": "code",
   "execution_count": null,
   "id": "cb5decaa-4374-4129-9252-058184e6eab0",
   "metadata": {},
   "outputs": [],
   "source": [
    "a1 = np.array([11, 12]) # Python assigns the  data type\n",
    "print(a1.dtype)"
   ]
  },
  {
   "cell_type": "code",
   "execution_count": null,
   "id": "67ac37ec-b55a-421f-97a1-6c9894bc4dba",
   "metadata": {},
   "outputs": [],
   "source": [
    "a2 = np.array([11.0, 12.0]) # Python assigns the  data type\n",
    "print(a2.dtype)"
   ]
  },
  {
   "cell_type": "markdown",
   "id": "4c9cf0f7-45dc-46e9-8f3f-1ce6719ed223",
   "metadata": {},
   "source": [
    "Changing dtype"
   ]
  },
  {
   "cell_type": "code",
   "execution_count": null,
   "id": "b48155a4-999a-4956-9d89-aabbb245c897",
   "metadata": {},
   "outputs": [],
   "source": [
    "a2 = np.array([11, 21], dtype=np.int64) #You can also tell Python the  data type\n",
    "print(a2.dtype)"
   ]
  },
  {
   "cell_type": "code",
   "execution_count": null,
   "id": "1435522c-42ce-4573-bf38-7d314b955322",
   "metadata": {},
   "outputs": [],
   "source": [
    "a2 = np.array([11, 21], dtype=np.float32)     # Convert an array into float dtype\n",
    "print(a2.dtype)\n",
    "a2"
   ]
  },
  {
   "cell_type": "markdown",
   "id": "29133702-1b95-4cdf-a508-9f8c8636dbf8",
   "metadata": {},
   "source": [
    "5. Inspecting array"
   ]
  },
  {
   "cell_type": "code",
   "execution_count": null,
   "id": "6c6ada51-66f8-4776-8548-c552edba00fe",
   "metadata": {},
   "outputs": [],
   "source": [
    "array2"
   ]
  },
  {
   "cell_type": "code",
   "execution_count": null,
   "id": "ffc8fd50-ae43-4782-9fbe-9618918dd26c",
   "metadata": {},
   "outputs": [],
   "source": [
    "array2.ndim      # Number of array dimensions"
   ]
  },
  {
   "cell_type": "code",
   "execution_count": null,
   "id": "a4b0833b-7643-450f-8e01-cd48ca8c79aa",
   "metadata": {},
   "outputs": [],
   "source": [
    "print(array2.shape)     # Array row and column number"
   ]
  },
  {
   "cell_type": "code",
   "execution_count": null,
   "id": "f7aa763e-23e3-4ae0-a73b-e9d0ad5fc27a",
   "metadata": {},
   "outputs": [],
   "source": [
    "len(array2)      # Number of rows in array"
   ]
  },
  {
   "cell_type": "code",
   "execution_count": null,
   "id": "0fda576c-44d2-45e5-a653-f8b06a7cee93",
   "metadata": {},
   "outputs": [],
   "source": [
    "array2.size      # Number of array elements"
   ]
  },
  {
   "cell_type": "code",
   "execution_count": null,
   "id": "76fd5608-6f3c-41f7-9869-7f08f552fed2",
   "metadata": {},
   "outputs": [],
   "source": [
    "array2.dtype     # Data type of array elements"
   ]
  },
  {
   "cell_type": "code",
   "execution_count": null,
   "id": "33659c66-7b32-4d15-a2b6-316846e7e42a",
   "metadata": {},
   "outputs": [],
   "source": [
    "array2.dtype.name   # Name of data type"
   ]
  },
  {
   "cell_type": "markdown",
   "id": "826c396c-7f97-4f0f-b758-6e6dec550599",
   "metadata": {},
   "source": [
    "6. Reshaping"
   ]
  },
  {
   "cell_type": "code",
   "execution_count": null,
   "id": "89f39847-5b9c-49a2-af86-2367e05ead90",
   "metadata": {},
   "outputs": [],
   "source": [
    "array7 = np.random.randint(1,10,12)\n",
    "array7"
   ]
  },
  {
   "cell_type": "code",
   "execution_count": null,
   "id": "29ac0587-24ae-4b4e-87af-39bd7b11e8ab",
   "metadata": {},
   "outputs": [],
   "source": [
    "array7.reshape(3,4)"
   ]
  },
  {
   "cell_type": "code",
   "execution_count": null,
   "id": "feed6cb9-f76a-4bd9-be3a-15c816e6643a",
   "metadata": {},
   "outputs": [],
   "source": [
    "array7.reshape(3,-1)             # -1 is unkown number of columns"
   ]
  },
  {
   "cell_type": "markdown",
   "id": "b236d9e0-dca5-4fd3-b1da-b6d5fd175dcc",
   "metadata": {},
   "source": [
    "7. random values"
   ]
  },
  {
   "cell_type": "code",
   "execution_count": null,
   "id": "8ef05ae3-d4ac-40e4-bb9f-960a980d4ee9",
   "metadata": {},
   "outputs": [],
   "source": [
    "#np.random.seed(195)\n",
    "rand_number = np.random.normal()  \n",
    "rand_number"
   ]
  },
  {
   "cell_type": "code",
   "execution_count": null,
   "id": "7ae14d63-bc39-469d-abfc-bdf86e2e89f0",
   "metadata": {},
   "outputs": [],
   "source": [
    "array8 = np.random.normal(size = (4))      # Creates a random normal distribution of 1 row and 4 coloumns\n",
    "array8"
   ]
  },
  {
   "cell_type": "code",
   "execution_count": null,
   "id": "dc45ff3e-89d8-4381-87d1-86543685fcd8",
   "metadata": {},
   "outputs": [],
   "source": [
    "#np.random.seed(217)\n",
    "array8 = np.random.normal(size = (2,3))    # Creates a random normal distribution of 2 rows and 3 coloumns\n",
    "array8"
   ]
  },
  {
   "cell_type": "markdown",
   "id": "841828e6-a76c-44d1-ba14-8a1a56841d17",
   "metadata": {},
   "source": [
    "# L_9: NumPy Basics\n",
    "\n",
    "Introduction to numpy:\n",
    "\n",
    "Package for scientific computing with Python\n",
    "\n",
    "Numerical Python, or \"Numpy\" for short, is a foundational package on which many of the most common data science packages are built. Numpy provides us with high performance multi-dimensional arrays which we can use as vectors or matrices.\n",
    "\n",
    "The key features of numpy are:\n",
    "\n",
    "-ndarrays: n-dimensional arrays of the same data type which are fast and space-efficient. There are a number of built-in methods for ndarrays which allow for rapid processing of data without using loops (e.g., compute the mean).\n",
    "\n",
    "-Broadcasting: a useful tool which defines implicit behavior between multi-dimensional arrays of different sizes.\n",
    "\n",
    "-Vectorization: enables numeric operations on ndarrays.\n",
    "\n",
    "-Input/Output: simplifies reading and writing of data from/to file.\n",
    "\n",
    "-Additional Recommended Resources:\n",
    "\n",
    "Numpy Documentation\n",
    "\n",
    "Python for Data Analysis by Wes McKinney\n",
    "\n",
    "Python Data science Handbook by Jake VanderPlas\n",
    "\n"
   ]
  },
  {
   "cell_type": "code",
   "execution_count": null,
   "id": "76af29e4-b97d-475e-a8c2-4576e11b26bd",
   "metadata": {},
   "outputs": [],
   "source": [
    "import numpy as np"
   ]
  },
  {
   "cell_type": "code",
   "execution_count": 2,
   "id": "373ea3de-1cb2-4ac8-9a4f-82fb91cae52b",
   "metadata": {},
   "outputs": [
    {
     "name": "stdout",
     "output_type": "stream",
     "text": [
      "[1 2 3]\n"
     ]
    }
   ],
   "source": [
    "import numpy as np\n",
    "arr = np.array([1, 2, 3])\n",
    "print(arr)"
   ]
  },
  {
   "cell_type": "code",
   "execution_count": 3,
   "id": "77f8232b-f0a5-4f5b-b2e0-52b0bfd18191",
   "metadata": {},
   "outputs": [
    {
     "name": "stdout",
     "output_type": "stream",
     "text": [
      "Shape: (3,)\n",
      "Mean: 2.0\n"
     ]
    }
   ],
   "source": [
    "print(\"Shape:\", arr.shape)\n",
    "print(\"Mean:\", arr.mean())"
   ]
  },
  {
   "cell_type": "code",
   "execution_count": 4,
   "id": "e320d456-450a-480c-a6e0-0022d2960034",
   "metadata": {},
   "outputs": [
    {
     "name": "stdout",
     "output_type": "stream",
     "text": [
      "[[0 1 2 3 4]\n",
      " [5 6 7 8 9]]\n"
     ]
    }
   ],
   "source": [
    "arr2 = np.arange(10).reshape(2, 5)\n",
    "print(arr2)"
   ]
  },
  {
   "cell_type": "code",
   "execution_count": 5,
   "id": "39b97610-cd61-4303-a278-58437f61704a",
   "metadata": {},
   "outputs": [
    {
     "name": "stdout",
     "output_type": "stream",
     "text": [
      "[[0 1 2 3 4]\n",
      " [5 6 7 8 9]]\n"
     ]
    }
   ],
   "source": [
    "arr2 = np.arange(10).reshape(2, 5)\n",
    "print(arr2)"
   ]
  },
  {
   "cell_type": "markdown",
   "id": "8923e79b-596b-4dec-aa38-ba92723e90e9",
   "metadata": {},
   "source": [
    "Creating one dimensional array\n"
   ]
  },
  {
   "cell_type": "code",
   "execution_count": 6,
   "id": "fce6c8e1-adf4-48c9-9cb0-419af70f82e9",
   "metadata": {},
   "outputs": [
    {
     "data": {
      "text/plain": [
       "array([1, 2, 3, 4, 5])"
      ]
     },
     "execution_count": 6,
     "metadata": {},
     "output_type": "execute_result"
    }
   ],
   "source": [
    "a = [1,2,3,4,5]\n",
    "array1 = np.array(a)\n",
    "array1"
   ]
  },
  {
   "cell_type": "code",
   "execution_count": 7,
   "id": "d3c10256-d247-45de-9411-0a4b8151aa9d",
   "metadata": {},
   "outputs": [
    {
     "data": {
      "text/plain": [
       "array([ 1.,  4.,  7., 10.])"
      ]
     },
     "execution_count": 7,
     "metadata": {},
     "output_type": "execute_result"
    }
   ],
   "source": [
    "# Create an array of evenly spaced values \n",
    "array1 = np.linspace(1,10,4)\n",
    "array1"
   ]
  },
  {
   "cell_type": "code",
   "execution_count": 8,
   "id": "a621c6bd-339e-4957-b5d4-1fe794cb4b94",
   "metadata": {},
   "outputs": [
    {
     "data": {
      "text/plain": [
       "4"
      ]
     },
     "execution_count": 8,
     "metadata": {},
     "output_type": "execute_result"
    }
   ],
   "source": [
    "array1.size"
   ]
  },
  {
   "cell_type": "markdown",
   "id": "93aecc1f-497d-4373-bcc4-84f4862e1207",
   "metadata": {},
   "source": [
    "Creating two dimensional array"
   ]
  },
  {
   "cell_type": "code",
   "execution_count": 9,
   "id": "a43a769a-42aa-4c91-a0d3-8fa6302d6b74",
   "metadata": {},
   "outputs": [
    {
     "data": {
      "text/plain": [
       "array([[1, 2, 3, 5]])"
      ]
     },
     "execution_count": 9,
     "metadata": {},
     "output_type": "execute_result"
    }
   ],
   "source": [
    "a = [[1,2,3,5]]\n",
    "array2 = np.array(a)\n",
    "array2"
   ]
  },
  {
   "cell_type": "code",
   "execution_count": 10,
   "id": "d584f7be-eea9-4da2-89bd-086ddf49bd5e",
   "metadata": {},
   "outputs": [
    {
     "data": {
      "text/plain": [
       "array([[1, 2, 3],\n",
       "       [4, 5, 6],\n",
       "       [7, 8, 9]])"
      ]
     },
     "execution_count": 10,
     "metadata": {},
     "output_type": "execute_result"
    }
   ],
   "source": [
    "a = [[1,2,3],[4,5,6],[7,8,9]]\n",
    "array2 = np.array(a)\n",
    "array2"
   ]
  },
  {
   "cell_type": "code",
   "execution_count": 11,
   "id": "72d56b25-e9c9-465b-ae74-b67a13a2fdfa",
   "metadata": {},
   "outputs": [
    {
     "data": {
      "text/plain": [
       "array([[1, 2, 3],\n",
       "       [4, 5, 6],\n",
       "       [7, 8, 9]])"
      ]
     },
     "execution_count": 11,
     "metadata": {},
     "output_type": "execute_result"
    }
   ],
   "source": [
    "array2 = np.array([[1,2,3],[4,5,6],[7,8,9],])\n",
    "array2"
   ]
  },
  {
   "cell_type": "code",
   "execution_count": 12,
   "id": "4d550e07-91fd-4f2e-99bd-1fbad85b0672",
   "metadata": {},
   "outputs": [
    {
     "data": {
      "text/plain": [
       "2"
      ]
     },
     "execution_count": 12,
     "metadata": {},
     "output_type": "execute_result"
    }
   ],
   "source": [
    "array2.ndim"
   ]
  },
  {
   "cell_type": "markdown",
   "id": "4d5ad699-0c3d-44ff-b231-ebbf20ac4847",
   "metadata": {},
   "source": [
    "array2.shape"
   ]
  },
  {
   "cell_type": "markdown",
   "id": "eb2b6e8f-7cda-4e05-bd81-87a6bdc2ec5d",
   "metadata": {},
   "source": [
    "3.Creating null and unit array"
   ]
  },
  {
   "cell_type": "code",
   "execution_count": 14,
   "id": "378b58df-4906-4359-8431-003af33a3108",
   "metadata": {},
   "outputs": [
    {
     "data": {
      "text/plain": [
       "array([0., 0., 0., 0.])"
      ]
     },
     "execution_count": 14,
     "metadata": {},
     "output_type": "execute_result"
    }
   ],
   "source": [
    "array3 = np.zeros(4)\n",
    "array3"
   ]
  },
  {
   "cell_type": "code",
   "execution_count": 15,
   "id": "4050ff8b-2819-4693-800f-6bbe66e290b0",
   "metadata": {},
   "outputs": [
    {
     "data": {
      "text/plain": [
       "array([[0., 0., 0., 0.],\n",
       "       [0., 0., 0., 0.],\n",
       "       [0., 0., 0., 0.]])"
      ]
     },
     "execution_count": 15,
     "metadata": {},
     "output_type": "execute_result"
    }
   ],
   "source": [
    "array3 = np.zeros((3,4))\n",
    "array3"
   ]
  },
  {
   "cell_type": "code",
   "execution_count": 16,
   "id": "542ba140-c40a-4e71-8946-d202fb5f0a4f",
   "metadata": {},
   "outputs": [
    {
     "data": {
      "text/plain": [
       "array([1., 1., 1., 1.])"
      ]
     },
     "execution_count": 16,
     "metadata": {},
     "output_type": "execute_result"
    }
   ],
   "source": [
    "array3 = np.ones(4)\n",
    "array3"
   ]
  },
  {
   "cell_type": "code",
   "execution_count": 17,
   "id": "d25e787b-2f92-4b9e-b9a5-d54972ed834f",
   "metadata": {},
   "outputs": [
    {
     "data": {
      "text/plain": [
       "array([[1., 0., 0.],\n",
       "       [0., 1., 0.],\n",
       "       [0., 0., 1.]])"
      ]
     },
     "execution_count": 17,
     "metadata": {},
     "output_type": "execute_result"
    }
   ],
   "source": [
    "array4 = np.eye(3,3)\n",
    "array4"
   ]
  },
  {
   "cell_type": "markdown",
   "id": "478a9dd8-75ea-40a0-85b2-762fb9cc16c8",
   "metadata": {},
   "source": [
    "diagonal function"
   ]
  },
  {
   "cell_type": "code",
   "execution_count": 18,
   "id": "a948bb61-dbeb-42cc-a8fb-3a9f2f74582d",
   "metadata": {},
   "outputs": [
    {
     "data": {
      "text/plain": [
       "array([[1, 0, 0, 0],\n",
       "       [0, 2, 0, 0],\n",
       "       [0, 0, 3, 0],\n",
       "       [0, 0, 0, 4]])"
      ]
     },
     "execution_count": 18,
     "metadata": {},
     "output_type": "execute_result"
    }
   ],
   "source": [
    "array6 = np.diag([1,2,3,4])      # giving diagonal elements in array\n",
    "array6"
   ]
  },
  {
   "cell_type": "code",
   "execution_count": 19,
   "id": "b38c5033-c20e-46a6-b4a5-f7262a6e5f01",
   "metadata": {},
   "outputs": [
    {
     "data": {
      "text/plain": [
       "array([1, 2, 3, 4])"
      ]
     },
     "execution_count": 19,
     "metadata": {},
     "output_type": "execute_result"
    }
   ],
   "source": [
    "np.diag(array6)    "
   ]
  },
  {
   "cell_type": "markdown",
   "id": "37d4bf7a-59fe-4af4-8e0f-b6977be191eb",
   "metadata": {},
   "source": [
    "4.Data Type"
   ]
  },
  {
   "cell_type": "code",
   "execution_count": 20,
   "id": "37bec734-f5d2-42ed-936f-e34eed5b4893",
   "metadata": {},
   "outputs": [
    {
     "name": "stdout",
     "output_type": "stream",
     "text": [
      "int32\n"
     ]
    }
   ],
   "source": [
    "a1 = np.array([11, 12]) # Python assigns the  data type\n",
    "print(a1.dtype)"
   ]
  },
  {
   "cell_type": "code",
   "execution_count": 21,
   "id": "f943f4fd-370b-4621-8147-eef59f01677c",
   "metadata": {},
   "outputs": [
    {
     "name": "stdout",
     "output_type": "stream",
     "text": [
      "float64\n"
     ]
    }
   ],
   "source": [
    "a2 = np.array([11.0, 12.0]) # Python assigns the  data type\n",
    "print(a2.dtype)"
   ]
  },
  {
   "cell_type": "markdown",
   "id": "e30bc6ce-8999-4a9b-a4a7-ccce4b603020",
   "metadata": {},
   "source": [
    "Changing dtype"
   ]
  },
  {
   "cell_type": "code",
   "execution_count": 22,
   "id": "70444370-67bc-4c99-be85-be2ccd5bc6f0",
   "metadata": {},
   "outputs": [
    {
     "name": "stdout",
     "output_type": "stream",
     "text": [
      "int64\n"
     ]
    }
   ],
   "source": [
    "a2 = np.array([11, 21], dtype=np.int64) #You can also tell Python the  data type\n",
    "print(a2.dtype)"
   ]
  },
  {
   "cell_type": "code",
   "execution_count": 23,
   "id": "30faf535-f498-41b6-97a1-fd7e496c0460",
   "metadata": {},
   "outputs": [
    {
     "name": "stdout",
     "output_type": "stream",
     "text": [
      "float32\n"
     ]
    },
    {
     "data": {
      "text/plain": [
       "array([11., 21.], dtype=float32)"
      ]
     },
     "execution_count": 23,
     "metadata": {},
     "output_type": "execute_result"
    }
   ],
   "source": [
    "a2 = np.array([11, 21], dtype=np.float32)     # Convert an array into float dtype\n",
    "print(a2.dtype)\n",
    "a2"
   ]
  },
  {
   "cell_type": "markdown",
   "id": "cd536773-2368-47d2-b084-6f44b8bec9fb",
   "metadata": {},
   "source": [
    "5.Inspecting array"
   ]
  },
  {
   "cell_type": "code",
   "execution_count": 24,
   "id": "aad230e0-d8ed-403b-b67d-44bfea0897de",
   "metadata": {},
   "outputs": [
    {
     "data": {
      "text/plain": [
       "array([[1, 2, 3],\n",
       "       [4, 5, 6],\n",
       "       [7, 8, 9]])"
      ]
     },
     "execution_count": 24,
     "metadata": {},
     "output_type": "execute_result"
    }
   ],
   "source": [
    "array2"
   ]
  },
  {
   "cell_type": "code",
   "execution_count": 25,
   "id": "ef8b8aa4-4730-450c-b957-b9171f30d360",
   "metadata": {},
   "outputs": [
    {
     "data": {
      "text/plain": [
       "2"
      ]
     },
     "execution_count": 25,
     "metadata": {},
     "output_type": "execute_result"
    }
   ],
   "source": [
    "array2.ndim      # Number of array dimensions"
   ]
  },
  {
   "cell_type": "code",
   "execution_count": 26,
   "id": "f49a9c51-7d3b-4244-968f-6d82f5bd0b03",
   "metadata": {},
   "outputs": [
    {
     "name": "stdout",
     "output_type": "stream",
     "text": [
      "(3, 3)\n"
     ]
    }
   ],
   "source": [
    "print(array2.shape)     # Array row and column number"
   ]
  },
  {
   "cell_type": "code",
   "execution_count": 27,
   "id": "c416286c-7de5-4b00-ac58-34baffa66dd1",
   "metadata": {},
   "outputs": [
    {
     "data": {
      "text/plain": [
       "3"
      ]
     },
     "execution_count": 27,
     "metadata": {},
     "output_type": "execute_result"
    }
   ],
   "source": [
    "len(array2)      # Number of rows in array"
   ]
  },
  {
   "cell_type": "code",
   "execution_count": 28,
   "id": "35bdaa95-87c0-46a1-beaa-2d8bead0f8af",
   "metadata": {},
   "outputs": [
    {
     "data": {
      "text/plain": [
       "9"
      ]
     },
     "execution_count": 28,
     "metadata": {},
     "output_type": "execute_result"
    }
   ],
   "source": [
    "array2.size      # Number of array elements"
   ]
  },
  {
   "cell_type": "code",
   "execution_count": 29,
   "id": "08fe7ded-58d8-47ee-a2e0-1bd0384d671f",
   "metadata": {},
   "outputs": [
    {
     "data": {
      "text/plain": [
       "dtype('int32')"
      ]
     },
     "execution_count": 29,
     "metadata": {},
     "output_type": "execute_result"
    }
   ],
   "source": [
    "array2.dtype     # Data type of array elements"
   ]
  },
  {
   "cell_type": "code",
   "execution_count": 30,
   "id": "1a3b12f7-fdaf-4f97-8697-7e92c547e073",
   "metadata": {},
   "outputs": [
    {
     "data": {
      "text/plain": [
       "'int32'"
      ]
     },
     "execution_count": 30,
     "metadata": {},
     "output_type": "execute_result"
    }
   ],
   "source": [
    "array2.dtype.name   # Name of data type"
   ]
  },
  {
   "cell_type": "markdown",
   "id": "59bffa9e-a536-4655-87f2-1811fdf183f3",
   "metadata": {},
   "source": [
    "6.Reshaping"
   ]
  },
  {
   "cell_type": "code",
   "execution_count": 31,
   "id": "90b14a0b-970f-4856-bed3-9f0ff035d9ee",
   "metadata": {},
   "outputs": [
    {
     "data": {
      "text/plain": [
       "array([2, 8, 1, 7, 8, 7, 5, 7, 6, 7, 7, 1])"
      ]
     },
     "execution_count": 31,
     "metadata": {},
     "output_type": "execute_result"
    }
   ],
   "source": [
    "array7 = np.random.randint(1,10,12)\n",
    "array7"
   ]
  },
  {
   "cell_type": "code",
   "execution_count": 32,
   "id": "33d3acf2-5000-4ab4-842b-1b30816a663d",
   "metadata": {},
   "outputs": [
    {
     "data": {
      "text/plain": [
       "array([[2, 8, 1, 7],\n",
       "       [8, 7, 5, 7],\n",
       "       [6, 7, 7, 1]])"
      ]
     },
     "execution_count": 32,
     "metadata": {},
     "output_type": "execute_result"
    }
   ],
   "source": [
    "array7.reshape(3,4)"
   ]
  },
  {
   "cell_type": "code",
   "execution_count": 33,
   "id": "0c03c0d0-a549-400a-ba8b-4adaf8000042",
   "metadata": {},
   "outputs": [
    {
     "data": {
      "text/plain": [
       "array([[2, 8, 1, 7],\n",
       "       [8, 7, 5, 7],\n",
       "       [6, 7, 7, 1]])"
      ]
     },
     "execution_count": 33,
     "metadata": {},
     "output_type": "execute_result"
    }
   ],
   "source": [
    "array7.reshape(3,-1)             # -1 is unkown number of columns"
   ]
  },
  {
   "cell_type": "markdown",
   "id": "1aafee60-fff0-4cc5-b4d3-6c98cf8deef1",
   "metadata": {},
   "source": [
    "7.random values"
   ]
  },
  {
   "cell_type": "code",
   "execution_count": 34,
   "id": "208e6130-6427-4d95-8d93-e292cd76d15a",
   "metadata": {},
   "outputs": [
    {
     "data": {
      "text/plain": [
       "0.8596689490737165"
      ]
     },
     "execution_count": 34,
     "metadata": {},
     "output_type": "execute_result"
    }
   ],
   "source": [
    "#np.random.seed(195)\n",
    "rand_number = np.random.normal()  \n",
    "rand_number"
   ]
  },
  {
   "cell_type": "code",
   "execution_count": 35,
   "id": "29cec042-c2dc-4aa2-93cd-aeddcfc0dc5f",
   "metadata": {},
   "outputs": [
    {
     "data": {
      "text/plain": [
       "array([[ 0.41576929,  0.55827979, -0.5176373 ],\n",
       "       [ 0.69368917,  0.73190977,  0.34010602]])"
      ]
     },
     "execution_count": 35,
     "metadata": {},
     "output_type": "execute_result"
    }
   ],
   "source": [
    "#np.random.seed(217)\n",
    "array8 = np.random.normal(size = (2,3))    # Creates a random normal distribution of 2 rows and 3 coloumns\n",
    "array8"
   ]
  },
  {
   "cell_type": "code",
   "execution_count": 36,
   "id": "f426458d-7414-46bc-a4f7-aa64c137768c",
   "metadata": {},
   "outputs": [
    {
     "data": {
      "text/plain": [
       "array([ 0.39328312,  0.19963298, -0.75403157, -1.92103644])"
      ]
     },
     "execution_count": 36,
     "metadata": {},
     "output_type": "execute_result"
    }
   ],
   "source": [
    "array8 = np.random.normal(size = (4))      # Creates a random normal distribution of 1 row and 4 coloumns\n",
    "array8"
   ]
  },
  {
   "cell_type": "code",
   "execution_count": null,
   "id": "87a1e668-b6cc-4720-a6c4-37d093a63170",
   "metadata": {},
   "outputs": [],
   "source": [
    "#END"
   ]
  }
 ],
 "metadata": {
  "kernelspec": {
   "display_name": "Python 3 (ipykernel)",
   "language": "python",
   "name": "python3"
  },
  "language_info": {
   "codemirror_mode": {
    "name": "ipython",
    "version": 3
   },
   "file_extension": ".py",
   "mimetype": "text/x-python",
   "name": "python",
   "nbconvert_exporter": "python",
   "pygments_lexer": "ipython3",
   "version": "3.12.7"
  }
 },
 "nbformat": 4,
 "nbformat_minor": 5
}
