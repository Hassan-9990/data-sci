{
 "cells": [
  {
   "cell_type": "code",
   "execution_count": null,
   "id": "9d88dd70",
   "metadata": {},
   "outputs": [],
   "source": [
    "# Exception Handling\n",
    "\n",
    "# Compile error (error in syntax) (add on)\n",
    "# Logical error (output is not desired)\n",
    "# Run time error (some time output in incorrect)\n",
    "\n",
    "# Note the output by changing b=2 and b=0 (add on)\n",
    "try:\n",
    "     print('start')\n",
    "     print(a / b)\n",
    "\n",
    " except Exception as e:\n",
    "    print(\"you are having an error as: \", e)\n",
    "     \n",
    " print('end')\n",
    "\n",
    "\n",
    "\n",
    "# Note the output by changing b=2 and b=0\n",
    "try:\n",
    "     print('start')\n",
    "     print(a / b)\n",
    "\n",
    " except Exception as e:\n",
    "     print(\"you are having an error as: \", e)\n",
    "     print('end')\n",
    "\n",
    " finally:\n",
    "     print('I am going to print in any case')\n",
    "\n",
    "\n",
    "\n",
    "# simple program\n",
    "try:\n",
    "    x = int(\"abc\")\n",
    "except ValueError:\n",
    "    print(\"Caught ValueError\")\n",
    "\n",
    "try:\n",
    "    f = open(\"nofile.txt\")\n",
    "except FileNotFoundError:\n",
    "    print(\"File not found\")\n",
    "\n",
    "finally:\n",
    "    print(\"Done handling errors\")\n"
   ]
  },
  {
   "cell_type": "markdown",
   "id": "2f0188cc-6631-4fa3-8a0b-269ed0d81b75",
   "metadata": {},
   "source": [
    "# Exception Handling\n",
    "\n",
    "# Compile error (error in syntax) (add on)\n",
    "# Logical error (output is not desired)\n",
    "# Run time error (some time output in incorrect)"
   ]
  },
  {
   "cell_type": "code",
   "execution_count": 5,
   "id": "49190b80-1920-45d1-90dc-63e452ee924c",
   "metadata": {},
   "outputs": [
    {
     "name": "stdout",
     "output_type": "stream",
     "text": [
      "start\n",
      "you are having an error as:  name 'a' is not defined\n",
      "end\n"
     ]
    }
   ],
   "source": [
    "# Note the output by changing b=2 and b=0 (add on)\n",
    "\n",
    "try:\n",
    "     print('start')\n",
    "     print(a / b)\n",
    "\n",
    "except Exception as e:\n",
    "    print(\"you are having an error as: \", e)\n",
    "     \n",
    "print('end')"
   ]
  },
  {
   "cell_type": "code",
   "execution_count": 12,
   "id": "7a49ea28-bfa8-454e-9959-617803c2e8fb",
   "metadata": {},
   "outputs": [
    {
     "name": "stdout",
     "output_type": "stream",
     "text": [
      "start\n",
      "you are having an error as:  name 'a' is not defined\n",
      "end\n",
      "I am going to print in any case\n"
     ]
    }
   ],
   "source": [
    "# Note the output by changing b=2 and b=0\n",
    "try:\n",
    "     print('start')\n",
    "     print(a / b)\n",
    "\n",
    "except Exception as e:\n",
    "    print(\"you are having an error as: \", e)\n",
    "    print('end')\n",
    "\n",
    "finally:\n",
    "     print('I am going to print in any case')"
   ]
  },
  {
   "cell_type": "code",
   "execution_count": 13,
   "id": "a58bde92-8c5f-45bd-96a5-6d43ba6c8bfd",
   "metadata": {},
   "outputs": [
    {
     "name": "stdout",
     "output_type": "stream",
     "text": [
      "Caught ValueError\n",
      "File not found\n",
      "Done handling errors\n"
     ]
    }
   ],
   "source": [
    "# simple program\n",
    "try:\n",
    "    x = int(\"abc\")\n",
    "except ValueError:\n",
    "    print(\"Caught ValueError\")\n",
    "\n",
    "try:\n",
    "    f = open(\"nofile.txt\")\n",
    "except FileNotFoundError:\n",
    "    print(\"File not found\")\n",
    "\n",
    "finally:\n",
    "    print(\"Done handling errors\")\n"
   ]
  },
  {
   "cell_type": "code",
   "execution_count": null,
   "id": "c8ec2ddb-853d-4d55-91f6-983f6924017e",
   "metadata": {},
   "outputs": [],
   "source": []
  }
 ],
 "metadata": {
  "kernelspec": {
   "display_name": "Python 3 (ipykernel)",
   "language": "python",
   "name": "python3"
  },
  "language_info": {
   "codemirror_mode": {
    "name": "ipython",
    "version": 3
   },
   "file_extension": ".py",
   "mimetype": "text/x-python",
   "name": "python",
   "nbconvert_exporter": "python",
   "pygments_lexer": "ipython3",
   "version": "3.12.7"
  }
 },
 "nbformat": 4,
 "nbformat_minor": 5
}
