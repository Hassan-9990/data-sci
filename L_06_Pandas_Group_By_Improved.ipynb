{
 "cells": [
  {
   "cell_type": "markdown",
   "id": "4284742b-94c0-4328-b2c1-826e11298ab7",
   "metadata": {},
   "source": [
    "# L_06: Pandas Group By\n",
    "\n",
    "Learn how to use `groupby()` to analyze and aggregate data effectively."
   ]
  },
  {
   "cell_type": "code",
   "execution_count": null,
   "id": "d24249f4",
   "metadata": {},
   "outputs": [],
   "source": [
    "import pandas as pd\n",
    "\n",
    "# Sample dataset\n",
    "data = {\n",
    "    'Department': ['Sales', 'Sales', 'HR', 'HR', 'IT', 'IT'],\n",
    "    'Employee': ['Alice', 'Bob', 'Charlie', 'David', 'Eve', 'Frank'],\n",
    "    'Salary': [50000, 60000, 45000, 47000, 70000, 72000],\n",
    "    'Years': [2, 3, 1, 4, 5, 3]\n",
    "}\n",
    "df = pd.DataFrame(data)\n",
    "df"
   ]
  },
  {
   "cell_type": "markdown",
   "id": "6bcbd931-d763-443f-9911-dec668bbe118",
   "metadata": {},
   "source": [
    "Grouping by Department"
   ]
  },
  {
   "cell_type": "code",
   "execution_count": null,
   "id": "3b559c7a",
   "metadata": {},
   "outputs": [],
   "source": [
    "# Average salary per department\n",
    "df.groupby('Department')['Salary'].mean()"
   ]
  },
  {
   "cell_type": "markdown",
   "id": "79d10cbb-066a-49fd-a6cd-df5907088cc6",
   "metadata": {},
   "source": [
    "# Average salary per department\n"
   ]
  },
  {
   "cell_type": "code",
   "execution_count": null,
   "id": "17c68755",
   "metadata": {},
   "outputs": [],
   "source": [
    "# Apply multiple aggregation functions\n",
    "df.groupby('Department').agg({\n",
    "    'Salary': ['mean', 'max', 'min'],\n",
    "    'Years': 'sum'\n",
    "})"
   ]
  },
  {
   "cell_type": "markdown",
   "id": "4b71385e-6583-408c-ae3b-68c5bc741b14",
   "metadata": {},
   "source": [
    "### Filtering after groupby"
   ]
  },
  {
   "cell_type": "code",
   "execution_count": null,
   "id": "1df5671f",
   "metadata": {},
   "outputs": [],
   "source": [
    "# Total salary per department and filtering departments with total salary > 100000\n",
    "salary_totals = df.groupby('Department')['Salary'].sum()\n",
    "salary_totals[salary_totals > 100000]"
   ]
  },
  {
   "cell_type": "markdown",
   "id": "88f68be2-3405-4d65-b311-fe787f9d8b77",
   "metadata": {},
   "source": [
    "### Resetting index"
   ]
  },
  {
   "cell_type": "code",
   "execution_count": null,
   "id": "16de4594",
   "metadata": {},
   "outputs": [],
   "source": [
    "# Resetting index after groupby\n",
    "avg_salary = df.groupby('Department')['Salary'].mean().reset_index()\n",
    "avg_salary"
   ]
  },
  {
   "cell_type": "markdown",
   "id": "021b0f02-5db4-4295-8ccd-a898da6a5ff8",
   "metadata": {},
   "source": [
    "# L_06: Pandas Group By\n",
    "\n",
    "Learn how to use `groupby()` to analyze and aggregate data effectively."
   ]
  },
  {
   "cell_type": "code",
   "execution_count": 1,
   "id": "70679b86-b2f8-4ae9-8126-2ac2697a2bf2",
   "metadata": {},
   "outputs": [
    {
     "data": {
      "text/html": [
       "<div>\n",
       "<style scoped>\n",
       "    .dataframe tbody tr th:only-of-type {\n",
       "        vertical-align: middle;\n",
       "    }\n",
       "\n",
       "    .dataframe tbody tr th {\n",
       "        vertical-align: top;\n",
       "    }\n",
       "\n",
       "    .dataframe thead th {\n",
       "        text-align: right;\n",
       "    }\n",
       "</style>\n",
       "<table border=\"1\" class=\"dataframe\">\n",
       "  <thead>\n",
       "    <tr style=\"text-align: right;\">\n",
       "      <th></th>\n",
       "      <th>Department</th>\n",
       "      <th>Employee</th>\n",
       "      <th>Salary</th>\n",
       "      <th>Years</th>\n",
       "    </tr>\n",
       "  </thead>\n",
       "  <tbody>\n",
       "    <tr>\n",
       "      <th>0</th>\n",
       "      <td>Sales</td>\n",
       "      <td>Alice</td>\n",
       "      <td>50000</td>\n",
       "      <td>2</td>\n",
       "    </tr>\n",
       "    <tr>\n",
       "      <th>1</th>\n",
       "      <td>Sales</td>\n",
       "      <td>Bob</td>\n",
       "      <td>60000</td>\n",
       "      <td>3</td>\n",
       "    </tr>\n",
       "    <tr>\n",
       "      <th>2</th>\n",
       "      <td>HR</td>\n",
       "      <td>Charlie</td>\n",
       "      <td>45000</td>\n",
       "      <td>1</td>\n",
       "    </tr>\n",
       "    <tr>\n",
       "      <th>3</th>\n",
       "      <td>HR</td>\n",
       "      <td>David</td>\n",
       "      <td>47000</td>\n",
       "      <td>4</td>\n",
       "    </tr>\n",
       "    <tr>\n",
       "      <th>4</th>\n",
       "      <td>IT</td>\n",
       "      <td>Eve</td>\n",
       "      <td>70000</td>\n",
       "      <td>5</td>\n",
       "    </tr>\n",
       "    <tr>\n",
       "      <th>5</th>\n",
       "      <td>IT</td>\n",
       "      <td>Frank</td>\n",
       "      <td>72000</td>\n",
       "      <td>3</td>\n",
       "    </tr>\n",
       "  </tbody>\n",
       "</table>\n",
       "</div>"
      ],
      "text/plain": [
       "  Department Employee  Salary  Years\n",
       "0      Sales    Alice   50000      2\n",
       "1      Sales      Bob   60000      3\n",
       "2         HR  Charlie   45000      1\n",
       "3         HR    David   47000      4\n",
       "4         IT      Eve   70000      5\n",
       "5         IT    Frank   72000      3"
      ]
     },
     "execution_count": 1,
     "metadata": {},
     "output_type": "execute_result"
    }
   ],
   "source": [
    "import pandas as pd\n",
    "\n",
    "# Sample dataset\n",
    "data = {\n",
    "    'Department': ['Sales', 'Sales', 'HR', 'HR', 'IT', 'IT'],\n",
    "    'Employee': ['Alice', 'Bob', 'Charlie', 'David', 'Eve', 'Frank'],\n",
    "    'Salary': [50000, 60000, 45000, 47000, 70000, 72000],\n",
    "    'Years': [2, 3, 1, 4, 5, 3]\n",
    "}\n",
    "df = pd.DataFrame(data)\n",
    "df"
   ]
  },
  {
   "cell_type": "markdown",
   "id": "5a704cae-b266-43d8-8f01-8de0aa6a72cd",
   "metadata": {},
   "source": [
    "Grouping by Department"
   ]
  },
  {
   "cell_type": "code",
   "execution_count": 2,
   "id": "f33c9961-94bd-4b8d-81bf-e2cb882ae475",
   "metadata": {},
   "outputs": [
    {
     "data": {
      "text/plain": [
       "Department\n",
       "HR       46000.0\n",
       "IT       71000.0\n",
       "Sales    55000.0\n",
       "Name: Salary, dtype: float64"
      ]
     },
     "execution_count": 2,
     "metadata": {},
     "output_type": "execute_result"
    }
   ],
   "source": [
    "# Average salary per department\n",
    "df.groupby('Department')['Salary'].mean()"
   ]
  },
  {
   "cell_type": "markdown",
   "id": "86062475-14cb-4a05-b863-10e39d93f23a",
   "metadata": {},
   "source": [
    "# Average salary per department"
   ]
  },
  {
   "cell_type": "code",
   "execution_count": 3,
   "id": "38de151d-204b-4420-8c14-cc97d8fa9aa2",
   "metadata": {},
   "outputs": [
    {
     "data": {
      "text/html": [
       "<div>\n",
       "<style scoped>\n",
       "    .dataframe tbody tr th:only-of-type {\n",
       "        vertical-align: middle;\n",
       "    }\n",
       "\n",
       "    .dataframe tbody tr th {\n",
       "        vertical-align: top;\n",
       "    }\n",
       "\n",
       "    .dataframe thead tr th {\n",
       "        text-align: left;\n",
       "    }\n",
       "\n",
       "    .dataframe thead tr:last-of-type th {\n",
       "        text-align: right;\n",
       "    }\n",
       "</style>\n",
       "<table border=\"1\" class=\"dataframe\">\n",
       "  <thead>\n",
       "    <tr>\n",
       "      <th></th>\n",
       "      <th colspan=\"3\" halign=\"left\">Salary</th>\n",
       "      <th>Years</th>\n",
       "    </tr>\n",
       "    <tr>\n",
       "      <th></th>\n",
       "      <th>mean</th>\n",
       "      <th>max</th>\n",
       "      <th>min</th>\n",
       "      <th>sum</th>\n",
       "    </tr>\n",
       "    <tr>\n",
       "      <th>Department</th>\n",
       "      <th></th>\n",
       "      <th></th>\n",
       "      <th></th>\n",
       "      <th></th>\n",
       "    </tr>\n",
       "  </thead>\n",
       "  <tbody>\n",
       "    <tr>\n",
       "      <th>HR</th>\n",
       "      <td>46000.0</td>\n",
       "      <td>47000</td>\n",
       "      <td>45000</td>\n",
       "      <td>5</td>\n",
       "    </tr>\n",
       "    <tr>\n",
       "      <th>IT</th>\n",
       "      <td>71000.0</td>\n",
       "      <td>72000</td>\n",
       "      <td>70000</td>\n",
       "      <td>8</td>\n",
       "    </tr>\n",
       "    <tr>\n",
       "      <th>Sales</th>\n",
       "      <td>55000.0</td>\n",
       "      <td>60000</td>\n",
       "      <td>50000</td>\n",
       "      <td>5</td>\n",
       "    </tr>\n",
       "  </tbody>\n",
       "</table>\n",
       "</div>"
      ],
      "text/plain": [
       "             Salary               Years\n",
       "               mean    max    min   sum\n",
       "Department                             \n",
       "HR          46000.0  47000  45000     5\n",
       "IT          71000.0  72000  70000     8\n",
       "Sales       55000.0  60000  50000     5"
      ]
     },
     "execution_count": 3,
     "metadata": {},
     "output_type": "execute_result"
    }
   ],
   "source": [
    "# Apply multiple aggregation functions\n",
    "df.groupby('Department').agg({\n",
    "    'Salary': ['mean', 'max', 'min'],\n",
    "    'Years': 'sum'\n",
    "})"
   ]
  },
  {
   "cell_type": "markdown",
   "id": "da92cb00-4011-4dfb-906c-ef4c07947bec",
   "metadata": {},
   "source": [
    "### Filtering after groupby"
   ]
  },
  {
   "cell_type": "code",
   "execution_count": 4,
   "id": "39d1e258-1d25-4a3a-851a-c151308b14a5",
   "metadata": {},
   "outputs": [
    {
     "data": {
      "text/plain": [
       "Department\n",
       "IT       142000\n",
       "Sales    110000\n",
       "Name: Salary, dtype: int64"
      ]
     },
     "execution_count": 4,
     "metadata": {},
     "output_type": "execute_result"
    }
   ],
   "source": [
    "# Total salary per department and filtering departments with total salary > 100000\n",
    "salary_totals = df.groupby('Department')['Salary'].sum()\n",
    "salary_totals[salary_totals > 100000]"
   ]
  },
  {
   "cell_type": "markdown",
   "id": "407a3925-c2a0-417e-8337-da135ad15b32",
   "metadata": {},
   "source": [
    "### Resetting index"
   ]
  },
  {
   "cell_type": "code",
   "execution_count": 5,
   "id": "772bd375-1354-47ed-a9c7-a1c4b2a7f8a0",
   "metadata": {},
   "outputs": [
    {
     "data": {
      "text/html": [
       "<div>\n",
       "<style scoped>\n",
       "    .dataframe tbody tr th:only-of-type {\n",
       "        vertical-align: middle;\n",
       "    }\n",
       "\n",
       "    .dataframe tbody tr th {\n",
       "        vertical-align: top;\n",
       "    }\n",
       "\n",
       "    .dataframe thead th {\n",
       "        text-align: right;\n",
       "    }\n",
       "</style>\n",
       "<table border=\"1\" class=\"dataframe\">\n",
       "  <thead>\n",
       "    <tr style=\"text-align: right;\">\n",
       "      <th></th>\n",
       "      <th>Department</th>\n",
       "      <th>Salary</th>\n",
       "    </tr>\n",
       "  </thead>\n",
       "  <tbody>\n",
       "    <tr>\n",
       "      <th>0</th>\n",
       "      <td>HR</td>\n",
       "      <td>46000.0</td>\n",
       "    </tr>\n",
       "    <tr>\n",
       "      <th>1</th>\n",
       "      <td>IT</td>\n",
       "      <td>71000.0</td>\n",
       "    </tr>\n",
       "    <tr>\n",
       "      <th>2</th>\n",
       "      <td>Sales</td>\n",
       "      <td>55000.0</td>\n",
       "    </tr>\n",
       "  </tbody>\n",
       "</table>\n",
       "</div>"
      ],
      "text/plain": [
       "  Department   Salary\n",
       "0         HR  46000.0\n",
       "1         IT  71000.0\n",
       "2      Sales  55000.0"
      ]
     },
     "execution_count": 5,
     "metadata": {},
     "output_type": "execute_result"
    }
   ],
   "source": [
    "# Resetting index after groupby\n",
    "avg_salary = df.groupby('Department')['Salary'].mean().reset_index()\n",
    "avg_salary"
   ]
  },
  {
   "cell_type": "code",
   "execution_count": null,
   "id": "eb1565fc-d9b3-4d3f-bc47-f35be8f1ea91",
   "metadata": {},
   "outputs": [],
   "source": []
  }
 ],
 "metadata": {
  "kernelspec": {
   "display_name": "Python 3 (ipykernel)",
   "language": "python",
   "name": "python3"
  },
  "language_info": {
   "codemirror_mode": {
    "name": "ipython",
    "version": 3
   },
   "file_extension": ".py",
   "mimetype": "text/x-python",
   "name": "python",
   "nbconvert_exporter": "python",
   "pygments_lexer": "ipython3",
   "version": "3.12.7"
  }
 },
 "nbformat": 4,
 "nbformat_minor": 5
}
